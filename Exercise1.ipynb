{
 "cells": [
  {
   "cell_type": "markdown",
   "id": "ceec28ef-037a-4de8-a7e8-b277194d30cb",
   "metadata": {},
   "source": [
    "### Exercise 1"
   ]
  },
  {
   "cell_type": "markdown",
   "id": "d744d548-3021-49b0-8fd1-a0bbd9fdaf60",
   "metadata": {},
   "source": [
    "Given two integer numbers return their product only if the product is equal to or lower than 1000, else return their sum."
   ]
  },
  {
   "cell_type": "code",
   "execution_count": 1,
   "id": "2839ae3c-aa6d-4592-9778-137716e3824e",
   "metadata": {},
   "outputs": [
    {
     "name": "stdin",
     "output_type": "stream",
     "text": [
      "enter your first number:  22\n",
      "enter your second number:  23\n"
     ]
    },
    {
     "name": "stdout",
     "output_type": "stream",
     "text": [
      " your result would be 506\n"
     ]
    }
   ],
   "source": [
    "# My initial answer:\n",
    "\n",
    "a = int( input('enter your first number: '));\n",
    "b = int(input('enter your second number: '));\n",
    "product1 = a * b;\n",
    "sum1 = a + b;\n",
    "if product1 < 1000:\n",
    "    print(f' your result would be {product1}');\n",
    "else:\n",
    "    print(f' your result would be {sum1}');"
   ]
  },
  {
   "cell_type": "code",
   "execution_count": 2,
   "id": "095c2fd8-19f7-4fd1-8d33-4bbc89ceb747",
   "metadata": {},
   "outputs": [
    {
     "name": "stdout",
     "output_type": "stream",
     "text": [
      "The result is 600\n",
      "The result is 70\n"
     ]
    }
   ],
   "source": [
    "# Sample answer:\n",
    "def multiplication_or_sum(num1, num2):\n",
    "    # calculate product of two number\n",
    "    product = num1 * num2\n",
    "    # check if product is less then 1000\n",
    "    if product <= 1000:\n",
    "        return product\n",
    "    else:\n",
    "        # product is greater than 1000 calculate sum\n",
    "        return num1 + num2\n",
    "\n",
    "# first condition\n",
    "result = multiplication_or_sum(20, 30)\n",
    "print(\"The result is\", result)\n",
    "\n",
    "# Second condition\n",
    "result = multiplication_or_sum(40, 30)\n",
    "print(\"The result is\", result)"
   ]
  },
  {
   "cell_type": "raw",
   "id": "e1d5368a-b844-4b67-baf8-fe2cd4f55b68",
   "metadata": {},
   "source": []
  },
  {
   "cell_type": "markdown",
   "id": "58d85b7c-5b1a-4def-aae2-781dc32dac66",
   "metadata": {},
   "source": [
    "In the previous exercise, change the codes in a way that instead of 2 integer numbers we can give as many number as we want:"
   ]
  },
  {
   "cell_type": "code",
   "execution_count": 3,
   "id": "3e7c59c5-3bb9-4cef-9d95-59693bebbbad",
   "metadata": {},
   "outputs": [
    {
     "name": "stdout",
     "output_type": "stream",
     "text": [
      "the result is 35\n",
      "the result is 400\n"
     ]
    }
   ],
   "source": [
    "# My answer:\n",
    "def product_or_sum(*args):\n",
    "    # calculate their product and their sum:\n",
    "    prod = 1\n",
    "    summ = 0\n",
    "    for item in args:\n",
    "        prod = prod * item\n",
    "        summ = summ + item\n",
    "    # return their product if it's smaller than 1000:\n",
    "    if prod < 1000:\n",
    "        return prod\n",
    "    else:\n",
    "    # return their sum if their product is larger than 1000:\n",
    "        return summ\n",
    "    \n",
    "# First Condition\n",
    "result = product_or_sum(10, 5, 20)\n",
    "print(f'the result is {result}')\n",
    "\n",
    "# Second Condition\n",
    "result = product_or_sum(2, 4, 10, 5)\n",
    "print(f'the result is {result}')"
   ]
  }
 ],
 "metadata": {
  "kernelspec": {
   "display_name": "Python 3 (ipykernel)",
   "language": "python",
   "name": "python3"
  },
  "language_info": {
   "codemirror_mode": {
    "name": "ipython",
    "version": 3
   },
   "file_extension": ".py",
   "mimetype": "text/x-python",
   "name": "python",
   "nbconvert_exporter": "python",
   "pygments_lexer": "ipython3",
   "version": "3.9.7"
  }
 },
 "nbformat": 4,
 "nbformat_minor": 5
}
