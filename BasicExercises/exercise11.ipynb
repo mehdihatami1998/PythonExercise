{
 "cells": [
  {
   "cell_type": "markdown",
   "id": "c9b872ab-5f78-4e78-99fe-2e24eb277aa3",
   "metadata": {},
   "source": [
    "Write a Program to extract each digit from an integer in the reverse order.\n",
    "For example, If the given int is 7536, the output shall be “6 3 5 7“, with a space separating the digits."
   ]
  },
  {
   "cell_type": "code",
   "execution_count": 17,
   "id": "c0a39907-eb63-489f-9626-8f9ee62263da",
   "metadata": {},
   "outputs": [
    {
     "name": "stdout",
     "output_type": "stream",
     "text": [
      "7 6 5 4 3 "
     ]
    }
   ],
   "source": [
    "# My Answer:\n",
    "def digitizer(num):\n",
    "    string_num = str(num)\n",
    "    newNum = string_num[::-1]\n",
    "    for i in range (len(newNum)):\n",
    "        print(newNum[i], end=\" \")\n",
    "        \n",
    "digitizer(34567)"
   ]
  },
  {
   "cell_type": "code",
   "execution_count": 19,
   "id": "ecb72a2e-1800-4f2a-8f53-31bcea83d4fe",
   "metadata": {},
   "outputs": [
    {
     "name": "stdout",
     "output_type": "stream",
     "text": [
      "Given number 34567\n",
      "7 6 5 4 3 "
     ]
    }
   ],
   "source": [
    "# Sample Answer:\n",
    "number = 34567\n",
    "print(\"Given number\", number)\n",
    "while number > 0:\n",
    "    # get the last digit\n",
    "    digit = number % 10\n",
    "    # remove the last digit and repeat the loop\n",
    "    number = number // 10\n",
    "    print(digit, end=\" \")"
   ]
  }
 ],
 "metadata": {
  "kernelspec": {
   "display_name": "Python 3 (ipykernel)",
   "language": "python",
   "name": "python3"
  },
  "language_info": {
   "codemirror_mode": {
    "name": "ipython",
    "version": 3
   },
   "file_extension": ".py",
   "mimetype": "text/x-python",
   "name": "python",
   "nbconvert_exporter": "python",
   "pygments_lexer": "ipython3",
   "version": "3.9.7"
  }
 },
 "nbformat": 4,
 "nbformat_minor": 5
}
