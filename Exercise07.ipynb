{
 "cells": [
  {
   "cell_type": "markdown",
   "id": "56bd29c7-8cc0-4963-bb6f-36d5bcc09070",
   "metadata": {},
   "source": [
    "Write a program to find how many times substring “Emma” appears in the given string."
   ]
  },
  {
   "cell_type": "code",
   "execution_count": 15,
   "id": "6d6b521c-e976-42ec-912a-dda95f9bdcb9",
   "metadata": {},
   "outputs": [
    {
     "name": "stdin",
     "output_type": "stream",
     "text": [
      "type your string here Emma is good developer. Emma is a writer\n",
      "put your substring that you want to count here Emma\n"
     ]
    },
    {
     "name": "stdout",
     "output_type": "stream",
     "text": [
      " there are 2 \"Emma\" in \"Emma is good developer. Emma is a writer\"\n"
     ]
    }
   ],
   "source": [
    "# My Solution:\n",
    "def count_str():\n",
    "    my_str = input(\"type your string here\")\n",
    "    sub_str = input(\"put your substring that you want to count here\")\n",
    "    count = my_str.count(sub_str)\n",
    "    print(f' there are {count} \"{sub_str}\" in \"{my_str}\"')\n",
    "    \n",
    "count_str()"
   ]
  },
  {
   "cell_type": "code",
   "execution_count": 1,
   "id": "6b84df61-e8c0-45a6-b96f-fa6087040ceb",
   "metadata": {},
   "outputs": [
    {
     "name": "stdout",
     "output_type": "stream",
     "text": [
      "2\n"
     ]
    }
   ],
   "source": [
    "# Sample Answer1\n",
    "str_x = \"Emma is good developer. Emma is a writer\"\n",
    "# use count method of a str class\n",
    "cnt = str_x.count(\"Emma\")\n",
    "print(cnt)"
   ]
  },
  {
   "cell_type": "code",
   "execution_count": 2,
   "id": "7e87289a-7d7f-45d6-8569-aa4cf2eb4b8d",
   "metadata": {},
   "outputs": [
    {
     "name": "stdout",
     "output_type": "stream",
     "text": [
      "Given String:  Emma is good developer. Emma is a writer\n",
      "Emma appeared  2 times\n"
     ]
    }
   ],
   "source": [
    "# Sample Answer2\n",
    "def count_emma(statement):\n",
    "    print(\"Given String: \", statement)\n",
    "    count = 0\n",
    "    for i in range(len(statement) - 1):\n",
    "        count += statement[i: i + 4] == 'Emma'\n",
    "    return count\n",
    "\n",
    "count = count_emma(\"Emma is good developer. Emma is a writer\")\n",
    "print(\"Emma appeared \", count, \"times\")"
   ]
  }
 ],
 "metadata": {
  "kernelspec": {
   "display_name": "Python 3 (ipykernel)",
   "language": "python",
   "name": "python3"
  },
  "language_info": {
   "codemirror_mode": {
    "name": "ipython",
    "version": 3
   },
   "file_extension": ".py",
   "mimetype": "text/x-python",
   "name": "python",
   "nbconvert_exporter": "python",
   "pygments_lexer": "ipython3",
   "version": "3.9.7"
  }
 },
 "nbformat": 4,
 "nbformat_minor": 5
}
