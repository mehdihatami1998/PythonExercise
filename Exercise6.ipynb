{
 "cells": [
  {
   "cell_type": "markdown",
   "id": "bfffd9b9-acb9-49ee-b649-362c011850b7",
   "metadata": {},
   "source": [
    "### Exercise 6"
   ]
  },
  {
   "cell_type": "markdown",
   "id": "b3abe3fd-350a-4dd9-99a7-7af463c2e6ce",
   "metadata": {},
   "source": [
    "Iterate the given list of numbers and print only those numbers which are divisible by 5"
   ]
  },
  {
   "cell_type": "code",
   "execution_count": 4,
   "id": "83bd1840-54db-4bfd-931e-82649af4b034",
   "metadata": {},
   "outputs": [
    {
     "name": "stdout",
     "output_type": "stream",
     "text": [
      "5\n",
      "15\n",
      "30\n",
      "45\n",
      "40\n"
     ]
    }
   ],
   "source": [
    "# My solution:\n",
    "\n",
    "def fivers(myList):\n",
    "    for items in myList:\n",
    "        if items % 5 == 0:\n",
    "            print (items)\n",
    "        else:\n",
    "            pass\n",
    "        \n",
    "    \n",
    "fivers([4, 5, 15, 24, 6, 8, 28, 30, 45, 22, 53, 40])"
   ]
  },
  {
   "cell_type": "code",
   "execution_count": 5,
   "id": "dd5beb85-93a1-46f0-8fec-735124fff103",
   "metadata": {},
   "outputs": [
    {
     "name": "stdout",
     "output_type": "stream",
     "text": [
      "Given list: [10, 20, 33, 46, 55]\n",
      "Divisible by 5:\n",
      "10\n",
      "20\n",
      "55\n"
     ]
    }
   ],
   "source": [
    "# Sample answer:\n",
    "num_list = [10, 20, 33, 46, 55]\n",
    "print(\"Given list:\", num_list)\n",
    "print('Divisible by 5:')\n",
    "for num in num_list:\n",
    "    if num % 5 == 0:\n",
    "        print(num)"
   ]
  }
 ],
 "metadata": {
  "kernelspec": {
   "display_name": "Python 3 (ipykernel)",
   "language": "python",
   "name": "python3"
  },
  "language_info": {
   "codemirror_mode": {
    "name": "ipython",
    "version": 3
   },
   "file_extension": ".py",
   "mimetype": "text/x-python",
   "name": "python",
   "nbconvert_exporter": "python",
   "pygments_lexer": "ipython3",
   "version": "3.9.7"
  }
 },
 "nbformat": 4,
 "nbformat_minor": 5
}
