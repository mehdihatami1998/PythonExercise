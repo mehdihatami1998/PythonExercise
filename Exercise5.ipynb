{
 "cells": [
  {
   "cell_type": "markdown",
   "id": "ef0c4ab8-1ddd-46cd-89d1-457ef4b91a2f",
   "metadata": {},
   "source": [
    "### Exercise 5"
   ]
  },
  {
   "cell_type": "markdown",
   "id": "12b40fbc-bba2-4dda-befd-602c7b9a7d2d",
   "metadata": {},
   "source": [
    "Write a function to return True if the first and last number of a given list is same. If numbers are different then return False."
   ]
  },
  {
   "cell_type": "code",
   "execution_count": 25,
   "id": "f8f3a69a-062c-409b-bbf3-6825b1081635",
   "metadata": {},
   "outputs": [
    {
     "data": {
      "text/plain": [
       "True"
      ]
     },
     "execution_count": 25,
     "metadata": {},
     "output_type": "execute_result"
    }
   ],
   "source": [
    "# My first initial answer:\n",
    "\n",
    "def checkList(myList):\n",
    "    \n",
    "    if myList[0] == myList[-1]:\n",
    "        return True\n",
    "    else:\n",
    "        return False\n",
    "checkList([2, 4, 6, 3, 5, 7, 9, 2])\n"
   ]
  },
  {
   "cell_type": "code",
   "execution_count": null,
   "id": "be3e9b46-f8e6-4bc3-b92a-af3108a30d5b",
   "metadata": {},
   "outputs": [],
   "source": [
    "# Sample Answer:\n"
   ]
  }
 ],
 "metadata": {
  "kernelspec": {
   "display_name": "Python 3 (ipykernel)",
   "language": "python",
   "name": "python3"
  },
  "language_info": {
   "codemirror_mode": {
    "name": "ipython",
    "version": 3
   },
   "file_extension": ".py",
   "mimetype": "text/x-python",
   "name": "python",
   "nbconvert_exporter": "python",
   "pygments_lexer": "ipython3",
   "version": "3.9.7"
  }
 },
 "nbformat": 4,
 "nbformat_minor": 5
}
