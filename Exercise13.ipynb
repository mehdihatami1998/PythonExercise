{
 "cells": [
  {
   "cell_type": "markdown",
   "id": "a9711105-8776-4344-acc5-e3ab42977240",
   "metadata": {},
   "source": [
    "Print downward Half-Pyramid Pattern with Star (asterisk)"
   ]
  },
  {
   "cell_type": "code",
   "execution_count": 2,
   "id": "bc99a610-6a51-4ec0-9c9e-331df0964078",
   "metadata": {},
   "outputs": [
    {
     "name": "stdout",
     "output_type": "stream",
     "text": [
      "* * * * * * * \n",
      "* * * * * * \n",
      "* * * * * \n",
      "* * * * \n",
      "* * * \n",
      "* * \n",
      "* \n"
     ]
    }
   ],
   "source": [
    "# My Answer:\n",
    "def asterisk(num):\n",
    "    newNum = num\n",
    "    for j in range(num):\n",
    "        for i in range(newNum):\n",
    "            print(\"*\", end=\" \")\n",
    "        newNum = newNum -1\n",
    "        print()\n",
    "asterisk(7)"
   ]
  },
  {
   "cell_type": "code",
   "execution_count": 1,
   "id": "d02a2dcb-6290-4554-9a77-1f85ac0c70e2",
   "metadata": {},
   "outputs": [
    {
     "name": "stdout",
     "output_type": "stream",
     "text": [
      "* * * * * *  \n",
      "* * * * *  \n",
      "* * * *  \n",
      "* * *  \n",
      "* *  \n",
      "*  \n",
      " \n"
     ]
    }
   ],
   "source": [
    "# Sample Answer:\n",
    "for i in range(7, 0, -1):\n",
    "    for j in range(0, i - 1):\n",
    "        print(\"*\", end=' ')\n",
    "    print(\" \")"
   ]
  }
 ],
 "metadata": {
  "kernelspec": {
   "display_name": "Python 3 (ipykernel)",
   "language": "python",
   "name": "python3"
  },
  "language_info": {
   "codemirror_mode": {
    "name": "ipython",
    "version": 3
   },
   "file_extension": ".py",
   "mimetype": "text/x-python",
   "name": "python",
   "nbconvert_exporter": "python",
   "pygments_lexer": "ipython3",
   "version": "3.9.7"
  }
 },
 "nbformat": 4,
 "nbformat_minor": 5
}
