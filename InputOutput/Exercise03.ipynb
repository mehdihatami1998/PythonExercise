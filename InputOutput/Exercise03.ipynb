{
 "cells": [
  {
   "cell_type": "markdown",
   "id": "1a665a45-ffaf-4583-a1a0-0595f4ba3e1f",
   "metadata": {},
   "source": [
    "Convert an Integer number to octal using print() output formatting"
   ]
  },
  {
   "cell_type": "code",
   "execution_count": 34,
   "id": "30b96ed2-12e6-47b9-9de3-6ae5887485da",
   "metadata": {},
   "outputs": [
    {
     "name": "stdin",
     "output_type": "stream",
     "text": [
      "Enter an integer number here 978\n"
     ]
    },
    {
     "name": "stdout",
     "output_type": "stream",
     "text": [
      "1722\n"
     ]
    }
   ],
   "source": [
    "# My Answer:\n",
    "def decimal_to_octal():\n",
    "    \"\"\"\n",
    "    This function asks for an integer number and returns its octal equivallant\n",
    "    \n",
    "     Args:\n",
    "     decimal_num: a number asked from user\n",
    "     \n",
    "     Returns:\n",
    "     octal_num: exact number in octal representation\n",
    "     \"\"\"\n",
    "    # change the input to integer simultaneously with int()\n",
    "    decimal_num = int(input(\"Enter an integer number here\"))\n",
    "    print(\"%o\" %decimal_num)\n",
    "    \n",
    "    \n",
    "# code_driver:\n",
    "decimal_to_octal()"
   ]
  },
  {
   "cell_type": "code",
   "execution_count": 39,
   "id": "d9566af4-e01a-421c-a78c-354bfeb34f40",
   "metadata": {},
   "outputs": [
    {
     "name": "stdout",
     "output_type": "stream",
     "text": [
      "1722\n"
     ]
    }
   ],
   "source": [
    "# Sample Answer:\n",
    "\n",
    "num = 978\n",
    "print('%o' % num)"
   ]
  },
  {
   "cell_type": "markdown",
   "id": "b972b703-abb0-4481-9a67-9069fb617fd5",
   "metadata": {},
   "source": [
    "  "
   ]
  }
 ],
 "metadata": {
  "kernelspec": {
   "display_name": "Python 3 (ipykernel)",
   "language": "python",
   "name": "python3"
  },
  "language_info": {
   "codemirror_mode": {
    "name": "ipython",
    "version": 3
   },
   "file_extension": ".py",
   "mimetype": "text/x-python",
   "name": "python",
   "nbconvert_exporter": "python",
   "pygments_lexer": "ipython3",
   "version": "3.9.7"
  }
 },
 "nbformat": 4,
 "nbformat_minor": 5
}
