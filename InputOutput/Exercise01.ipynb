{
 "cells": [
  {
   "cell_type": "markdown",
   "id": "26d6e1c3-c558-4ae2-b3a7-a1236ef15df1",
   "metadata": {},
   "source": [
    "Write a program to accept two numbers from the user and calculate multiplication"
   ]
  },
  {
   "cell_type": "code",
   "execution_count": 3,
   "id": "a3e70b7a-ee2e-46d5-a250-91db19846a21",
   "metadata": {},
   "outputs": [
    {
     "name": "stdin",
     "output_type": "stream",
     "text": [
      "enter your first number 22\n",
      "enter your second number 45\n"
     ]
    },
    {
     "name": "stdout",
     "output_type": "stream",
     "text": [
      " The products of your numbers is: 990\n"
     ]
    }
   ],
   "source": [
    "# My Answer:\n",
    "def multiple():\n",
    "    # asks user to enter any arbitrary number\n",
    "    a = input(\"enter your first number\")\n",
    "    b = input(\"enter your second number\")\n",
    "    # change type of inputs from string to int\n",
    "    a_num = int(a)\n",
    "    b_num = int(b)\n",
    "    product = a_num * b_num\n",
    "    print(f' The products of your numbers is: {product}')\n",
    "\n",
    "multiple()"
   ]
  },
  {
   "cell_type": "code",
   "execution_count": 4,
   "id": "acf98eb6-e7a9-45fd-a97f-fc61b3302177",
   "metadata": {},
   "outputs": [
    {
     "name": "stdin",
     "output_type": "stream",
     "text": [
      "Enter first number  22\n",
      "Enter second number  45\n"
     ]
    },
    {
     "name": "stdout",
     "output_type": "stream",
     "text": [
      "Multiplication is 990\n"
     ]
    }
   ],
   "source": [
    "# Sample Answer:\n",
    "num1 = int(input(\"Enter first number \"))\n",
    "num2 = int(input(\"Enter second number \"))\n",
    "\n",
    "res = num1 * num2\n",
    "print(\"Multiplication is\", res)"
   ]
  }
 ],
 "metadata": {
  "kernelspec": {
   "display_name": "Python 3 (ipykernel)",
   "language": "python",
   "name": "python3"
  },
  "language_info": {
   "codemirror_mode": {
    "name": "ipython",
    "version": 3
   },
   "file_extension": ".py",
   "mimetype": "text/x-python",
   "name": "python",
   "nbconvert_exporter": "python",
   "pygments_lexer": "ipython3",
   "version": "3.9.7"
  }
 },
 "nbformat": 4,
 "nbformat_minor": 5
}
