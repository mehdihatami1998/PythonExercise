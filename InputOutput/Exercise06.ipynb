{
 "cells": [
  {
   "cell_type": "markdown",
   "id": "acfeecaa-5f79-4819-a18c-e7ac9eb122a8",
   "metadata": {},
   "source": [
    "Accept a list of 5 float numbers as an input from the user"
   ]
  },
  {
   "cell_type": "code",
   "execution_count": 11,
   "id": "6843046a-0d5e-44fa-8203-8b58e36c4d7f",
   "metadata": {},
   "outputs": [
    {
     "name": "stdin",
     "output_type": "stream",
     "text": [
      "Enter a number for position 0: 23\n",
      "Enter a number for position 1: 45\n",
      "Enter a number for position 2: 98\n",
      "Enter a number for position 3: 52\n",
      "Enter a number for position 4: 64\n"
     ]
    },
    {
     "name": "stdout",
     "output_type": "stream",
     "text": [
      "List of your numbers: [23, 45, 98, 52, 64]\n"
     ]
    }
   ],
   "source": [
    "# My Answer:\n",
    "def list_getter():\n",
    "    \"\"\"\n",
    "    Args:\n",
    "    my_list (list): an empty list to which the input numbers will be appended\n",
    "    my_num (int): numbers of a list which is asked from the user 5 times\n",
    "    Return:\n",
    "    my_list (list)\n",
    "    \"\"\"\n",
    "    my_list = []\n",
    "    for i in range(5):\n",
    "        my_num = int(input(f'Enter a number for position {i}:'))\n",
    "        my_list.append(my_num)\n",
    "    print(f'List of your numbers: {my_list}')\n",
    "\n",
    "list_getter()"
   ]
  },
  {
   "cell_type": "code",
   "execution_count": 12,
   "id": "4f3b3973-1293-4824-9027-85be250b0974",
   "metadata": {},
   "outputs": [
    {
     "name": "stdout",
     "output_type": "stream",
     "text": [
      "Enter number at location 0 :\n"
     ]
    },
    {
     "name": "stdin",
     "output_type": "stream",
     "text": [
      " 23\n"
     ]
    },
    {
     "name": "stdout",
     "output_type": "stream",
     "text": [
      "Enter number at location 1 :\n"
     ]
    },
    {
     "name": "stdin",
     "output_type": "stream",
     "text": [
      " 45\n"
     ]
    },
    {
     "name": "stdout",
     "output_type": "stream",
     "text": [
      "Enter number at location 2 :\n"
     ]
    },
    {
     "name": "stdin",
     "output_type": "stream",
     "text": [
      " 98\n"
     ]
    },
    {
     "name": "stdout",
     "output_type": "stream",
     "text": [
      "Enter number at location 3 :\n"
     ]
    },
    {
     "name": "stdin",
     "output_type": "stream",
     "text": [
      " 52\n"
     ]
    },
    {
     "name": "stdout",
     "output_type": "stream",
     "text": [
      "Enter number at location 4 :\n"
     ]
    },
    {
     "name": "stdin",
     "output_type": "stream",
     "text": [
      " 64\n"
     ]
    },
    {
     "name": "stdout",
     "output_type": "stream",
     "text": [
      "User List: [23.0, 45.0, 98.0, 52.0, 64.0]\n"
     ]
    }
   ],
   "source": [
    "### Sample Answer:\n",
    "numbers = []\n",
    "\n",
    "# 5 is the list size\n",
    "# run loop 5 times\n",
    "for i in range(0, 5):\n",
    "    print(\"Enter number at location\", i, \":\")\n",
    "    # accept float number from user\n",
    "    item = float(input())\n",
    "    # add it to the list\n",
    "    numbers.append(item)\n",
    "\n",
    "print(\"User List:\", numbers)"
   ]
  }
 ],
 "metadata": {
  "kernelspec": {
   "display_name": "Python 3 (ipykernel)",
   "language": "python",
   "name": "python3"
  },
  "language_info": {
   "codemirror_mode": {
    "name": "ipython",
    "version": 3
   },
   "file_extension": ".py",
   "mimetype": "text/x-python",
   "name": "python",
   "nbconvert_exporter": "python",
   "pygments_lexer": "ipython3",
   "version": "3.9.7"
  }
 },
 "nbformat": 4,
 "nbformat_minor": 5
}
