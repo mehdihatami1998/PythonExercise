{
 "cells": [
  {
   "cell_type": "markdown",
   "id": "dbd308fa-09f1-49c1-8168-554167470f62",
   "metadata": {},
   "source": [
    "Get a list of strings as input from a user and calculate the sum of it"
   ]
  },
  {
   "cell_type": "code",
   "execution_count": 24,
   "id": "e973cbbb-4f4b-40ff-b010-23448b9c808b",
   "metadata": {},
   "outputs": [
    {
     "name": "stdin",
     "output_type": "stream",
     "text": [
      "Enter elements of a list separated by a comma:  12, 13, 14, 15, 16\n"
     ]
    },
    {
     "name": "stdout",
     "output_type": "stream",
     "text": [
      " The sum of numbers in the list is: 70\n"
     ]
    }
   ],
   "source": [
    "# My Answer:\n",
    "def list_getter():\n",
    "    \"\"\"\n",
    "    Args:\n",
    "    my_string (str): a string which is asked from user to Enter\n",
    "    my_list (list): a list containing the separated elements of my_string\n",
    "    Return:\n",
    "    my_sum (int) : summation of numbers in the list\n",
    "    \"\"\"\n",
    "    \n",
    "    my_string = (input(\"Enter elements of a list separated by a comma: \"))\n",
    "    my_list = my_string.split(\",\")\n",
    "    my_sum = 0\n",
    "    \n",
    "    # run a loop on the list and changing each item of \n",
    "    # the list to an integer and adding it to my_sum simultaneously.\n",
    "    for i in range(len(my_list)):\n",
    "        my_sum = my_sum + int(my_list[i])\n",
    "    print(f' The sum of numbers in the list is: {my_sum}')\n",
    "    \n",
    "list_getter()"
   ]
  },
  {
   "cell_type": "markdown",
   "id": "62525bf0-8781-4b09-aec4-3de85a694b0b",
   "metadata": {},
   "source": [
    "   "
   ]
  },
  {
   "cell_type": "markdown",
   "id": "6417b541-99dd-47ce-a0d9-f4a70ce33d8c",
   "metadata": {},
   "source": [
    "  "
   ]
  }
 ],
 "metadata": {
  "kernelspec": {
   "display_name": "Python 3 (ipykernel)",
   "language": "python",
   "name": "python3"
  },
  "language_info": {
   "codemirror_mode": {
    "name": "ipython",
    "version": 3
   },
   "file_extension": ".py",
   "mimetype": "text/x-python",
   "name": "python",
   "nbconvert_exporter": "python",
   "pygments_lexer": "ipython3",
   "version": "3.9.7"
  }
 },
 "nbformat": 4,
 "nbformat_minor": 5
}
