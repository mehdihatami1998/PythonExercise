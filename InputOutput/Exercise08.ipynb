{
 "cells": [
  {
   "cell_type": "markdown",
   "id": "b5b18913-8d3f-4955-ac59-ea83feb7c436",
   "metadata": {},
   "source": [
    "Accept any three string from one input() call\n"
   ]
  },
  {
   "cell_type": "code",
   "execution_count": 16,
   "id": "364227f2-0208-4eb8-b671-ef4b6610dec0",
   "metadata": {},
   "outputs": [
    {
     "name": "stdin",
     "output_type": "stream",
     "text": [
      "Enter an string here:   lorem\n",
      "Enter an string here:   ipsum\n",
      "Enter an string here:   dolor\n"
     ]
    },
    {
     "name": "stdout",
     "output_type": "stream",
     "text": [
      "\n",
      "This is the first string \tlorem\n",
      "This is the second string \tipsum\n",
      "This is the third string \tdolor\n"
     ]
    }
   ],
   "source": [
    "# My Answer:\n",
    "def stringer():\n",
    "    \"\"\"\n",
    "    Args:\n",
    "    list_str (list): a list to which the strings that user adds will be appended each time\n",
    "    \n",
    "    Return:\n",
    "    str1, str2, str3 (str): three strings that user has entered\n",
    "    \"\"\"\n",
    "    list_str = []\n",
    "    for i in range(3):\n",
    "        list_str.append(input(\"Enter an string here:  \"))\n",
    "    str1, str2, str3 = list_str\n",
    "    print(\"\")\n",
    "    print(f\"This is the first string \\t{str1}\")\n",
    "    print(f\"This is the second string \\t{str2}\")\n",
    "    print(f\"This is the third string \\t{str3}\")\n",
    "\n",
    "stringer()"
   ]
  },
  {
   "cell_type": "code",
   "execution_count": 19,
   "id": "022e2563-58fd-43b1-9426-5004198145d0",
   "metadata": {},
   "outputs": [
    {
     "name": "stdin",
     "output_type": "stream",
     "text": [
      "Enter three string lorem ipsum dolor\n"
     ]
    },
    {
     "name": "stdout",
     "output_type": "stream",
     "text": [
      "Name1: lorem\n",
      "Name2: ipsum\n",
      "Name3: dolor\n"
     ]
    }
   ],
   "source": [
    "# Sample Answer:\n",
    "str1, str2, str3 = input(\"Enter three string\").split()\n",
    "print('Name1:', str1)\n",
    "print('Name2:', str2)\n",
    "print('Name3:', str3)"
   ]
  },
  {
   "cell_type": "code",
   "execution_count": null,
   "id": "1ebde831-a7b9-4d99-a562-fe4030681150",
   "metadata": {},
   "outputs": [],
   "source": []
  }
 ],
 "metadata": {
  "kernelspec": {
   "display_name": "Python 3 (ipykernel)",
   "language": "python",
   "name": "python3"
  },
  "language_info": {
   "codemirror_mode": {
    "name": "ipython",
    "version": 3
   },
   "file_extension": ".py",
   "mimetype": "text/x-python",
   "name": "python",
   "nbconvert_exporter": "python",
   "pygments_lexer": "ipython3",
   "version": "3.9.7"
  }
 },
 "nbformat": 4,
 "nbformat_minor": 5
}
