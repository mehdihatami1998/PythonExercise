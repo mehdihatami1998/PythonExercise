{
 "cells": [
  {
   "cell_type": "markdown",
   "id": "9af8cb39-4599-45b8-97dc-4f78d1fe6aa1",
   "metadata": {},
   "source": [
    " Display float number with 2 decimal places using print()"
   ]
  },
  {
   "cell_type": "code",
   "execution_count": null,
   "id": "fcbee631-4f35-40aa-826f-08c5aeea9c8a",
   "metadata": {},
   "outputs": [],
   "source": [
    "# My Answer:\n",
    "def print_2dec():\n",
    "    \"\"\"\n",
    "    This function asks for a decimal number and returns itself with only 2 decimal places\n",
    "    \n",
    "     Args:\n",
    "     decimal_num: a number asked from user\n",
    "     \n",
    "     Returns:\n",
    "     decimal_2d: same number with only 2 decimal places\n",
    "     \"\"\"\n",
    "    # change the input to integer simultaneously with int()\n",
    "    decimal_num = float(input(\"Enter an integer number here\"))\n",
    "    print(\"%.2f\" %decimal_num)\n",
    "    \n",
    "    \n",
    "# code_driver:\n",
    "print_2dec()"
   ]
  },
  {
   "cell_type": "code",
   "execution_count": null,
   "id": "a96ab53e-5e6f-4719-acda-492a75f8e151",
   "metadata": {},
   "outputs": [],
   "source": [
    "## "
   ]
  }
 ],
 "metadata": {
  "kernelspec": {
   "display_name": "Python 3 (ipykernel)",
   "language": "python",
   "name": "python3"
  },
  "language_info": {
   "codemirror_mode": {
    "name": "ipython",
    "version": 3
   },
   "file_extension": ".py",
   "mimetype": "text/x-python",
   "name": "python",
   "nbconvert_exporter": "python",
   "pygments_lexer": "ipython3",
   "version": "3.9.7"
  }
 },
 "nbformat": 4,
 "nbformat_minor": 5
}
