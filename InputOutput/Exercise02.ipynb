{
 "cells": [
  {
   "cell_type": "markdown",
   "id": "37543f30-71ff-4b5c-bf3b-93732f0f2d42",
   "metadata": {},
   "source": [
    "Use the print() function to format the given words in the mentioned format. Display the ** separator between each string."
   ]
  },
  {
   "cell_type": "code",
   "execution_count": 2,
   "id": "a458eb58-b98b-479e-b034-f374c17a9d3a",
   "metadata": {},
   "outputs": [
    {
     "name": "stdout",
     "output_type": "stream",
     "text": [
      "String_1 ** String_2 ** String_3\n"
     ]
    }
   ],
   "source": [
    "# My Answer:\n",
    "print(\"String_1\", \"String_2\", \"String_3\", sep=\" ** \")"
   ]
  }
 ],
 "metadata": {
  "kernelspec": {
   "display_name": "Python 3 (ipykernel)",
   "language": "python",
   "name": "python3"
  },
  "language_info": {
   "codemirror_mode": {
    "name": "ipython",
    "version": 3
   },
   "file_extension": ".py",
   "mimetype": "text/x-python",
   "name": "python",
   "nbconvert_exporter": "python",
   "pygments_lexer": "ipython3",
   "version": "3.9.7"
  }
 },
 "nbformat": 4,
 "nbformat_minor": 5
}
