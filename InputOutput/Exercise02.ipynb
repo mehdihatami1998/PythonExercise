{
 "cells": [
  {
   "cell_type": "markdown",
   "id": "37543f30-71ff-4b5c-bf3b-93732f0f2d42",
   "metadata": {},
   "source": [
    "Use the print() function to format the given words in the mentioned format. Display the ** separator between each string."
   ]
  },
  {
   "cell_type": "code",
   "execution_count": 26,
   "id": "a458eb58-b98b-479e-b034-f374c17a9d3a",
   "metadata": {},
   "outputs": [
    {
     "name": "stdin",
     "output_type": "stream",
     "text": [
      "type a sentence here:  random sentence to be splitted by asterisk\n"
     ]
    },
    {
     "name": "stdout",
     "output_type": "stream",
     "text": [
      "['random', 'sentence', 'to', 'be', 'splitted', 'by', 'asterisk']\n"
     ]
    }
   ],
   "source": [
    "# My Answer:\n",
    "def prt():\n",
    "    my_str = input('type a sentence here: ')\n",
    "    spl_str = my_str.split(' ')\n",
    "    print(spl_str, sep='**')\n",
    "prt()"
   ]
  },
  {
   "cell_type": "code",
   "execution_count": null,
   "id": "5086e9a8-0b67-4780-b520-ec6241f6994f",
   "metadata": {},
   "outputs": [],
   "source": []
  }
 ],
 "metadata": {
  "kernelspec": {
   "display_name": "Python 3 (ipykernel)",
   "language": "python",
   "name": "python3"
  },
  "language_info": {
   "codemirror_mode": {
    "name": "ipython",
    "version": 3
   },
   "file_extension": ".py",
   "mimetype": "text/x-python",
   "name": "python",
   "nbconvert_exporter": "python",
   "pygments_lexer": "ipython3",
   "version": "3.9.7"
  }
 },
 "nbformat": 4,
 "nbformat_minor": 5
}
