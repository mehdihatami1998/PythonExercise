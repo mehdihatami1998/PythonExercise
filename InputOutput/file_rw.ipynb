{
 "cells": [
  {
   "cell_type": "code",
   "execution_count": 2,
   "id": "8596a367-26f5-41a7-9c85-16a95b00749f",
   "metadata": {},
   "outputs": [
    {
     "name": "stdout",
     "output_type": "stream",
     "text": [
      "done writing\n"
     ]
    }
   ],
   "source": [
    "my_text = 'This is a sample text here'\n",
    "fp = open(\"file_name.txt\", \"w\")\n",
    "fp.write(my_text)\n",
    "print(\"done writing\")\n",
    "fp.close()"
   ]
  },
  {
   "cell_type": "code",
   "execution_count": 9,
   "id": "41680ca0-bac0-4483-9e53-6e2e962bd7cb",
   "metadata": {},
   "outputs": [
    {
     "name": "stdout",
     "output_type": "stream",
     "text": [
      "This is a sample text here\n"
     ]
    }
   ],
   "source": [
    "fp = open(\"file_name.txt\", \"r\")\n",
    "print(fp.read())\n",
    "fp.close()"
   ]
  },
  {
   "cell_type": "code",
   "execution_count": 11,
   "id": "896adff0-b37f-41b3-8f63-d261240d1f45",
   "metadata": {},
   "outputs": [
    {
     "name": "stdout",
     "output_type": "stream",
     "text": [
      "done writing another time\n"
     ]
    }
   ],
   "source": [
    "new_text = \"this is a new sample text which is supposed to overwrite the previous text\"\n",
    "fp = open(\"file_name.txt\", \"w\")\n",
    "fp. write(new_text)\n",
    "print(\"done writing another time\")\n",
    "fp.close()"
   ]
  },
  {
   "cell_type": "code",
   "execution_count": 12,
   "id": "1e28be5f-abc4-4f10-b618-a9b6356a0f2c",
   "metadata": {},
   "outputs": [
    {
     "name": "stdout",
     "output_type": "stream",
     "text": [
      "this is a new sample text which is supposed to overwrite the previous text\n"
     ]
    }
   ],
   "source": [
    "fp = open(\"file_name.txt\", \"r\")\n",
    "print(fp.read())\n",
    "\n"
   ]
  },
  {
   "cell_type": "code",
   "execution_count": 14,
   "id": "24303e37-0fce-4c97-9647-67f47238fec2",
   "metadata": {},
   "outputs": [],
   "source": [
    "fp.close()"
   ]
  },
  {
   "cell_type": "code",
   "execution_count": 15,
   "id": "75149a45-f980-44c9-96ea-2a36ea3d21eb",
   "metadata": {},
   "outputs": [
    {
     "name": "stdout",
     "output_type": "stream",
     "text": [
      "done writingg\n"
     ]
    }
   ],
   "source": [
    "fp = open(\"file_name.txt\", \"w\")\n",
    "fp.write(my_text)\n",
    "print(\"done writingg\")"
   ]
  },
  {
   "cell_type": "code",
   "execution_count": 16,
   "id": "417ef567-d723-4b3a-b0e7-09ba0623d677",
   "metadata": {},
   "outputs": [],
   "source": [
    "fp.close()\n"
   ]
  },
  {
   "cell_type": "code",
   "execution_count": 17,
   "id": "c93fb398-18a9-4d0a-a5e6-a7250ad48be3",
   "metadata": {},
   "outputs": [
    {
     "name": "stdout",
     "output_type": "stream",
     "text": [
      "This is a sample text here\n"
     ]
    }
   ],
   "source": [
    "fp = open(\"file_name.txt\", \"r\")\n",
    "print(fp.read())\n",
    "fp.close()"
   ]
  },
  {
   "cell_type": "code",
   "execution_count": 20,
   "id": "ab731dde-2790-4ebc-90f0-76472e7bcda2",
   "metadata": {},
   "outputs": [],
   "source": [
    "with open(\"file_name.txt\", \"w\") as fp:\n",
    "    fp.write(new_text)\n",
    "    "
   ]
  },
  {
   "cell_type": "code",
   "execution_count": 21,
   "id": "9291ee49-0089-4470-ab9f-eb59345009e7",
   "metadata": {},
   "outputs": [
    {
     "name": "stdout",
     "output_type": "stream",
     "text": [
      "this is a new sample text which is supposed to overwrite the previous text\n"
     ]
    }
   ],
   "source": [
    "with open(\"file_name.txt\", \"r\") as fp:\n",
    "    print(fp.read())"
   ]
  },
  {
   "cell_type": "code",
   "execution_count": 22,
   "id": "3104710b-0715-45c5-b77d-21d85c2370a1",
   "metadata": {},
   "outputs": [],
   "source": [
    "with open(\"file_name.txt\", \"w\") as fp:\n",
    "    fp.write(my_text)\n",
    "    "
   ]
  },
  {
   "cell_type": "code",
   "execution_count": 23,
   "id": "abdcf598-c8df-4722-a47a-bbad826c557e",
   "metadata": {},
   "outputs": [
    {
     "name": "stdout",
     "output_type": "stream",
     "text": [
      "This is a sample text here\n"
     ]
    }
   ],
   "source": [
    "with open(\"file_name.txt\") as fp:\n",
    "    print(fp.read())"
   ]
  },
  {
   "cell_type": "code",
   "execution_count": null,
   "id": "79786075-489e-49d3-9048-a730759f10a3",
   "metadata": {},
   "outputs": [],
   "source": []
  },
  {
   "cell_type": "code",
   "execution_count": null,
   "id": "0d49dde5-590b-4589-8e1e-6d2af53f0119",
   "metadata": {},
   "outputs": [],
   "source": []
  },
  {
   "cell_type": "code",
   "execution_count": 54,
   "id": "a74a34e1-b97e-40ed-b2df-1f032bd22546",
   "metadata": {},
   "outputs": [],
   "source": [
    "with open(\"file_name.txt\", \"a\") as fp:\n",
    "    fp.write(new_text)"
   ]
  },
  {
   "cell_type": "code",
   "execution_count": 63,
   "id": "723b99b2-474d-46dd-8605-50f760602a7f",
   "metadata": {},
   "outputs": [
    {
     "name": "stdout",
     "output_type": "stream",
     "text": [
      "\n",
      "this is a new sample text which is \tsupposed to overwrite the previous text\n",
      "this is a new sample text which is \tsupposed to overwrite the previous text\n",
      "this is a new sample text which is \tsupposed to overwrite the previous text\n"
     ]
    }
   ],
   "source": [
    "with open(\"file_name.txt\", \"r\") as fp:\n",
    "    print(fp.read())"
   ]
  },
  {
   "cell_type": "code",
   "execution_count": 29,
   "id": "6e370e08-3850-48b6-a2dd-548b1cd8bf90",
   "metadata": {},
   "outputs": [],
   "source": [
    "new_text = \"\\nthis is a new sample text which is \\tsupposed to overwrite the previous text\""
   ]
  },
  {
   "cell_type": "code",
   "execution_count": 42,
   "id": "ae0b4e0e-cf66-4fce-86d7-d9870702980e",
   "metadata": {},
   "outputs": [
    {
     "name": "stdout",
     "output_type": "stream",
     "text": [
      "\n"
     ]
    }
   ],
   "source": [
    "with open(\"file_name.txt\", \"a+\") as fp:\n",
    "    print(fp.read())"
   ]
  },
  {
   "cell_type": "code",
   "execution_count": 59,
   "id": "6752a099-0e44-4473-b4a6-4f79fe72c96f",
   "metadata": {},
   "outputs": [
    {
     "name": "stdout",
     "output_type": "stream",
     "text": [
      "\n",
      "\n"
     ]
    }
   ],
   "source": [
    "with open(\"file_name.txt\", \"r\") as fp:\n",
    "    print(fp.readline(10))"
   ]
  },
  {
   "cell_type": "code",
   "execution_count": 65,
   "id": "a8e369fc-f12c-440d-b8ba-f78f77dca822",
   "metadata": {},
   "outputs": [
    {
     "name": "stdout",
     "output_type": "stream",
     "text": [
      "\n",
      "\n"
     ]
    }
   ],
   "source": [
    "with open(\"file_name.txt\", \"r\") as fp:\n",
    "    print(fp.readline())"
   ]
  },
  {
   "cell_type": "code",
   "execution_count": null,
   "id": "cb937ce8-cae8-4058-8393-9eda82ab55d5",
   "metadata": {},
   "outputs": [],
   "source": []
  },
  {
   "cell_type": "code",
   "execution_count": null,
   "id": "c3d3ac39-ecc9-4307-9869-cbf90cfb6b35",
   "metadata": {},
   "outputs": [],
   "source": []
  }
 ],
 "metadata": {
  "kernelspec": {
   "display_name": "Python 3 (ipykernel)",
   "language": "python",
   "name": "python3"
  },
  "language_info": {
   "codemirror_mode": {
    "name": "ipython",
    "version": 3
   },
   "file_extension": ".py",
   "mimetype": "text/x-python",
   "name": "python",
   "nbconvert_exporter": "python",
   "pygments_lexer": "ipython3",
   "version": "3.9.7"
  }
 },
 "nbformat": 4,
 "nbformat_minor": 5
}
