{
 "cells": [
  {
   "cell_type": "markdown",
   "id": "42cb0e48-7b0f-4096-b410-889396abba60",
   "metadata": {},
   "source": [
    "Write all content of a given file into a new file by skipping line number  5"
   ]
  },
  {
   "cell_type": "code",
   "execution_count": null,
   "id": "3ae8205d-4e3a-456a-bcad-232cebc36835",
   "metadata": {},
   "outputs": [],
   "source": []
  }
 ],
 "metadata": {
  "kernelspec": {
   "display_name": "Python 3 (ipykernel)",
   "language": "python",
   "name": "python3"
  },
  "language_info": {
   "codemirror_mode": {
    "name": "ipython",
    "version": 3
   },
   "file_extension": ".py",
   "mimetype": "text/x-python",
   "name": "python",
   "nbconvert_exporter": "python",
   "pygments_lexer": "ipython3",
   "version": "3.9.7"
  }
 },
 "nbformat": 4,
 "nbformat_minor": 5
}
