{
 "cells": [
  {
   "cell_type": "markdown",
   "id": "c462f7e2-9536-4858-9942-90733d119d22",
   "metadata": {},
   "source": [
    "Create a Bus class that inherits from the Vehicle class. Give the capacity argument of Bus.seating_capacity() a default value of 50."
   ]
  },
  {
   "cell_type": "code",
   "execution_count": 1,
   "id": "b970f25b-1521-434e-92a7-00bfa48f50ad",
   "metadata": {},
   "outputs": [],
   "source": [
    "class Vehicle:\n",
    "    def __init__(self, name, max_speed, mileage):\n",
    "        self.name = name\n",
    "        self.max_speed = max_speed\n",
    "        self.mileage = mileage\n",
    "\n",
    "    def seating_capacity(self, capacity):\n",
    "        return f\"The seating capacity of a {self.name} is {capacity} passengers\"\n",
    "\n",
    "class Bus(Vehicle):\n",
    "    \n",
    "    def seating_capacity(self, capacity=50):\n",
    "        return super().seating_capacity(capacity=50)"
   ]
  },
  {
   "cell_type": "code",
   "execution_count": 3,
   "id": "ac3a00b4-abb6-4a78-a14b-ea050e62769a",
   "metadata": {},
   "outputs": [],
   "source": [
    "my_bus = Bus(\"blueBus\", 80, 250000)"
   ]
  },
  {
   "cell_type": "code",
   "execution_count": 6,
   "id": "984af088-8a10-40be-b928-eeaa38d50a25",
   "metadata": {},
   "outputs": [
    {
     "data": {
      "text/plain": [
       "'The seating capacity of a blueBus is 50 passengers'"
      ]
     },
     "execution_count": 6,
     "metadata": {},
     "output_type": "execute_result"
    }
   ],
   "source": [
    "my_bus.seating_capacity()"
   ]
  },
  {
   "cell_type": "code",
   "execution_count": 7,
   "id": "628b1fe0-e934-447d-917f-4fb3ffbbb6e5",
   "metadata": {},
   "outputs": [
    {
     "data": {
      "text/plain": [
       "80"
      ]
     },
     "execution_count": 7,
     "metadata": {},
     "output_type": "execute_result"
    }
   ],
   "source": [
    "my_bus.max_speed"
   ]
  },
  {
   "cell_type": "code",
   "execution_count": 8,
   "id": "e4c41715-ff81-414a-936a-cd43952d5a1a",
   "metadata": {},
   "outputs": [
    {
     "data": {
      "text/plain": [
       "250000"
      ]
     },
     "execution_count": 8,
     "metadata": {},
     "output_type": "execute_result"
    }
   ],
   "source": [
    "my_bus.mileage"
   ]
  }
 ],
 "metadata": {
  "kernelspec": {
   "display_name": "Python 3 (ipykernel)",
   "language": "python",
   "name": "python3"
  },
  "language_info": {
   "codemirror_mode": {
    "name": "ipython",
    "version": 3
   },
   "file_extension": ".py",
   "mimetype": "text/x-python",
   "name": "python",
   "nbconvert_exporter": "python",
   "pygments_lexer": "ipython3",
   "version": "3.9.7"
  }
 },
 "nbformat": 4,
 "nbformat_minor": 5
}
