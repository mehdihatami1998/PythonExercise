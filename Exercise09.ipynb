{
 "cells": [
  {
   "cell_type": "markdown",
   "id": "bf7bc0ea-c702-4217-b613-412c1633b273",
   "metadata": {},
   "source": [
    "Write a program to check if the given number is a palindrome number.\n",
    "\n",
    "A palindrome number is a number that is same after reverse. For example 545, is the palindrome numbers"
   ]
  },
  {
   "cell_type": "code",
   "execution_count": 31,
   "id": "bcb8a9b9-c0c8-4915-898e-cb45e51bae8f",
   "metadata": {},
   "outputs": [
    {
     "name": "stdout",
     "output_type": "stream",
     "text": [
      "your number is a palindrome number\n"
     ]
    }
   ],
   "source": [
    "# My answer:\n",
    "def check_pal(num):\n",
    "    # num = input(\"Enter your number here: \")\n",
    "    num = str(num)\n",
    "    if num == num[::-1]:\n",
    "        print(\"your number is a palindrome number\")\n",
    "    else:\n",
    "        print(\"your number is not a palindrome number\")\n",
    "        \n",
    "check_pal(23232)"
   ]
  },
  {
   "cell_type": "code",
   "execution_count": 33,
   "id": "bb20cb7b-5940-43f2-a15e-b8cee5af2785",
   "metadata": {},
   "outputs": [
    {
     "name": "stdout",
     "output_type": "stream",
     "text": [
      "original number 333\n",
      "Given number palindrome\n"
     ]
    }
   ],
   "source": [
    "# Sample Answer:\n",
    "def palindrome(number):\n",
    "    print(\"original number\", number)\n",
    "    original_num = number\n",
    "    \n",
    "    # reverse the given number\n",
    "    reverse_num = 0\n",
    "    while number > 0:\n",
    "        reminder = number % 10\n",
    "        reverse_num = (reverse_num * 10) + reminder\n",
    "        number = number // 10\n",
    "\n",
    "    # check numbers\n",
    "    if original_num == reverse_num:\n",
    "        print(\"Given number palindrome\")\n",
    "    else:\n",
    "        print(\"Given number is not palindrome\")\n",
    "        \n",
    "palindrome(333)"
   ]
  },
  {
   "cell_type": "code",
   "execution_count": null,
   "id": "9c59654d-ee17-4fa9-99a5-1d771fd678c5",
   "metadata": {},
   "outputs": [],
   "source": []
  }
 ],
 "metadata": {
  "kernelspec": {
   "display_name": "Python 3 (ipykernel)",
   "language": "python",
   "name": "python3"
  },
  "language_info": {
   "codemirror_mode": {
    "name": "ipython",
    "version": 3
   },
   "file_extension": ".py",
   "mimetype": "text/x-python",
   "name": "python",
   "nbconvert_exporter": "python",
   "pygments_lexer": "ipython3",
   "version": "3.9.7"
  }
 },
 "nbformat": 4,
 "nbformat_minor": 5
}
