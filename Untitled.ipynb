{
 "cells": [
  {
   "cell_type": "code",
   "execution_count": 1,
   "id": "26944d5f-86ae-4cf0-8c20-801232a892fa",
   "metadata": {},
   "outputs": [],
   "source": []
  },
  {
   "cell_type": "code",
   "execution_count": 2,
   "id": "17593fea-af96-45d9-9635-dcf6f2a93099",
   "metadata": {},
   "outputs": [],
   "source": [
    "import pandas as pd"
   ]
  },
  {
   "cell_type": "code",
   "execution_count": 3,
   "id": "6f696000-f4d6-412e-947c-d2a56fdc3fce",
   "metadata": {},
   "outputs": [],
   "source": [
    "from faker import Faker"
   ]
  },
  {
   "cell_type": "code",
   "execution_count": 4,
   "id": "f57cfd63-1e5a-487d-9c1d-419717626950",
   "metadata": {},
   "outputs": [],
   "source": [
    "fa_fake = Faker(\"fa\")"
   ]
  },
  {
   "cell_type": "code",
   "execution_count": 5,
   "id": "993f9c97-3c3a-46ef-b290-bc5ebb04a59b",
   "metadata": {},
   "outputs": [
    {
     "ename": "SyntaxError",
     "evalue": "invalid syntax (2769953221.py, line 1)",
     "output_type": "error",
     "traceback": [
      "\u001b[0;36m  File \u001b[0;32m\"/var/folders/vw/_7ms67xn1jxb_9zqbfcn4q080000gn/T/ipykernel_43527/2769953221.py\"\u001b[0;36m, line \u001b[0;32m1\u001b[0m\n\u001b[0;31m    dir fa_fake\u001b[0m\n\u001b[0m        ^\u001b[0m\n\u001b[0;31mSyntaxError\u001b[0m\u001b[0;31m:\u001b[0m invalid syntax\n"
     ]
    }
   ],
   "source": [
    "dir fa_fake"
   ]
  },
  {
   "cell_type": "code",
   "execution_count": 6,
   "id": "ac9683ed-ab71-450c-a5e0-4b628c828b4e",
   "metadata": {},
   "outputs": [
    {
     "data": {
      "text/plain": [
       "['__annotations__',\n",
       " '__class__',\n",
       " '__deepcopy__',\n",
       " '__delattr__',\n",
       " '__dict__',\n",
       " '__dir__',\n",
       " '__doc__',\n",
       " '__eq__',\n",
       " '__format__',\n",
       " '__ge__',\n",
       " '__getattr__',\n",
       " '__getattribute__',\n",
       " '__getitem__',\n",
       " '__gt__',\n",
       " '__hash__',\n",
       " '__init__',\n",
       " '__init_subclass__',\n",
       " '__le__',\n",
       " '__lt__',\n",
       " '__module__',\n",
       " '__ne__',\n",
       " '__new__',\n",
       " '__reduce__',\n",
       " '__reduce_ex__',\n",
       " '__repr__',\n",
       " '__setattr__',\n",
       " '__setstate__',\n",
       " '__sizeof__',\n",
       " '__str__',\n",
       " '__subclasshook__',\n",
       " '__weakref__',\n",
       " '_factories',\n",
       " '_factory_map',\n",
       " '_locales',\n",
       " '_map_provider_method',\n",
       " '_select_factory',\n",
       " '_select_factory_choice',\n",
       " '_select_factory_distribution',\n",
       " '_unique_proxy',\n",
       " '_weights',\n",
       " 'aba',\n",
       " 'add_provider',\n",
       " 'address',\n",
       " 'administrative_unit',\n",
       " 'am_pm',\n",
       " 'android_platform_token',\n",
       " 'ascii_company_email',\n",
       " 'ascii_email',\n",
       " 'ascii_free_email',\n",
       " 'ascii_safe_email',\n",
       " 'bank',\n",
       " 'bank_country',\n",
       " 'bban',\n",
       " 'binary',\n",
       " 'boolean',\n",
       " 'bothify',\n",
       " 'bs',\n",
       " 'building_number',\n",
       " 'cache_pattern',\n",
       " 'catch_phrase',\n",
       " 'century',\n",
       " 'chrome',\n",
       " 'city',\n",
       " 'city_prefix',\n",
       " 'city_suffix',\n",
       " 'color',\n",
       " 'color_name',\n",
       " 'company',\n",
       " 'company_email',\n",
       " 'company_suffix',\n",
       " 'coordinate',\n",
       " 'country',\n",
       " 'country_calling_code',\n",
       " 'country_code',\n",
       " 'credit_card_expire',\n",
       " 'credit_card_full',\n",
       " 'credit_card_number',\n",
       " 'credit_card_provider',\n",
       " 'credit_card_security_code',\n",
       " 'cryptocurrency',\n",
       " 'cryptocurrency_code',\n",
       " 'cryptocurrency_name',\n",
       " 'csv',\n",
       " 'currency',\n",
       " 'currency_code',\n",
       " 'currency_name',\n",
       " 'currency_symbol',\n",
       " 'current_country',\n",
       " 'current_country_code',\n",
       " 'date',\n",
       " 'date_between',\n",
       " 'date_between_dates',\n",
       " 'date_object',\n",
       " 'date_of_birth',\n",
       " 'date_this_century',\n",
       " 'date_this_decade',\n",
       " 'date_this_month',\n",
       " 'date_this_year',\n",
       " 'date_time',\n",
       " 'date_time_ad',\n",
       " 'date_time_between',\n",
       " 'date_time_between_dates',\n",
       " 'date_time_this_century',\n",
       " 'date_time_this_decade',\n",
       " 'date_time_this_month',\n",
       " 'date_time_this_year',\n",
       " 'day_of_month',\n",
       " 'day_of_week',\n",
       " 'del_arguments',\n",
       " 'dga',\n",
       " 'domain_name',\n",
       " 'domain_word',\n",
       " 'dsv',\n",
       " 'ean',\n",
       " 'ean13',\n",
       " 'ean8',\n",
       " 'ein',\n",
       " 'email',\n",
       " 'factories',\n",
       " 'file_extension',\n",
       " 'file_name',\n",
       " 'file_path',\n",
       " 'filter_by_length',\n",
       " 'firefox',\n",
       " 'first_name',\n",
       " 'first_name_as_list',\n",
       " 'first_name_female',\n",
       " 'first_name_female_as_list',\n",
       " 'first_name_male',\n",
       " 'first_name_male_as_list',\n",
       " 'first_name_nonbinary',\n",
       " 'first_name_nonbinary_as_list',\n",
       " 'fixed_width',\n",
       " 'format',\n",
       " 'free_email',\n",
       " 'free_email_domain',\n",
       " 'future_date',\n",
       " 'future_datetime',\n",
       " 'generator_attrs',\n",
       " 'get_arguments',\n",
       " 'get_formatter',\n",
       " 'get_providers',\n",
       " 'hex_color',\n",
       " 'hexify',\n",
       " 'hostname',\n",
       " 'http_method',\n",
       " 'iana_id',\n",
       " 'iban',\n",
       " 'image',\n",
       " 'image_url',\n",
       " 'internet_explorer',\n",
       " 'invalid_ssn',\n",
       " 'ios_platform_token',\n",
       " 'ipv4',\n",
       " 'ipv4_network_class',\n",
       " 'ipv4_private',\n",
       " 'ipv4_public',\n",
       " 'ipv6',\n",
       " 'isbn10',\n",
       " 'isbn13',\n",
       " 'iso8601',\n",
       " 'items',\n",
       " 'itin',\n",
       " 'job',\n",
       " 'json',\n",
       " 'language_code',\n",
       " 'language_name',\n",
       " 'last_name',\n",
       " 'last_name_as_list',\n",
       " 'last_name_female',\n",
       " 'last_name_female_as_list',\n",
       " 'last_name_male',\n",
       " 'last_name_male_as_list',\n",
       " 'last_name_nonbinary',\n",
       " 'last_name_nonbinary_as_list',\n",
       " 'latitude',\n",
       " 'latlng',\n",
       " 'lexify',\n",
       " 'license_plate',\n",
       " 'linux_platform_token',\n",
       " 'linux_processor',\n",
       " 'local_latlng',\n",
       " 'locale',\n",
       " 'locales',\n",
       " 'localized_ean',\n",
       " 'localized_ean13',\n",
       " 'localized_ean8',\n",
       " 'location_on_land',\n",
       " 'longitude',\n",
       " 'mac_address',\n",
       " 'mac_platform_token',\n",
       " 'mac_processor',\n",
       " 'md5',\n",
       " 'mime_type',\n",
       " 'month',\n",
       " 'month_name',\n",
       " 'msisdn',\n",
       " 'name',\n",
       " 'name_female',\n",
       " 'name_male',\n",
       " 'name_nonbinary',\n",
       " 'nic_handle',\n",
       " 'nic_handles',\n",
       " 'null_boolean',\n",
       " 'numerify',\n",
       " 'opera',\n",
       " 'paragraph',\n",
       " 'paragraphs',\n",
       " 'parse',\n",
       " 'password',\n",
       " 'past_date',\n",
       " 'past_datetime',\n",
       " 'phone_number',\n",
       " 'port_number',\n",
       " 'postcode',\n",
       " 'prefix',\n",
       " 'prefix_as_list',\n",
       " 'prefix_female',\n",
       " 'prefix_female_as_list',\n",
       " 'prefix_male',\n",
       " 'prefix_male_as_list',\n",
       " 'prefix_nonbinary',\n",
       " 'prefix_nonbinary_as_list',\n",
       " 'pricetag',\n",
       " 'profile',\n",
       " 'provider',\n",
       " 'providers',\n",
       " 'psv',\n",
       " 'pybool',\n",
       " 'pydecimal',\n",
       " 'pydict',\n",
       " 'pyfloat',\n",
       " 'pyint',\n",
       " 'pyiterable',\n",
       " 'pylist',\n",
       " 'pyset',\n",
       " 'pystr',\n",
       " 'pystr_format',\n",
       " 'pystruct',\n",
       " 'pytimezone',\n",
       " 'pytuple',\n",
       " 'random',\n",
       " 'random_choices',\n",
       " 'random_digit',\n",
       " 'random_digit_not_null',\n",
       " 'random_digit_not_null_or_empty',\n",
       " 'random_digit_or_empty',\n",
       " 'random_element',\n",
       " 'random_elements',\n",
       " 'random_int',\n",
       " 'random_letter',\n",
       " 'random_letters',\n",
       " 'random_lowercase_letter',\n",
       " 'random_number',\n",
       " 'random_sample',\n",
       " 'random_uppercase_letter',\n",
       " 'randomize_nb_elements',\n",
       " 'rgb_color',\n",
       " 'rgb_css_color',\n",
       " 'ripe_id',\n",
       " 'safari',\n",
       " 'safe_color_name',\n",
       " 'safe_domain_name',\n",
       " 'safe_email',\n",
       " 'safe_hex_color',\n",
       " 'secondary_address',\n",
       " 'seed',\n",
       " 'seed_instance',\n",
       " 'seed_locale',\n",
       " 'sentence',\n",
       " 'sentences',\n",
       " 'set_arguments',\n",
       " 'set_formatter',\n",
       " 'sha1',\n",
       " 'sha256',\n",
       " 'simple_profile',\n",
       " 'slug',\n",
       " 'ssn',\n",
       " 'state',\n",
       " 'street_address',\n",
       " 'street_name',\n",
       " 'street_suffix',\n",
       " 'suffix',\n",
       " 'suffix_as_list',\n",
       " 'suffix_female',\n",
       " 'suffix_female_as_list',\n",
       " 'suffix_male',\n",
       " 'suffix_male_as_list',\n",
       " 'suffix_nonbinary',\n",
       " 'suffix_nonbinary_as_list',\n",
       " 'swift',\n",
       " 'swift11',\n",
       " 'swift8',\n",
       " 'tar',\n",
       " 'text',\n",
       " 'texts',\n",
       " 'time',\n",
       " 'time_delta',\n",
       " 'time_object',\n",
       " 'time_series',\n",
       " 'timezone',\n",
       " 'tld',\n",
       " 'tsv',\n",
       " 'unique',\n",
       " 'unix_device',\n",
       " 'unix_partition',\n",
       " 'unix_time',\n",
       " 'upc_a',\n",
       " 'upc_e',\n",
       " 'uri',\n",
       " 'uri_extension',\n",
       " 'uri_page',\n",
       " 'uri_path',\n",
       " 'url',\n",
       " 'user_agent',\n",
       " 'user_name',\n",
       " 'uuid4',\n",
       " 'weights',\n",
       " 'windows_platform_token',\n",
       " 'word',\n",
       " 'words',\n",
       " 'year',\n",
       " 'zip']"
      ]
     },
     "execution_count": 6,
     "metadata": {},
     "output_type": "execute_result"
    }
   ],
   "source": [
    "dir(fa_fake)"
   ]
  },
  {
   "cell_type": "code",
   "execution_count": null,
   "id": "ec34bde1-5995-4854-b545-a476ed1ec333",
   "metadata": {},
   "outputs": [],
   "source": []
  },
  {
   "cell_type": "code",
   "execution_count": 41,
   "id": "57f9404e-104a-41f1-b9d3-b3702ee8210f",
   "metadata": {},
   "outputs": [
    {
     "data": {
      "text/plain": [
       "'موریس'"
      ]
     },
     "execution_count": 41,
     "metadata": {},
     "output_type": "execute_result"
    }
   ],
   "source": [
    "fa_fake.country()"
   ]
  },
  {
   "cell_type": "code",
   "execution_count": 49,
   "id": "51c45bf5-aaa0-4a0c-90a7-30aa97ebbee5",
   "metadata": {},
   "outputs": [
    {
     "data": {
      "text/plain": [
       "'جهانگرد'"
      ]
     },
     "execution_count": 49,
     "metadata": {},
     "output_type": "execute_result"
    }
   ],
   "source": [
    "fa_fake.job()"
   ]
  },
  {
   "cell_type": "code",
   "execution_count": 50,
   "id": "b0fafccd-4b19-4725-8872-76421096c527",
   "metadata": {},
   "outputs": [
    {
     "data": {
      "text/plain": [
       "'يوسف بهمنی'"
      ]
     },
     "execution_count": 50,
     "metadata": {},
     "output_type": "execute_result"
    }
   ],
   "source": [
    "fa_fake.name()"
   ]
  },
  {
   "cell_type": "code",
   "execution_count": 58,
   "id": "adf18512-6b4e-40ce-a604-5503d8b0f3be",
   "metadata": {},
   "outputs": [
    {
     "name": "stdout",
     "output_type": "stream",
     "text": [
      "Collecting names_dataset\n",
      "  Downloading names-dataset-3.1.0.tar.gz (58.4 MB)\n",
      "\u001b[K     |████████████████████████████████| 58.4 MB 337 kB/s eta 0:00:01\n",
      "\u001b[?25hCollecting pycountry\n",
      "  Downloading pycountry-22.3.5.tar.gz (10.1 MB)\n",
      "\u001b[K     |████████████████████████████████| 10.1 MB 2.5 MB/s eta 0:00:01\n",
      "\u001b[?25h  Installing build dependencies ... \u001b[?25ldone\n",
      "\u001b[?25h  Getting requirements to build wheel ... \u001b[?25ldone\n",
      "\u001b[?25h    Preparing wheel metadata ... \u001b[?25ldone\n",
      "\u001b[?25hRequirement already satisfied: setuptools in /Users/mehdihatamigoloujeh/opt/anaconda3/lib/python3.9/site-packages (from pycountry->names_dataset) (58.0.4)\n",
      "Building wheels for collected packages: names-dataset, pycountry\n",
      "  Building wheel for names-dataset (setup.py) ... \u001b[?25ldone\n",
      "\u001b[?25h  Created wheel for names-dataset: filename=names_dataset-3.1.0-py3-none-any.whl size=116832782 sha256=cf6cadd95cd9514b9c18ecbc2d7d687caf8bc62ea27ff81857fa8577c79f7d39\n",
      "  Stored in directory: /Users/mehdihatamigoloujeh/Library/Caches/pip/wheels/8b/36/2e/49513b778ca8d01a91a8cee61425d53de963b74561bfa5f561\n",
      "  Building wheel for pycountry (PEP 517) ... \u001b[?25ldone\n",
      "\u001b[?25h  Created wheel for pycountry: filename=pycountry-22.3.5-py2.py3-none-any.whl size=10681832 sha256=10ded9973ad41853907ae8fc057491a105846b33e39ae2d1699c2f5d6cbeec5a\n",
      "  Stored in directory: /Users/mehdihatamigoloujeh/Library/Caches/pip/wheels/47/15/92/e6dc85fcb0686c82e1edbcfdf80cfe4808c058813fed0baa8f\n",
      "Successfully built names-dataset pycountry\n",
      "Installing collected packages: pycountry, names-dataset\n",
      "Successfully installed names-dataset-3.1.0 pycountry-22.3.5\n",
      "Note: you may need to restart the kernel to use updated packages.\n"
     ]
    }
   ],
   "source": [
    "pip install names_dataset"
   ]
  },
  {
   "cell_type": "code",
   "execution_count": 59,
   "id": "ccb896f9-b902-4068-8fc2-f2d08b43e2ce",
   "metadata": {},
   "outputs": [],
   "source": [
    "from names_dataset import NameDataset"
   ]
  },
  {
   "cell_type": "code",
   "execution_count": 60,
   "id": "835827a4-12f6-4ce7-9a11-78300a6cfaea",
   "metadata": {},
   "outputs": [],
   "source": [
    "nd = NameDataset()"
   ]
  },
  {
   "cell_type": "code",
   "execution_count": 61,
   "id": "f1fdcb4c-9143-4fb0-bf9e-c71c1241cdab",
   "metadata": {},
   "outputs": [
    {
     "data": {
      "text/plain": [
       "['__class__',\n",
       " '__delattr__',\n",
       " '__dict__',\n",
       " '__dir__',\n",
       " '__doc__',\n",
       " '__eq__',\n",
       " '__format__',\n",
       " '__ge__',\n",
       " '__getattribute__',\n",
       " '__gt__',\n",
       " '__hash__',\n",
       " '__init__',\n",
       " '__init_subclass__',\n",
       " '__le__',\n",
       " '__lt__',\n",
       " '__module__',\n",
       " '__ne__',\n",
       " '__new__',\n",
       " '__reduce__',\n",
       " '__reduce_ex__',\n",
       " '__repr__',\n",
       " '__setattr__',\n",
       " '__sizeof__',\n",
       " '__str__',\n",
       " '__subclasshook__',\n",
       " '__weakref__',\n",
       " '_post_process',\n",
       " '_read_json_from_zip',\n",
       " 'first_names',\n",
       " 'get_country_codes',\n",
       " 'get_top_names',\n",
       " 'last_names',\n",
       " 'search']"
      ]
     },
     "execution_count": 61,
     "metadata": {},
     "output_type": "execute_result"
    }
   ],
   "source": [
    "dir(nd)"
   ]
  },
  {
   "cell_type": "code",
   "execution_count": 68,
   "id": "ae5f8ee3-5504-4435-99d7-6f4579fa0f14",
   "metadata": {},
   "outputs": [
    {
     "data": {
      "text/plain": [
       "{'first_name': {'country': {'United Arab Emirates': 0.062,\n",
       "   'Afghanistan': 0.017,\n",
       "   'Canada': 0.024,\n",
       "   'Germany': 0.018,\n",
       "   'United Kingdom': 0.015,\n",
       "   'Iraq': 0.023,\n",
       "   'Iran, Islamic Republic of': 0.679,\n",
       "   'Saudi Arabia': 0.096,\n",
       "   'Turkey': 0.024,\n",
       "   'United States': 0.043},\n",
       "  'gender': {'Female': 0.027, 'Male': 0.973},\n",
       "  'rank': {'United Arab Emirates': 1273,\n",
       "   'Afghanistan': 429,\n",
       "   'Canada': 1342,\n",
       "   'Germany': 2243,\n",
       "   'United Kingdom': 3862,\n",
       "   'Iraq': 6236,\n",
       "   'Iran, Islamic Republic of': 92,\n",
       "   'Saudi Arabia': 3557,\n",
       "   'Turkey': 4025,\n",
       "   'United States': 6077}},\n",
       " 'last_name': {'country': {'United Arab Emirates': 0.118,\n",
       "   'Afghanistan': 0.065,\n",
       "   'Egypt': 0.11,\n",
       "   'India': 0.018,\n",
       "   'Iraq': 0.025,\n",
       "   'Iran, Islamic Republic of': 0.314,\n",
       "   'Oman': 0.025,\n",
       "   'Saudi Arabia': 0.27,\n",
       "   'Turkey': 0.022,\n",
       "   'United States': 0.033},\n",
       "  'gender': {},\n",
       "  'rank': {'United Arab Emirates': 4670,\n",
       "   'Afghanistan': 1051,\n",
       "   'Iran, Islamic Republic of': 1064,\n",
       "   'Oman': 13260,\n",
       "   'Saudi Arabia': 10134,\n",
       "   'Egypt': None,\n",
       "   'India': None,\n",
       "   'Iraq': None,\n",
       "   'Turkey': None,\n",
       "   'United States': None}}}"
      ]
     },
     "execution_count": 68,
     "metadata": {},
     "output_type": "execute_result"
    }
   ],
   "source": [
    "nd.search(\"mehran\")"
   ]
  },
  {
   "cell_type": "code",
   "execution_count": 70,
   "id": "4c3bd29f-14c6-4eb8-8b0d-dc521c9c534c",
   "metadata": {},
   "outputs": [],
   "source": [
    "en_fake = Faker()"
   ]
  },
  {
   "cell_type": "markdown",
   "id": "51671840-4eae-42f4-9829-f5ff5451108b",
   "metadata": {},
   "source": []
  },
  {
   "cell_type": "code",
   "execution_count": 71,
   "id": "0e7b74bb-451a-48ad-b00b-782fdd5f4e70",
   "metadata": {},
   "outputs": [
    {
     "data": {
      "text/plain": [
       "'Dale Gibson'"
      ]
     },
     "execution_count": 71,
     "metadata": {},
     "output_type": "execute_result"
    }
   ],
   "source": [
    "en_fake.name()"
   ]
  },
  {
   "cell_type": "code",
   "execution_count": 72,
   "id": "8fbb79f3-5c9a-4d4a-8b91-8ba606d7531e",
   "metadata": {},
   "outputs": [
    {
     "data": {
      "text/plain": [
       "'محمدجواد ضرغامی'"
      ]
     },
     "execution_count": 72,
     "metadata": {},
     "output_type": "execute_result"
    }
   ],
   "source": [
    "fa_fake.name()"
   ]
  },
  {
   "cell_type": "code",
   "execution_count": 98,
   "id": "94745b56-e925-4776-bfb2-322c8417cfe9",
   "metadata": {},
   "outputs": [
    {
     "data": {
      "text/plain": [
       "'زارعی'"
      ]
     },
     "execution_count": 98,
     "metadata": {},
     "output_type": "execute_result"
    }
   ],
   "source": [
    "fa_fake.name().split()[-1]"
   ]
  },
  {
   "cell_type": "code",
   "execution_count": 180,
   "id": "22d880e1-bdec-489d-a0fe-8bdab8afa954",
   "metadata": {},
   "outputs": [],
   "source": [
    "def make_name():\n",
    "    if np.random.rand()>0.5:\n",
    "        return en_fake.name()\n",
    "    return fa_fake.name()"
   ]
  },
  {
   "cell_type": "code",
   "execution_count": 181,
   "id": "d13a2f02-ba0b-444e-ac64-c5db0e1245a4",
   "metadata": {},
   "outputs": [],
   "source": [
    "df = pd.DataFrame({\n",
    "    'Name' : [make_name() for _ in range(100)]\n",
    "})"
   ]
  },
  {
   "cell_type": "code",
   "execution_count": 129,
   "id": "cfe989fc-366b-48ab-8746-a174757ca17c",
   "metadata": {},
   "outputs": [
    {
     "data": {
      "text/html": [
       "<div>\n",
       "<style scoped>\n",
       "    .dataframe tbody tr th:only-of-type {\n",
       "        vertical-align: middle;\n",
       "    }\n",
       "\n",
       "    .dataframe tbody tr th {\n",
       "        vertical-align: top;\n",
       "    }\n",
       "\n",
       "    .dataframe thead th {\n",
       "        text-align: right;\n",
       "    }\n",
       "</style>\n",
       "<table border=\"1\" class=\"dataframe\">\n",
       "  <thead>\n",
       "    <tr style=\"text-align: right;\">\n",
       "      <th></th>\n",
       "      <th>Name</th>\n",
       "    </tr>\n",
       "  </thead>\n",
       "  <tbody>\n",
       "    <tr>\n",
       "      <th>0</th>\n",
       "      <td>سرکار خانم هستی رسولی</td>\n",
       "    </tr>\n",
       "    <tr>\n",
       "      <th>1</th>\n",
       "      <td>هلیا لاچینی</td>\n",
       "    </tr>\n",
       "    <tr>\n",
       "      <th>2</th>\n",
       "      <td>Diane Wall</td>\n",
       "    </tr>\n",
       "    <tr>\n",
       "      <th>3</th>\n",
       "      <td>نیایش ظفری</td>\n",
       "    </tr>\n",
       "    <tr>\n",
       "      <th>4</th>\n",
       "      <td>مهدی هنری</td>\n",
       "    </tr>\n",
       "  </tbody>\n",
       "</table>\n",
       "</div>"
      ],
      "text/plain": [
       "                    Name\n",
       "0  سرکار خانم هستی رسولی\n",
       "1            هلیا لاچینی\n",
       "2             Diane Wall\n",
       "3             نیایش ظفری\n",
       "4              مهدی هنری"
      ]
     },
     "execution_count": 129,
     "metadata": {},
     "output_type": "execute_result"
    }
   ],
   "source": [
    "df.head()"
   ]
  },
  {
   "cell_type": "code",
   "execution_count": 130,
   "id": "d7ed271b-4e50-4d38-a696-610aebc7625d",
   "metadata": {},
   "outputs": [
    {
     "data": {
      "text/html": [
       "<div>\n",
       "<style scoped>\n",
       "    .dataframe tbody tr th:only-of-type {\n",
       "        vertical-align: middle;\n",
       "    }\n",
       "\n",
       "    .dataframe tbody tr th {\n",
       "        vertical-align: top;\n",
       "    }\n",
       "\n",
       "    .dataframe thead th {\n",
       "        text-align: right;\n",
       "    }\n",
       "</style>\n",
       "<table border=\"1\" class=\"dataframe\">\n",
       "  <thead>\n",
       "    <tr style=\"text-align: right;\">\n",
       "      <th></th>\n",
       "      <th>Name</th>\n",
       "    </tr>\n",
       "  </thead>\n",
       "  <tbody>\n",
       "    <tr>\n",
       "      <th>95</th>\n",
       "      <td>محمد رضا زاده</td>\n",
       "    </tr>\n",
       "    <tr>\n",
       "      <th>96</th>\n",
       "      <td>Denise Graham</td>\n",
       "    </tr>\n",
       "    <tr>\n",
       "      <th>97</th>\n",
       "      <td>Linda Lopez</td>\n",
       "    </tr>\n",
       "    <tr>\n",
       "      <th>98</th>\n",
       "      <td>Michael Cook</td>\n",
       "    </tr>\n",
       "    <tr>\n",
       "      <th>99</th>\n",
       "      <td>Susan Smith</td>\n",
       "    </tr>\n",
       "  </tbody>\n",
       "</table>\n",
       "</div>"
      ],
      "text/plain": [
       "             Name\n",
       "95  محمد رضا زاده\n",
       "96  Denise Graham\n",
       "97    Linda Lopez\n",
       "98   Michael Cook\n",
       "99    Susan Smith"
      ]
     },
     "execution_count": 130,
     "metadata": {},
     "output_type": "execute_result"
    }
   ],
   "source": [
    "df.tail()"
   ]
  },
  {
   "cell_type": "code",
   "execution_count": 131,
   "id": "e9c9fe30-f97f-410a-b1d0-d5785dad0b8f",
   "metadata": {},
   "outputs": [
    {
     "name": "stdout",
     "output_type": "stream",
     "text": [
      "<class 'pandas.core.frame.DataFrame'>\n",
      "RangeIndex: 100 entries, 0 to 99\n",
      "Data columns (total 1 columns):\n",
      " #   Column  Non-Null Count  Dtype \n",
      "---  ------  --------------  ----- \n",
      " 0   Name    100 non-null    object\n",
      "dtypes: object(1)\n",
      "memory usage: 928.0+ bytes\n"
     ]
    }
   ],
   "source": [
    "df.info()"
   ]
  },
  {
   "cell_type": "code",
   "execution_count": 132,
   "id": "dd09ae5d-f9e0-4f1b-a97a-b53abfe0cc0b",
   "metadata": {},
   "outputs": [
    {
     "data": {
      "text/html": [
       "<div>\n",
       "<style scoped>\n",
       "    .dataframe tbody tr th:only-of-type {\n",
       "        vertical-align: middle;\n",
       "    }\n",
       "\n",
       "    .dataframe tbody tr th {\n",
       "        vertical-align: top;\n",
       "    }\n",
       "\n",
       "    .dataframe thead th {\n",
       "        text-align: right;\n",
       "    }\n",
       "</style>\n",
       "<table border=\"1\" class=\"dataframe\">\n",
       "  <thead>\n",
       "    <tr style=\"text-align: right;\">\n",
       "      <th></th>\n",
       "      <th>Name</th>\n",
       "    </tr>\n",
       "  </thead>\n",
       "  <tbody>\n",
       "    <tr>\n",
       "      <th>count</th>\n",
       "      <td>100</td>\n",
       "    </tr>\n",
       "    <tr>\n",
       "      <th>unique</th>\n",
       "      <td>100</td>\n",
       "    </tr>\n",
       "    <tr>\n",
       "      <th>top</th>\n",
       "      <td>سرکار خانم هستی رسولی</td>\n",
       "    </tr>\n",
       "    <tr>\n",
       "      <th>freq</th>\n",
       "      <td>1</td>\n",
       "    </tr>\n",
       "  </tbody>\n",
       "</table>\n",
       "</div>"
      ],
      "text/plain": [
       "                         Name\n",
       "count                     100\n",
       "unique                    100\n",
       "top     سرکار خانم هستی رسولی\n",
       "freq                        1"
      ]
     },
     "execution_count": 132,
     "metadata": {},
     "output_type": "execute_result"
    }
   ],
   "source": [
    "df.describe()"
   ]
  },
  {
   "cell_type": "code",
   "execution_count": 182,
   "id": "7a947894-ab10-48e1-9fa9-0f09fe3ce8ef",
   "metadata": {},
   "outputs": [],
   "source": [
    "df['First Name'] = df['Name'].apply(\n",
    "    lambda full_name:full_name.split()[0]\n",
    ")"
   ]
  },
  {
   "cell_type": "code",
   "execution_count": 183,
   "id": "8b4e5d37-839e-4694-8968-49f2d4cc6df2",
   "metadata": {},
   "outputs": [],
   "source": [
    "df['Last Name'] = df['Name'].apply(\n",
    "    lambda full_name:full_name.split()[-1]\n",
    ")"
   ]
  },
  {
   "cell_type": "code",
   "execution_count": 184,
   "id": "0734f92c-79b3-4d32-a7de-04d589bad8ee",
   "metadata": {},
   "outputs": [
    {
     "data": {
      "text/html": [
       "<div>\n",
       "<style scoped>\n",
       "    .dataframe tbody tr th:only-of-type {\n",
       "        vertical-align: middle;\n",
       "    }\n",
       "\n",
       "    .dataframe tbody tr th {\n",
       "        vertical-align: top;\n",
       "    }\n",
       "\n",
       "    .dataframe thead th {\n",
       "        text-align: right;\n",
       "    }\n",
       "</style>\n",
       "<table border=\"1\" class=\"dataframe\">\n",
       "  <thead>\n",
       "    <tr style=\"text-align: right;\">\n",
       "      <th></th>\n",
       "      <th>Name</th>\n",
       "      <th>First Name</th>\n",
       "      <th>Last Name</th>\n",
       "    </tr>\n",
       "  </thead>\n",
       "  <tbody>\n",
       "    <tr>\n",
       "      <th>0</th>\n",
       "      <td>هلیا کریمی</td>\n",
       "      <td>هلیا</td>\n",
       "      <td>کریمی</td>\n",
       "    </tr>\n",
       "    <tr>\n",
       "      <th>1</th>\n",
       "      <td>Rachel Allison</td>\n",
       "      <td>Rachel</td>\n",
       "      <td>Allison</td>\n",
       "    </tr>\n",
       "    <tr>\n",
       "      <th>2</th>\n",
       "      <td>Amber Pugh</td>\n",
       "      <td>Amber</td>\n",
       "      <td>Pugh</td>\n",
       "    </tr>\n",
       "    <tr>\n",
       "      <th>3</th>\n",
       "      <td>Samuel Jensen</td>\n",
       "      <td>Samuel</td>\n",
       "      <td>Jensen</td>\n",
       "    </tr>\n",
       "    <tr>\n",
       "      <th>4</th>\n",
       "      <td>سرکار خانم دکتر مريم زارعی</td>\n",
       "      <td>سرکار</td>\n",
       "      <td>زارعی</td>\n",
       "    </tr>\n",
       "  </tbody>\n",
       "</table>\n",
       "</div>"
      ],
      "text/plain": [
       "                         Name First Name Last Name\n",
       "0                  هلیا کریمی       هلیا     کریمی\n",
       "1              Rachel Allison     Rachel   Allison\n",
       "2                  Amber Pugh      Amber      Pugh\n",
       "3               Samuel Jensen     Samuel    Jensen\n",
       "4  سرکار خانم دکتر مريم زارعی      سرکار     زارعی"
      ]
     },
     "execution_count": 184,
     "metadata": {},
     "output_type": "execute_result"
    }
   ],
   "source": [
    "df.head()"
   ]
  },
  {
   "cell_type": "code",
   "execution_count": 143,
   "id": "c9937fd8-cda4-416c-847e-2ec2aea864c0",
   "metadata": {},
   "outputs": [
    {
     "data": {
      "text/plain": [
       "['__class__',\n",
       " '__delattr__',\n",
       " '__dict__',\n",
       " '__dir__',\n",
       " '__doc__',\n",
       " '__eq__',\n",
       " '__format__',\n",
       " '__ge__',\n",
       " '__getattribute__',\n",
       " '__gt__',\n",
       " '__hash__',\n",
       " '__init__',\n",
       " '__init_subclass__',\n",
       " '__le__',\n",
       " '__lt__',\n",
       " '__module__',\n",
       " '__ne__',\n",
       " '__new__',\n",
       " '__reduce__',\n",
       " '__reduce_ex__',\n",
       " '__repr__',\n",
       " '__setattr__',\n",
       " '__sizeof__',\n",
       " '__str__',\n",
       " '__subclasshook__',\n",
       " '__weakref__',\n",
       " '_post_process',\n",
       " '_read_json_from_zip',\n",
       " 'first_names',\n",
       " 'get_country_codes',\n",
       " 'get_top_names',\n",
       " 'last_names',\n",
       " 'search']"
      ]
     },
     "execution_count": 143,
     "metadata": {},
     "output_type": "execute_result"
    }
   ],
   "source": [
    "dir(nd)"
   ]
  },
  {
   "cell_type": "code",
   "execution_count": 162,
   "id": "e0e6ad3d-2415-4924-b20d-27fcb6fbd1eb",
   "metadata": {},
   "outputs": [
    {
     "data": {
      "text/plain": [
       "{'Female': 0.027, 'Male': 0.973}"
      ]
     },
     "execution_count": 162,
     "metadata": {},
     "output_type": "execute_result"
    }
   ],
   "source": [
    "nd.search(\"Milad\")['first_name']['gender']"
   ]
  },
  {
   "cell_type": "code",
   "execution_count": 173,
   "id": "171683a2-85f0-4696-a9b5-98b625ab178b",
   "metadata": {},
   "outputs": [
    {
     "data": {
      "text/plain": [
       "{'United Arab Emirates': 0.037,\n",
       " 'Algeria': 0.054,\n",
       " 'Egypt': 0.149,\n",
       " 'Iraq': 0.142,\n",
       " 'Iran, Islamic Republic of': 0.052,\n",
       " 'Morocco': 0.079,\n",
       " 'Saudi Arabia': 0.146,\n",
       " 'Syrian Arab Republic': 0.05,\n",
       " 'Tunisia': 0.04,\n",
       " 'Turkey': 0.25}"
      ]
     },
     "execution_count": 173,
     "metadata": {},
     "output_type": "execute_result"
    }
   ],
   "source": [
    "nd.search('ali')['first_name']['country']"
   ]
  },
  {
   "cell_type": "code",
   "execution_count": 174,
   "id": "1e1a029e-7ead-470e-973e-14c106005f5c",
   "metadata": {},
   "outputs": [
    {
     "data": {
      "text/plain": [
       "{'Female': 0.058, 'Male': 0.942}"
      ]
     },
     "execution_count": 174,
     "metadata": {},
     "output_type": "execute_result"
    }
   ],
   "source": [
    "nd.search('ali')['first_name']['gender']"
   ]
  },
  {
   "cell_type": "code",
   "execution_count": 175,
   "id": "eb539e2c-1f22-41bc-9735-2cf9f449e5ad",
   "metadata": {},
   "outputs": [
    {
     "data": {
      "text/plain": [
       "{'United Arab Emirates': 5,\n",
       " 'Algeria': 5,\n",
       " 'Egypt': 13,\n",
       " 'Iraq': 7,\n",
       " 'Iran, Islamic Republic of': 1,\n",
       " 'Morocco': 21,\n",
       " 'Saudi Arabia': 9,\n",
       " 'Syrian Arab Republic': 6,\n",
       " 'Tunisia': 3,\n",
       " 'Turkey': 4}"
      ]
     },
     "execution_count": 175,
     "metadata": {},
     "output_type": "execute_result"
    }
   ],
   "source": [
    "nd.search('ali')['first_name']['rank']"
   ]
  },
  {
   "cell_type": "code",
   "execution_count": 168,
   "id": "f329edf9-42a8-4462-86d6-62e617557ee1",
   "metadata": {},
   "outputs": [
    {
     "data": {
      "text/html": [
       "<div>\n",
       "<style scoped>\n",
       "    .dataframe tbody tr th:only-of-type {\n",
       "        vertical-align: middle;\n",
       "    }\n",
       "\n",
       "    .dataframe tbody tr th {\n",
       "        vertical-align: top;\n",
       "    }\n",
       "\n",
       "    .dataframe thead th {\n",
       "        text-align: right;\n",
       "    }\n",
       "</style>\n",
       "<table border=\"1\" class=\"dataframe\">\n",
       "  <thead>\n",
       "    <tr style=\"text-align: right;\">\n",
       "      <th></th>\n",
       "      <th>first_name</th>\n",
       "      <th>last_name</th>\n",
       "    </tr>\n",
       "  </thead>\n",
       "  <tbody>\n",
       "    <tr>\n",
       "      <th>country</th>\n",
       "      <td>{'United Arab Emirates': 0.037, 'Algeria': 0.0...</td>\n",
       "      <td>{'United Arab Emirates': 0.094, 'Egypt': 0.233...</td>\n",
       "    </tr>\n",
       "    <tr>\n",
       "      <th>gender</th>\n",
       "      <td>{'Female': 0.058, 'Male': 0.942}</td>\n",
       "      <td>{}</td>\n",
       "    </tr>\n",
       "    <tr>\n",
       "      <th>rank</th>\n",
       "      <td>{'United Arab Emirates': 5, 'Algeria': 5, 'Egy...</td>\n",
       "      <td>{'United Arab Emirates': 2, 'Egypt': 5, 'India...</td>\n",
       "    </tr>\n",
       "  </tbody>\n",
       "</table>\n",
       "</div>"
      ],
      "text/plain": [
       "                                                first_name  \\\n",
       "country  {'United Arab Emirates': 0.037, 'Algeria': 0.0...   \n",
       "gender                    {'Female': 0.058, 'Male': 0.942}   \n",
       "rank     {'United Arab Emirates': 5, 'Algeria': 5, 'Egy...   \n",
       "\n",
       "                                                 last_name  \n",
       "country  {'United Arab Emirates': 0.094, 'Egypt': 0.233...  \n",
       "gender                                                  {}  \n",
       "rank     {'United Arab Emirates': 2, 'Egypt': 5, 'India...  "
      ]
     },
     "execution_count": 168,
     "metadata": {},
     "output_type": "execute_result"
    }
   ],
   "source": [
    "df"
   ]
  },
  {
   "cell_type": "code",
   "execution_count": 176,
   "id": "373c483c-966f-42be-8b2a-7f4043ce02fd",
   "metadata": {},
   "outputs": [
    {
     "ename": "NameError",
     "evalue": "name 'csv' is not defined",
     "output_type": "error",
     "traceback": [
      "\u001b[0;31m---------------------------------------------------------------------------\u001b[0m",
      "\u001b[0;31mNameError\u001b[0m                                 Traceback (most recent call last)",
      "\u001b[0;32m/var/folders/vw/_7ms67xn1jxb_9zqbfcn4q080000gn/T/ipykernel_43527/519906976.py\u001b[0m in \u001b[0;36m<module>\u001b[0;34m\u001b[0m\n\u001b[0;32m----> 1\u001b[0;31m \u001b[0mdf\u001b[0m \u001b[0;34m=\u001b[0m \u001b[0mcsv\u001b[0m\u001b[0;34m.\u001b[0m\u001b[0mread\u001b[0m\u001b[0;34m(\u001b[0m\u001b[0mmydf\u001b[0m\u001b[0;34m.\u001b[0m\u001b[0mcsv\u001b[0m\u001b[0;34m)\u001b[0m\u001b[0;34m\u001b[0m\u001b[0;34m\u001b[0m\u001b[0m\n\u001b[0m",
      "\u001b[0;31mNameError\u001b[0m: name 'csv' is not defined"
     ]
    }
   ],
   "source": [
    "df = csv.read(mydf.csv)"
   ]
  },
  {
   "cell_type": "code",
   "execution_count": 177,
   "id": "8a61384d-4ef6-4da8-925e-b52a57d53212",
   "metadata": {},
   "outputs": [],
   "source": [
    "df = pd.read_csv('mydf.csv')"
   ]
  },
  {
   "cell_type": "code",
   "execution_count": 179,
   "id": "a7f3ef37-dd09-4e11-a053-09baa9da1440",
   "metadata": {},
   "outputs": [
    {
     "data": {
      "text/html": [
       "<div>\n",
       "<style scoped>\n",
       "    .dataframe tbody tr th:only-of-type {\n",
       "        vertical-align: middle;\n",
       "    }\n",
       "\n",
       "    .dataframe tbody tr th {\n",
       "        vertical-align: top;\n",
       "    }\n",
       "\n",
       "    .dataframe thead th {\n",
       "        text-align: right;\n",
       "    }\n",
       "</style>\n",
       "<table border=\"1\" class=\"dataframe\">\n",
       "  <thead>\n",
       "    <tr style=\"text-align: right;\">\n",
       "      <th></th>\n",
       "      <th>Unnamed: 0</th>\n",
       "      <th>name</th>\n",
       "      <th>age</th>\n",
       "      <th>id</th>\n",
       "      <th>email</th>\n",
       "      <th>fname</th>\n",
       "      <th>lname</th>\n",
       "    </tr>\n",
       "  </thead>\n",
       "  <tbody>\n",
       "    <tr>\n",
       "      <th>0</th>\n",
       "      <td>0</td>\n",
       "      <td>Nicholas Davis</td>\n",
       "      <td>65</td>\n",
       "      <td>1033</td>\n",
       "      <td>NicholasDavis1033@mail.com</td>\n",
       "      <td>Nicholas</td>\n",
       "      <td>Davis</td>\n",
       "    </tr>\n",
       "    <tr>\n",
       "      <th>1</th>\n",
       "      <td>1</td>\n",
       "      <td>Alyssa Marshall</td>\n",
       "      <td>23</td>\n",
       "      <td>1034</td>\n",
       "      <td>AlyssaMarshall1034@mail.com</td>\n",
       "      <td>Alyssa</td>\n",
       "      <td>Marshall</td>\n",
       "    </tr>\n",
       "    <tr>\n",
       "      <th>2</th>\n",
       "      <td>2</td>\n",
       "      <td>Christian Potts</td>\n",
       "      <td>24</td>\n",
       "      <td>1088</td>\n",
       "      <td>ChristianPotts1088@mail.com</td>\n",
       "      <td>Christian</td>\n",
       "      <td>Potts</td>\n",
       "    </tr>\n",
       "    <tr>\n",
       "      <th>3</th>\n",
       "      <td>3</td>\n",
       "      <td>Angela Mcclure</td>\n",
       "      <td>85</td>\n",
       "      <td>1084</td>\n",
       "      <td>AngelaMcclure1084@mail.com</td>\n",
       "      <td>Angela</td>\n",
       "      <td>Mcclure</td>\n",
       "    </tr>\n",
       "    <tr>\n",
       "      <th>4</th>\n",
       "      <td>4</td>\n",
       "      <td>Debra Russell</td>\n",
       "      <td>58</td>\n",
       "      <td>1090</td>\n",
       "      <td>DebraRussell1090@mail.com</td>\n",
       "      <td>Debra</td>\n",
       "      <td>Russell</td>\n",
       "    </tr>\n",
       "  </tbody>\n",
       "</table>\n",
       "</div>"
      ],
      "text/plain": [
       "   Unnamed: 0             name  age    id                        email  \\\n",
       "0           0   Nicholas Davis   65  1033   NicholasDavis1033@mail.com   \n",
       "1           1  Alyssa Marshall   23  1034  AlyssaMarshall1034@mail.com   \n",
       "2           2  Christian Potts   24  1088  ChristianPotts1088@mail.com   \n",
       "3           3   Angela Mcclure   85  1084   AngelaMcclure1084@mail.com   \n",
       "4           4    Debra Russell   58  1090    DebraRussell1090@mail.com   \n",
       "\n",
       "       fname     lname  \n",
       "0   Nicholas     Davis  \n",
       "1     Alyssa  Marshall  \n",
       "2  Christian     Potts  \n",
       "3     Angela   Mcclure  \n",
       "4      Debra   Russell  "
      ]
     },
     "execution_count": 179,
     "metadata": {},
     "output_type": "execute_result"
    }
   ],
   "source": [
    "df.head()"
   ]
  },
  {
   "cell_type": "code",
   "execution_count": 185,
   "id": "cf4e0cc7-0ed7-4c5c-a972-22a144a05012",
   "metadata": {},
   "outputs": [
    {
     "data": {
      "text/html": [
       "<div>\n",
       "<style scoped>\n",
       "    .dataframe tbody tr th:only-of-type {\n",
       "        vertical-align: middle;\n",
       "    }\n",
       "\n",
       "    .dataframe tbody tr th {\n",
       "        vertical-align: top;\n",
       "    }\n",
       "\n",
       "    .dataframe thead th {\n",
       "        text-align: right;\n",
       "    }\n",
       "</style>\n",
       "<table border=\"1\" class=\"dataframe\">\n",
       "  <thead>\n",
       "    <tr style=\"text-align: right;\">\n",
       "      <th></th>\n",
       "      <th>Name</th>\n",
       "      <th>First Name</th>\n",
       "      <th>Last Name</th>\n",
       "    </tr>\n",
       "  </thead>\n",
       "  <tbody>\n",
       "    <tr>\n",
       "      <th>0</th>\n",
       "      <td>هلیا کریمی</td>\n",
       "      <td>هلیا</td>\n",
       "      <td>کریمی</td>\n",
       "    </tr>\n",
       "    <tr>\n",
       "      <th>1</th>\n",
       "      <td>Rachel Allison</td>\n",
       "      <td>Rachel</td>\n",
       "      <td>Allison</td>\n",
       "    </tr>\n",
       "    <tr>\n",
       "      <th>2</th>\n",
       "      <td>Amber Pugh</td>\n",
       "      <td>Amber</td>\n",
       "      <td>Pugh</td>\n",
       "    </tr>\n",
       "    <tr>\n",
       "      <th>3</th>\n",
       "      <td>Samuel Jensen</td>\n",
       "      <td>Samuel</td>\n",
       "      <td>Jensen</td>\n",
       "    </tr>\n",
       "    <tr>\n",
       "      <th>4</th>\n",
       "      <td>سرکار خانم دکتر مريم زارعی</td>\n",
       "      <td>سرکار</td>\n",
       "      <td>زارعی</td>\n",
       "    </tr>\n",
       "    <tr>\n",
       "      <th>...</th>\n",
       "      <td>...</td>\n",
       "      <td>...</td>\n",
       "      <td>...</td>\n",
       "    </tr>\n",
       "    <tr>\n",
       "      <th>95</th>\n",
       "      <td>David Bowers</td>\n",
       "      <td>David</td>\n",
       "      <td>Bowers</td>\n",
       "    </tr>\n",
       "    <tr>\n",
       "      <th>96</th>\n",
       "      <td>جناب آقای امیررضا تنزیلی</td>\n",
       "      <td>جناب</td>\n",
       "      <td>تنزیلی</td>\n",
       "    </tr>\n",
       "    <tr>\n",
       "      <th>97</th>\n",
       "      <td>علی اكبر میردامادی</td>\n",
       "      <td>علی</td>\n",
       "      <td>میردامادی</td>\n",
       "    </tr>\n",
       "    <tr>\n",
       "      <th>98</th>\n",
       "      <td>جناب آقای دکتر علیرضا موحد</td>\n",
       "      <td>جناب</td>\n",
       "      <td>موحد</td>\n",
       "    </tr>\n",
       "    <tr>\n",
       "      <th>99</th>\n",
       "      <td>Rick Brown</td>\n",
       "      <td>Rick</td>\n",
       "      <td>Brown</td>\n",
       "    </tr>\n",
       "  </tbody>\n",
       "</table>\n",
       "<p>100 rows × 3 columns</p>\n",
       "</div>"
      ],
      "text/plain": [
       "                          Name First Name  Last Name\n",
       "0                   هلیا کریمی       هلیا      کریمی\n",
       "1               Rachel Allison     Rachel    Allison\n",
       "2                   Amber Pugh      Amber       Pugh\n",
       "3                Samuel Jensen     Samuel     Jensen\n",
       "4   سرکار خانم دکتر مريم زارعی      سرکار      زارعی\n",
       "..                         ...        ...        ...\n",
       "95                David Bowers      David     Bowers\n",
       "96    جناب آقای امیررضا تنزیلی       جناب     تنزیلی\n",
       "97          علی اكبر میردامادی        علی  میردامادی\n",
       "98  جناب آقای دکتر علیرضا موحد       جناب       موحد\n",
       "99                  Rick Brown       Rick      Brown\n",
       "\n",
       "[100 rows x 3 columns]"
      ]
     },
     "execution_count": 185,
     "metadata": {},
     "output_type": "execute_result"
    }
   ],
   "source": [
    "df"
   ]
  },
  {
   "cell_type": "code",
   "execution_count": 187,
   "id": "a53f155e-86ac-4036-a07b-ae48f82236b3",
   "metadata": {},
   "outputs": [],
   "source": [
    "def name_to_gender(first_name):\n",
    "    info = nd.search(first_name)['first_name']\n",
    "    return max(info['gender'], key=info['gender'].get())"
   ]
  },
  {
   "cell_type": "code",
   "execution_count": 188,
   "id": "9d2f10ca-4a85-4970-8ab9-c7f41fff5e09",
   "metadata": {},
   "outputs": [
    {
     "ename": "TypeError",
     "evalue": "get expected at least 1 argument, got 0",
     "output_type": "error",
     "traceback": [
      "\u001b[0;31m---------------------------------------------------------------------------\u001b[0m",
      "\u001b[0;31mTypeError\u001b[0m                                 Traceback (most recent call last)",
      "\u001b[0;32m/var/folders/vw/_7ms67xn1jxb_9zqbfcn4q080000gn/T/ipykernel_43527/3071187676.py\u001b[0m in \u001b[0;36m<module>\u001b[0;34m\u001b[0m\n\u001b[0;32m----> 1\u001b[0;31m \u001b[0mdf\u001b[0m\u001b[0;34m[\u001b[0m\u001b[0;34m'Gender'\u001b[0m\u001b[0;34m]\u001b[0m \u001b[0;34m=\u001b[0m \u001b[0mdf\u001b[0m\u001b[0;34m[\u001b[0m\u001b[0;34m'First Name'\u001b[0m\u001b[0;34m]\u001b[0m\u001b[0;34m.\u001b[0m\u001b[0mapply\u001b[0m\u001b[0;34m(\u001b[0m\u001b[0mname_to_gender\u001b[0m\u001b[0;34m)\u001b[0m\u001b[0;34m\u001b[0m\u001b[0;34m\u001b[0m\u001b[0m\n\u001b[0m",
      "\u001b[0;32m~/opt/anaconda3/lib/python3.9/site-packages/pandas/core/series.py\u001b[0m in \u001b[0;36mapply\u001b[0;34m(self, func, convert_dtype, args, **kwargs)\u001b[0m\n\u001b[1;32m   4355\u001b[0m         \u001b[0mdtype\u001b[0m\u001b[0;34m:\u001b[0m \u001b[0mfloat64\u001b[0m\u001b[0;34m\u001b[0m\u001b[0;34m\u001b[0m\u001b[0m\n\u001b[1;32m   4356\u001b[0m         \"\"\"\n\u001b[0;32m-> 4357\u001b[0;31m         \u001b[0;32mreturn\u001b[0m \u001b[0mSeriesApply\u001b[0m\u001b[0;34m(\u001b[0m\u001b[0mself\u001b[0m\u001b[0;34m,\u001b[0m \u001b[0mfunc\u001b[0m\u001b[0;34m,\u001b[0m \u001b[0mconvert_dtype\u001b[0m\u001b[0;34m,\u001b[0m \u001b[0margs\u001b[0m\u001b[0;34m,\u001b[0m \u001b[0mkwargs\u001b[0m\u001b[0;34m)\u001b[0m\u001b[0;34m.\u001b[0m\u001b[0mapply\u001b[0m\u001b[0;34m(\u001b[0m\u001b[0;34m)\u001b[0m\u001b[0;34m\u001b[0m\u001b[0;34m\u001b[0m\u001b[0m\n\u001b[0m\u001b[1;32m   4358\u001b[0m \u001b[0;34m\u001b[0m\u001b[0m\n\u001b[1;32m   4359\u001b[0m     def _reduce(\n",
      "\u001b[0;32m~/opt/anaconda3/lib/python3.9/site-packages/pandas/core/apply.py\u001b[0m in \u001b[0;36mapply\u001b[0;34m(self)\u001b[0m\n\u001b[1;32m   1041\u001b[0m             \u001b[0;32mreturn\u001b[0m \u001b[0mself\u001b[0m\u001b[0;34m.\u001b[0m\u001b[0mapply_str\u001b[0m\u001b[0;34m(\u001b[0m\u001b[0;34m)\u001b[0m\u001b[0;34m\u001b[0m\u001b[0;34m\u001b[0m\u001b[0m\n\u001b[1;32m   1042\u001b[0m \u001b[0;34m\u001b[0m\u001b[0m\n\u001b[0;32m-> 1043\u001b[0;31m         \u001b[0;32mreturn\u001b[0m \u001b[0mself\u001b[0m\u001b[0;34m.\u001b[0m\u001b[0mapply_standard\u001b[0m\u001b[0;34m(\u001b[0m\u001b[0;34m)\u001b[0m\u001b[0;34m\u001b[0m\u001b[0;34m\u001b[0m\u001b[0m\n\u001b[0m\u001b[1;32m   1044\u001b[0m \u001b[0;34m\u001b[0m\u001b[0m\n\u001b[1;32m   1045\u001b[0m     \u001b[0;32mdef\u001b[0m \u001b[0magg\u001b[0m\u001b[0;34m(\u001b[0m\u001b[0mself\u001b[0m\u001b[0;34m)\u001b[0m\u001b[0;34m:\u001b[0m\u001b[0;34m\u001b[0m\u001b[0;34m\u001b[0m\u001b[0m\n",
      "\u001b[0;32m~/opt/anaconda3/lib/python3.9/site-packages/pandas/core/apply.py\u001b[0m in \u001b[0;36mapply_standard\u001b[0;34m(self)\u001b[0m\n\u001b[1;32m   1096\u001b[0m                 \u001b[0;31m# List[Union[Callable[..., Any], str]]]]]\"; expected\u001b[0m\u001b[0;34m\u001b[0m\u001b[0;34m\u001b[0m\u001b[0m\n\u001b[1;32m   1097\u001b[0m                 \u001b[0;31m# \"Callable[[Any], Any]\"\u001b[0m\u001b[0;34m\u001b[0m\u001b[0;34m\u001b[0m\u001b[0m\n\u001b[0;32m-> 1098\u001b[0;31m                 mapped = lib.map_infer(\n\u001b[0m\u001b[1;32m   1099\u001b[0m                     \u001b[0mvalues\u001b[0m\u001b[0;34m,\u001b[0m\u001b[0;34m\u001b[0m\u001b[0;34m\u001b[0m\u001b[0m\n\u001b[1;32m   1100\u001b[0m                     \u001b[0mf\u001b[0m\u001b[0;34m,\u001b[0m  \u001b[0;31m# type: ignore[arg-type]\u001b[0m\u001b[0;34m\u001b[0m\u001b[0;34m\u001b[0m\u001b[0m\n",
      "\u001b[0;32m~/opt/anaconda3/lib/python3.9/site-packages/pandas/_libs/lib.pyx\u001b[0m in \u001b[0;36mpandas._libs.lib.map_infer\u001b[0;34m()\u001b[0m\n",
      "\u001b[0;32m/var/folders/vw/_7ms67xn1jxb_9zqbfcn4q080000gn/T/ipykernel_43527/751874884.py\u001b[0m in \u001b[0;36mname_to_gender\u001b[0;34m(first_name)\u001b[0m\n\u001b[1;32m      1\u001b[0m \u001b[0;32mdef\u001b[0m \u001b[0mname_to_gender\u001b[0m\u001b[0;34m(\u001b[0m\u001b[0mfirst_name\u001b[0m\u001b[0;34m)\u001b[0m\u001b[0;34m:\u001b[0m\u001b[0;34m\u001b[0m\u001b[0;34m\u001b[0m\u001b[0m\n\u001b[1;32m      2\u001b[0m     \u001b[0minfo\u001b[0m \u001b[0;34m=\u001b[0m \u001b[0mnd\u001b[0m\u001b[0;34m.\u001b[0m\u001b[0msearch\u001b[0m\u001b[0;34m(\u001b[0m\u001b[0mfirst_name\u001b[0m\u001b[0;34m)\u001b[0m\u001b[0;34m[\u001b[0m\u001b[0;34m'first_name'\u001b[0m\u001b[0;34m]\u001b[0m\u001b[0;34m\u001b[0m\u001b[0;34m\u001b[0m\u001b[0m\n\u001b[0;32m----> 3\u001b[0;31m     \u001b[0;32mreturn\u001b[0m \u001b[0mmax\u001b[0m\u001b[0;34m(\u001b[0m\u001b[0minfo\u001b[0m\u001b[0;34m[\u001b[0m\u001b[0;34m'gender'\u001b[0m\u001b[0;34m]\u001b[0m\u001b[0;34m,\u001b[0m \u001b[0mkey\u001b[0m\u001b[0;34m=\u001b[0m\u001b[0minfo\u001b[0m\u001b[0;34m[\u001b[0m\u001b[0;34m'gender'\u001b[0m\u001b[0;34m]\u001b[0m\u001b[0;34m.\u001b[0m\u001b[0mget\u001b[0m\u001b[0;34m(\u001b[0m\u001b[0;34m)\u001b[0m\u001b[0;34m)\u001b[0m\u001b[0;34m\u001b[0m\u001b[0;34m\u001b[0m\u001b[0m\n\u001b[0m",
      "\u001b[0;31mTypeError\u001b[0m: get expected at least 1 argument, got 0"
     ]
    }
   ],
   "source": [
    "df['Gender'] = df['First Name'].apply(name_to_gender)"
   ]
  },
  {
   "cell_type": "code",
   "execution_count": 209,
   "id": "e1a86962-adcc-48c0-91a2-2cbda2aa940b",
   "metadata": {},
   "outputs": [],
   "source": [
    "index = pd.date_range('1/1/2000', periods=10, freq='W-MON')"
   ]
  },
  {
   "cell_type": "code",
   "execution_count": 210,
   "id": "8330b3b9-b140-48c3-9d08-b1b99decd096",
   "metadata": {},
   "outputs": [],
   "source": [
    "dff = pd.DataFrame(\n",
    "    np.random.randn(10, 3),\n",
    "    index = index,\n",
    "    columns = list('ABC')\n",
    ")"
   ]
  },
  {
   "cell_type": "code",
   "execution_count": 217,
   "id": "81fd6631-b150-48ff-8556-c56c97ab4349",
   "metadata": {},
   "outputs": [],
   "source": [
    "dff['Full Name'] = [en_fake.name() for _ in range(10)]"
   ]
  },
  {
   "cell_type": "code",
   "execution_count": 220,
   "id": "4149756d-f89e-498c-aa2c-92c4807c9fdd",
   "metadata": {},
   "outputs": [],
   "source": [
    "del dff['first name']"
   ]
  },
  {
   "cell_type": "code",
   "execution_count": 221,
   "id": "7fdeeb53-7f0c-40eb-b982-4727d8e8bf0f",
   "metadata": {},
   "outputs": [
    {
     "data": {
      "text/html": [
       "<div>\n",
       "<style scoped>\n",
       "    .dataframe tbody tr th:only-of-type {\n",
       "        vertical-align: middle;\n",
       "    }\n",
       "\n",
       "    .dataframe tbody tr th {\n",
       "        vertical-align: top;\n",
       "    }\n",
       "\n",
       "    .dataframe thead th {\n",
       "        text-align: right;\n",
       "    }\n",
       "</style>\n",
       "<table border=\"1\" class=\"dataframe\">\n",
       "  <thead>\n",
       "    <tr style=\"text-align: right;\">\n",
       "      <th></th>\n",
       "      <th>A</th>\n",
       "      <th>B</th>\n",
       "      <th>C</th>\n",
       "      <th>Full Name</th>\n",
       "    </tr>\n",
       "  </thead>\n",
       "  <tbody>\n",
       "    <tr>\n",
       "      <th>2000-01-03</th>\n",
       "      <td>-0.126752</td>\n",
       "      <td>0.840817</td>\n",
       "      <td>-0.288086</td>\n",
       "      <td>Jessica Moore</td>\n",
       "    </tr>\n",
       "    <tr>\n",
       "      <th>2000-01-10</th>\n",
       "      <td>0.607667</td>\n",
       "      <td>0.135012</td>\n",
       "      <td>0.427606</td>\n",
       "      <td>Michael Gonzalez</td>\n",
       "    </tr>\n",
       "    <tr>\n",
       "      <th>2000-01-17</th>\n",
       "      <td>-0.528181</td>\n",
       "      <td>-0.150574</td>\n",
       "      <td>-0.980171</td>\n",
       "      <td>Meghan Powell</td>\n",
       "    </tr>\n",
       "    <tr>\n",
       "      <th>2000-01-24</th>\n",
       "      <td>-1.146278</td>\n",
       "      <td>-0.749390</td>\n",
       "      <td>-0.347407</td>\n",
       "      <td>Shelby Hickman</td>\n",
       "    </tr>\n",
       "    <tr>\n",
       "      <th>2000-01-31</th>\n",
       "      <td>0.732710</td>\n",
       "      <td>-1.571773</td>\n",
       "      <td>-0.491279</td>\n",
       "      <td>Richard Marshall</td>\n",
       "    </tr>\n",
       "    <tr>\n",
       "      <th>2000-02-07</th>\n",
       "      <td>-0.529051</td>\n",
       "      <td>0.600986</td>\n",
       "      <td>-0.614280</td>\n",
       "      <td>Christopher Jenkins</td>\n",
       "    </tr>\n",
       "    <tr>\n",
       "      <th>2000-02-14</th>\n",
       "      <td>0.589390</td>\n",
       "      <td>-1.206185</td>\n",
       "      <td>-0.303099</td>\n",
       "      <td>Julia Lopez</td>\n",
       "    </tr>\n",
       "    <tr>\n",
       "      <th>2000-02-21</th>\n",
       "      <td>1.653870</td>\n",
       "      <td>-0.239279</td>\n",
       "      <td>-0.499065</td>\n",
       "      <td>Briana Sanchez</td>\n",
       "    </tr>\n",
       "    <tr>\n",
       "      <th>2000-02-28</th>\n",
       "      <td>0.331713</td>\n",
       "      <td>-0.318905</td>\n",
       "      <td>0.577562</td>\n",
       "      <td>Jane Nelson</td>\n",
       "    </tr>\n",
       "    <tr>\n",
       "      <th>2000-03-06</th>\n",
       "      <td>2.697999</td>\n",
       "      <td>0.028074</td>\n",
       "      <td>-0.882708</td>\n",
       "      <td>James Williams</td>\n",
       "    </tr>\n",
       "  </tbody>\n",
       "</table>\n",
       "</div>"
      ],
      "text/plain": [
       "                   A         B         C            Full Name\n",
       "2000-01-03 -0.126752  0.840817 -0.288086        Jessica Moore\n",
       "2000-01-10  0.607667  0.135012  0.427606     Michael Gonzalez\n",
       "2000-01-17 -0.528181 -0.150574 -0.980171        Meghan Powell\n",
       "2000-01-24 -1.146278 -0.749390 -0.347407       Shelby Hickman\n",
       "2000-01-31  0.732710 -1.571773 -0.491279     Richard Marshall\n",
       "2000-02-07 -0.529051  0.600986 -0.614280  Christopher Jenkins\n",
       "2000-02-14  0.589390 -1.206185 -0.303099          Julia Lopez\n",
       "2000-02-21  1.653870 -0.239279 -0.499065       Briana Sanchez\n",
       "2000-02-28  0.331713 -0.318905  0.577562          Jane Nelson\n",
       "2000-03-06  2.697999  0.028074 -0.882708       James Williams"
      ]
     },
     "execution_count": 221,
     "metadata": {},
     "output_type": "execute_result"
    }
   ],
   "source": [
    "dff"
   ]
  },
  {
   "cell_type": "code",
   "execution_count": 225,
   "id": "0897cde9-c764-4d6e-b84f-9b8ff99efabc",
   "metadata": {},
   "outputs": [],
   "source": [
    "dff['First Names'] = dff['Full Name'].apply(\n",
    "    lambda fullname:fullname.split()[0]\n",
    ")"
   ]
  },
  {
   "cell_type": "code",
   "execution_count": 226,
   "id": "5d9d6da8-b9d2-4d03-b901-ed82997f93e8",
   "metadata": {},
   "outputs": [
    {
     "data": {
      "text/html": [
       "<div>\n",
       "<style scoped>\n",
       "    .dataframe tbody tr th:only-of-type {\n",
       "        vertical-align: middle;\n",
       "    }\n",
       "\n",
       "    .dataframe tbody tr th {\n",
       "        vertical-align: top;\n",
       "    }\n",
       "\n",
       "    .dataframe thead th {\n",
       "        text-align: right;\n",
       "    }\n",
       "</style>\n",
       "<table border=\"1\" class=\"dataframe\">\n",
       "  <thead>\n",
       "    <tr style=\"text-align: right;\">\n",
       "      <th></th>\n",
       "      <th>A</th>\n",
       "      <th>B</th>\n",
       "      <th>C</th>\n",
       "      <th>Full Name</th>\n",
       "      <th>First Names</th>\n",
       "    </tr>\n",
       "  </thead>\n",
       "  <tbody>\n",
       "    <tr>\n",
       "      <th>2000-01-03</th>\n",
       "      <td>-0.126752</td>\n",
       "      <td>0.840817</td>\n",
       "      <td>-0.288086</td>\n",
       "      <td>Jessica Moore</td>\n",
       "      <td>Jessica</td>\n",
       "    </tr>\n",
       "    <tr>\n",
       "      <th>2000-01-10</th>\n",
       "      <td>0.607667</td>\n",
       "      <td>0.135012</td>\n",
       "      <td>0.427606</td>\n",
       "      <td>Michael Gonzalez</td>\n",
       "      <td>Michael</td>\n",
       "    </tr>\n",
       "    <tr>\n",
       "      <th>2000-01-17</th>\n",
       "      <td>-0.528181</td>\n",
       "      <td>-0.150574</td>\n",
       "      <td>-0.980171</td>\n",
       "      <td>Meghan Powell</td>\n",
       "      <td>Meghan</td>\n",
       "    </tr>\n",
       "    <tr>\n",
       "      <th>2000-01-24</th>\n",
       "      <td>-1.146278</td>\n",
       "      <td>-0.749390</td>\n",
       "      <td>-0.347407</td>\n",
       "      <td>Shelby Hickman</td>\n",
       "      <td>Shelby</td>\n",
       "    </tr>\n",
       "    <tr>\n",
       "      <th>2000-01-31</th>\n",
       "      <td>0.732710</td>\n",
       "      <td>-1.571773</td>\n",
       "      <td>-0.491279</td>\n",
       "      <td>Richard Marshall</td>\n",
       "      <td>Richard</td>\n",
       "    </tr>\n",
       "    <tr>\n",
       "      <th>2000-02-07</th>\n",
       "      <td>-0.529051</td>\n",
       "      <td>0.600986</td>\n",
       "      <td>-0.614280</td>\n",
       "      <td>Christopher Jenkins</td>\n",
       "      <td>Christopher</td>\n",
       "    </tr>\n",
       "    <tr>\n",
       "      <th>2000-02-14</th>\n",
       "      <td>0.589390</td>\n",
       "      <td>-1.206185</td>\n",
       "      <td>-0.303099</td>\n",
       "      <td>Julia Lopez</td>\n",
       "      <td>Julia</td>\n",
       "    </tr>\n",
       "    <tr>\n",
       "      <th>2000-02-21</th>\n",
       "      <td>1.653870</td>\n",
       "      <td>-0.239279</td>\n",
       "      <td>-0.499065</td>\n",
       "      <td>Briana Sanchez</td>\n",
       "      <td>Briana</td>\n",
       "    </tr>\n",
       "    <tr>\n",
       "      <th>2000-02-28</th>\n",
       "      <td>0.331713</td>\n",
       "      <td>-0.318905</td>\n",
       "      <td>0.577562</td>\n",
       "      <td>Jane Nelson</td>\n",
       "      <td>Jane</td>\n",
       "    </tr>\n",
       "    <tr>\n",
       "      <th>2000-03-06</th>\n",
       "      <td>2.697999</td>\n",
       "      <td>0.028074</td>\n",
       "      <td>-0.882708</td>\n",
       "      <td>James Williams</td>\n",
       "      <td>James</td>\n",
       "    </tr>\n",
       "  </tbody>\n",
       "</table>\n",
       "</div>"
      ],
      "text/plain": [
       "                   A         B         C            Full Name  First Names\n",
       "2000-01-03 -0.126752  0.840817 -0.288086        Jessica Moore      Jessica\n",
       "2000-01-10  0.607667  0.135012  0.427606     Michael Gonzalez      Michael\n",
       "2000-01-17 -0.528181 -0.150574 -0.980171        Meghan Powell       Meghan\n",
       "2000-01-24 -1.146278 -0.749390 -0.347407       Shelby Hickman       Shelby\n",
       "2000-01-31  0.732710 -1.571773 -0.491279     Richard Marshall      Richard\n",
       "2000-02-07 -0.529051  0.600986 -0.614280  Christopher Jenkins  Christopher\n",
       "2000-02-14  0.589390 -1.206185 -0.303099          Julia Lopez        Julia\n",
       "2000-02-21  1.653870 -0.239279 -0.499065       Briana Sanchez       Briana\n",
       "2000-02-28  0.331713 -0.318905  0.577562          Jane Nelson         Jane\n",
       "2000-03-06  2.697999  0.028074 -0.882708       James Williams        James"
      ]
     },
     "execution_count": 226,
     "metadata": {},
     "output_type": "execute_result"
    }
   ],
   "source": [
    "dff"
   ]
  },
  {
   "cell_type": "code",
   "execution_count": 228,
   "id": "cee787e2-9137-480e-8003-9d4af4d84b02",
   "metadata": {},
   "outputs": [],
   "source": [
    "dff['Last Name'] = dff['Full Name'].apply(\n",
    "    lambda name:name.split()[-1]\n",
    ")"
   ]
  },
  {
   "cell_type": "code",
   "execution_count": 234,
   "id": "7fded76a-bb8d-41f9-8258-066939aae0cd",
   "metadata": {},
   "outputs": [],
   "source": [
    "dff['email'] = dff['First Names'] + '.' + dff['Last Name'] + '@polimi.it'"
   ]
  },
  {
   "cell_type": "code",
   "execution_count": 249,
   "id": "fe44da60-da75-459b-8903-61438c6eb1a2",
   "metadata": {},
   "outputs": [],
   "source": [
    "dff.to_csv('mydff.csv')"
   ]
  },
  {
   "cell_type": "code",
   "execution_count": 250,
   "id": "5629621f-430d-4fcf-9078-63d494836609",
   "metadata": {},
   "outputs": [],
   "source": [
    "mydff = pd.read_csv('mydff.csv')"
   ]
  },
  {
   "cell_type": "code",
   "execution_count": 251,
   "id": "4683ea56-0c20-4ecb-b826-a3dc828937f5",
   "metadata": {},
   "outputs": [
    {
     "data": {
      "text/html": [
       "<div>\n",
       "<style scoped>\n",
       "    .dataframe tbody tr th:only-of-type {\n",
       "        vertical-align: middle;\n",
       "    }\n",
       "\n",
       "    .dataframe tbody tr th {\n",
       "        vertical-align: top;\n",
       "    }\n",
       "\n",
       "    .dataframe thead th {\n",
       "        text-align: right;\n",
       "    }\n",
       "</style>\n",
       "<table border=\"1\" class=\"dataframe\">\n",
       "  <thead>\n",
       "    <tr style=\"text-align: right;\">\n",
       "      <th></th>\n",
       "      <th>Unnamed: 0</th>\n",
       "      <th>A</th>\n",
       "      <th>B</th>\n",
       "      <th>C</th>\n",
       "      <th>Full Name</th>\n",
       "      <th>First Names</th>\n",
       "      <th>Last Name</th>\n",
       "      <th>email</th>\n",
       "    </tr>\n",
       "  </thead>\n",
       "  <tbody>\n",
       "    <tr>\n",
       "      <th>0</th>\n",
       "      <td>2000-01-03</td>\n",
       "      <td>-0.126752</td>\n",
       "      <td>0.840817</td>\n",
       "      <td>-0.288086</td>\n",
       "      <td>Jessica Moore</td>\n",
       "      <td>Jessica</td>\n",
       "      <td>Moore</td>\n",
       "      <td>Jessica.Moore@polimi.it</td>\n",
       "    </tr>\n",
       "    <tr>\n",
       "      <th>1</th>\n",
       "      <td>2000-01-10</td>\n",
       "      <td>0.607667</td>\n",
       "      <td>0.135012</td>\n",
       "      <td>0.427606</td>\n",
       "      <td>Michael Gonzalez</td>\n",
       "      <td>Michael</td>\n",
       "      <td>Gonzalez</td>\n",
       "      <td>Michael.Gonzalez@polimi.it</td>\n",
       "    </tr>\n",
       "    <tr>\n",
       "      <th>2</th>\n",
       "      <td>2000-01-17</td>\n",
       "      <td>-0.528181</td>\n",
       "      <td>-0.150574</td>\n",
       "      <td>-0.980171</td>\n",
       "      <td>Meghan Powell</td>\n",
       "      <td>Meghan</td>\n",
       "      <td>Powell</td>\n",
       "      <td>Meghan.Powell@polimi.it</td>\n",
       "    </tr>\n",
       "    <tr>\n",
       "      <th>3</th>\n",
       "      <td>2000-01-24</td>\n",
       "      <td>-1.146278</td>\n",
       "      <td>-0.749390</td>\n",
       "      <td>-0.347407</td>\n",
       "      <td>Shelby Hickman</td>\n",
       "      <td>Shelby</td>\n",
       "      <td>Hickman</td>\n",
       "      <td>Shelby.Hickman@polimi.it</td>\n",
       "    </tr>\n",
       "    <tr>\n",
       "      <th>4</th>\n",
       "      <td>2000-01-31</td>\n",
       "      <td>0.732710</td>\n",
       "      <td>-1.571773</td>\n",
       "      <td>-0.491279</td>\n",
       "      <td>Richard Marshall</td>\n",
       "      <td>Richard</td>\n",
       "      <td>Marshall</td>\n",
       "      <td>Richard.Marshall@polimi.it</td>\n",
       "    </tr>\n",
       "    <tr>\n",
       "      <th>5</th>\n",
       "      <td>2000-02-07</td>\n",
       "      <td>-0.529051</td>\n",
       "      <td>0.600986</td>\n",
       "      <td>-0.614280</td>\n",
       "      <td>Christopher Jenkins</td>\n",
       "      <td>Christopher</td>\n",
       "      <td>Jenkins</td>\n",
       "      <td>Christopher.Jenkins@polimi.it</td>\n",
       "    </tr>\n",
       "    <tr>\n",
       "      <th>6</th>\n",
       "      <td>2000-02-14</td>\n",
       "      <td>0.589390</td>\n",
       "      <td>-1.206185</td>\n",
       "      <td>-0.303099</td>\n",
       "      <td>Julia Lopez</td>\n",
       "      <td>Julia</td>\n",
       "      <td>Lopez</td>\n",
       "      <td>Julia.Lopez@polimi.it</td>\n",
       "    </tr>\n",
       "    <tr>\n",
       "      <th>7</th>\n",
       "      <td>2000-02-21</td>\n",
       "      <td>1.653870</td>\n",
       "      <td>-0.239279</td>\n",
       "      <td>-0.499065</td>\n",
       "      <td>Briana Sanchez</td>\n",
       "      <td>Briana</td>\n",
       "      <td>Sanchez</td>\n",
       "      <td>Briana.Sanchez@polimi.it</td>\n",
       "    </tr>\n",
       "    <tr>\n",
       "      <th>8</th>\n",
       "      <td>2000-02-28</td>\n",
       "      <td>0.331713</td>\n",
       "      <td>-0.318905</td>\n",
       "      <td>0.577562</td>\n",
       "      <td>Jane Nelson</td>\n",
       "      <td>Jane</td>\n",
       "      <td>Nelson</td>\n",
       "      <td>Jane.Nelson@polimi.it</td>\n",
       "    </tr>\n",
       "    <tr>\n",
       "      <th>9</th>\n",
       "      <td>2000-03-06</td>\n",
       "      <td>2.697999</td>\n",
       "      <td>0.028074</td>\n",
       "      <td>-0.882708</td>\n",
       "      <td>James Williams</td>\n",
       "      <td>James</td>\n",
       "      <td>Williams</td>\n",
       "      <td>James.Williams@polimi.it</td>\n",
       "    </tr>\n",
       "  </tbody>\n",
       "</table>\n",
       "</div>"
      ],
      "text/plain": [
       "   Unnamed: 0         A         B         C            Full Name  First Names  \\\n",
       "0  2000-01-03 -0.126752  0.840817 -0.288086        Jessica Moore      Jessica   \n",
       "1  2000-01-10  0.607667  0.135012  0.427606     Michael Gonzalez      Michael   \n",
       "2  2000-01-17 -0.528181 -0.150574 -0.980171        Meghan Powell       Meghan   \n",
       "3  2000-01-24 -1.146278 -0.749390 -0.347407       Shelby Hickman       Shelby   \n",
       "4  2000-01-31  0.732710 -1.571773 -0.491279     Richard Marshall      Richard   \n",
       "5  2000-02-07 -0.529051  0.600986 -0.614280  Christopher Jenkins  Christopher   \n",
       "6  2000-02-14  0.589390 -1.206185 -0.303099          Julia Lopez        Julia   \n",
       "7  2000-02-21  1.653870 -0.239279 -0.499065       Briana Sanchez       Briana   \n",
       "8  2000-02-28  0.331713 -0.318905  0.577562          Jane Nelson         Jane   \n",
       "9  2000-03-06  2.697999  0.028074 -0.882708       James Williams        James   \n",
       "\n",
       "  Last Name                          email  \n",
       "0     Moore        Jessica.Moore@polimi.it  \n",
       "1  Gonzalez     Michael.Gonzalez@polimi.it  \n",
       "2    Powell        Meghan.Powell@polimi.it  \n",
       "3   Hickman       Shelby.Hickman@polimi.it  \n",
       "4  Marshall     Richard.Marshall@polimi.it  \n",
       "5   Jenkins  Christopher.Jenkins@polimi.it  \n",
       "6     Lopez          Julia.Lopez@polimi.it  \n",
       "7   Sanchez       Briana.Sanchez@polimi.it  \n",
       "8    Nelson          Jane.Nelson@polimi.it  \n",
       "9  Williams       James.Williams@polimi.it  "
      ]
     },
     "execution_count": 251,
     "metadata": {},
     "output_type": "execute_result"
    }
   ],
   "source": [
    "mydff"
   ]
  },
  {
   "cell_type": "code",
   "execution_count": 252,
   "id": "17ffec4b-c9ba-407e-935c-23d714208a02",
   "metadata": {},
   "outputs": [
    {
     "data": {
      "text/plain": [
       "RangeIndex(start=0, stop=10, step=1)"
      ]
     },
     "execution_count": 252,
     "metadata": {},
     "output_type": "execute_result"
    }
   ],
   "source": [
    "mydff.index"
   ]
  },
  {
   "cell_type": "code",
   "execution_count": 255,
   "id": "17377f44-41d8-4dc1-b698-4058d6a553b1",
   "metadata": {},
   "outputs": [
    {
     "data": {
      "text/plain": [
       "Index(['Unnamed: 0', 'A', 'B', 'C', 'Full Name', 'First Names', 'Last Name',\n",
       "       'email'],\n",
       "      dtype='object')"
      ]
     },
     "execution_count": 255,
     "metadata": {},
     "output_type": "execute_result"
    }
   ],
   "source": [
    "mydff.columns"
   ]
  },
  {
   "cell_type": "code",
   "execution_count": 1,
   "id": "33963987-c215-470d-9466-fb854f90dafb",
   "metadata": {},
   "outputs": [],
   "source": [
    "import os"
   ]
  },
  {
   "cell_type": "code",
   "execution_count": 2,
   "id": "f367591f-505e-4be9-b280-b370ef9ee9d5",
   "metadata": {},
   "outputs": [
    {
     "data": {
      "text/plain": [
       "'q234123413241234'"
      ]
     },
     "execution_count": 2,
     "metadata": {},
     "output_type": "execute_result"
    }
   ],
   "source": [
    "os.environ['x']"
   ]
  },
  {
   "cell_type": "code",
   "execution_count": null,
   "id": "b205d479-0a4f-4c33-90d0-46d0311d378d",
   "metadata": {},
   "outputs": [],
   "source": []
  }
 ],
 "metadata": {
  "kernelspec": {
   "display_name": "Python 3 (ipykernel)",
   "language": "python",
   "name": "python3"
  },
  "language_info": {
   "codemirror_mode": {
    "name": "ipython",
    "version": 3
   },
   "file_extension": ".py",
   "mimetype": "text/x-python",
   "name": "python",
   "nbconvert_exporter": "python",
   "pygments_lexer": "ipython3",
   "version": "3.9.7"
  }
 },
 "nbformat": 4,
 "nbformat_minor": 5
}
