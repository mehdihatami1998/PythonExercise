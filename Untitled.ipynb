{
 "cells": [
  {
   "cell_type": "code",
   "execution_count": 1,
   "id": "25831387-22a8-4dc8-8c6e-fa6d01d441f6",
   "metadata": {},
   "outputs": [],
   "source": [
    "from array import array"
   ]
  },
  {
   "cell_type": "code",
   "execution_count": 2,
   "id": "bf6e0293-3ecb-4454-9d7c-864600d6f192",
   "metadata": {},
   "outputs": [],
   "source": [
    "x = array('i', [1,2,3,4])"
   ]
  },
  {
   "cell_type": "code",
   "execution_count": 3,
   "id": "49b5abc2-741b-4767-af77-1574031111cd",
   "metadata": {},
   "outputs": [
    {
     "data": {
      "text/plain": [
       "array('i', [1, 2, 3, 4])"
      ]
     },
     "execution_count": 3,
     "metadata": {},
     "output_type": "execute_result"
    }
   ],
   "source": [
    "x"
   ]
  },
  {
   "cell_type": "code",
   "execution_count": 4,
   "id": "17debafd-cce3-4379-a88f-22e966733849",
   "metadata": {},
   "outputs": [],
   "source": [
    "x.append(5)"
   ]
  },
  {
   "cell_type": "code",
   "execution_count": 6,
   "id": "ae31943d-9655-4694-b9f9-7ea90b650750",
   "metadata": {},
   "outputs": [
    {
     "ename": "TypeError",
     "evalue": "an integer is required (got type str)",
     "output_type": "error",
     "traceback": [
      "\u001b[0;31m---------------------------------------------------------------------------\u001b[0m",
      "\u001b[0;31mTypeError\u001b[0m                                 Traceback (most recent call last)",
      "\u001b[0;32m/var/folders/vw/_7ms67xn1jxb_9zqbfcn4q080000gn/T/ipykernel_46022/2228447665.py\u001b[0m in \u001b[0;36m<module>\u001b[0;34m\u001b[0m\n\u001b[0;32m----> 1\u001b[0;31m \u001b[0mx\u001b[0m\u001b[0;34m.\u001b[0m\u001b[0mappend\u001b[0m\u001b[0;34m(\u001b[0m\u001b[0;34m\"a\"\u001b[0m\u001b[0;34m)\u001b[0m\u001b[0;34m\u001b[0m\u001b[0;34m\u001b[0m\u001b[0m\n\u001b[0m",
      "\u001b[0;31mTypeError\u001b[0m: an integer is required (got type str)"
     ]
    }
   ],
   "source": [
    "x.append(\"a\")"
   ]
  },
  {
   "cell_type": "code",
   "execution_count": 7,
   "id": "2ae063e7-b67d-481c-8fcb-81e637bb9cc7",
   "metadata": {},
   "outputs": [],
   "source": [
    "import numpy as np"
   ]
  },
  {
   "cell_type": "code",
   "execution_count": 8,
   "id": "8b7e7c38-4811-4a9c-9bce-494c3844461f",
   "metadata": {},
   "outputs": [],
   "source": [
    "a = np.array([1, 2, 3, 4, 5])"
   ]
  },
  {
   "cell_type": "code",
   "execution_count": 9,
   "id": "cf6f3ac2-c5ae-4151-9687-31ab9f424d3c",
   "metadata": {},
   "outputs": [
    {
     "data": {
      "text/plain": [
       "array([1, 2, 3, 4, 5])"
      ]
     },
     "execution_count": 9,
     "metadata": {},
     "output_type": "execute_result"
    }
   ],
   "source": [
    "a"
   ]
  },
  {
   "cell_type": "code",
   "execution_count": 10,
   "id": "c0708f66-0cc4-4063-879b-f072b4256bf6",
   "metadata": {},
   "outputs": [
    {
     "data": {
      "text/plain": [
       "dtype('int64')"
      ]
     },
     "execution_count": 10,
     "metadata": {},
     "output_type": "execute_result"
    }
   ],
   "source": [
    "a.dtype"
   ]
  },
  {
   "cell_type": "code",
   "execution_count": 19,
   "id": "48c1af9e-1dc7-4050-9a7a-05a424af1ebe",
   "metadata": {},
   "outputs": [],
   "source": [
    "a = np.array([1.2, 2, 3, -1])"
   ]
  },
  {
   "cell_type": "code",
   "execution_count": 20,
   "id": "d11ce257-1b6c-4bba-ade3-fa55afa74276",
   "metadata": {},
   "outputs": [
    {
     "data": {
      "text/plain": [
       "dtype('float64')"
      ]
     },
     "execution_count": 20,
     "metadata": {},
     "output_type": "execute_result"
    }
   ],
   "source": [
    "a.dtype"
   ]
  },
  {
   "cell_type": "code",
   "execution_count": 21,
   "id": "0b3f3b96-149a-4bef-a88d-f227cde44b5f",
   "metadata": {},
   "outputs": [],
   "source": [
    "a = np.arange(10)"
   ]
  },
  {
   "cell_type": "code",
   "execution_count": 22,
   "id": "76ae4567-eb3c-406d-8a43-565da4d784cb",
   "metadata": {},
   "outputs": [
    {
     "data": {
      "text/plain": [
       "array([0, 1, 2, 3, 4, 5, 6, 7, 8, 9])"
      ]
     },
     "execution_count": 22,
     "metadata": {},
     "output_type": "execute_result"
    }
   ],
   "source": [
    "a"
   ]
  },
  {
   "cell_type": "code",
   "execution_count": 23,
   "id": "437c5fd1-5f3e-43f6-875a-08c74fdd9b99",
   "metadata": {},
   "outputs": [],
   "source": [
    "\n",
    "a = np.random.random((10))"
   ]
  },
  {
   "cell_type": "code",
   "execution_count": 24,
   "id": "f32865e8-afe3-45df-b964-0d09d9d7f48b",
   "metadata": {},
   "outputs": [
    {
     "data": {
      "text/plain": [
       "array([0.61787849, 0.62291549, 0.40255482, 0.30721217, 0.15287535,\n",
       "       0.43756028, 0.97758113, 0.56329337, 0.84454945, 0.94178605])"
      ]
     },
     "execution_count": 24,
     "metadata": {},
     "output_type": "execute_result"
    }
   ],
   "source": [
    "a"
   ]
  },
  {
   "cell_type": "code",
   "execution_count": 25,
   "id": "3a8ada53-401f-4267-98f6-d3146868d904",
   "metadata": {},
   "outputs": [
    {
     "data": {
      "text/plain": [
       "(10,)"
      ]
     },
     "execution_count": 25,
     "metadata": {},
     "output_type": "execute_result"
    }
   ],
   "source": [
    "a.shape"
   ]
  },
  {
   "cell_type": "code",
   "execution_count": 26,
   "id": "fcee4517-0524-4e3c-9d7b-2dd93c04b8f7",
   "metadata": {},
   "outputs": [],
   "source": [
    "a = np.random.random(20).reshape(4, 5)"
   ]
  },
  {
   "cell_type": "code",
   "execution_count": 27,
   "id": "ecb8ed39-aec3-4157-9237-6a759047467c",
   "metadata": {},
   "outputs": [
    {
     "data": {
      "text/plain": [
       "array([[0.88089846, 0.66686773, 0.61783853, 0.04745132, 0.70991001],\n",
       "       [0.80334127, 0.81642877, 0.52972047, 0.47707301, 0.96443079],\n",
       "       [0.25126962, 0.80592982, 0.31013779, 0.54942082, 0.79772483],\n",
       "       [0.24604419, 0.41707334, 0.84096241, 0.96473123, 0.85182688]])"
      ]
     },
     "execution_count": 27,
     "metadata": {},
     "output_type": "execute_result"
    }
   ],
   "source": [
    "a"
   ]
  },
  {
   "cell_type": "code",
   "execution_count": 28,
   "id": "c33698fc-6bb1-49c0-9c60-eb5db8bdc923",
   "metadata": {},
   "outputs": [],
   "source": [
    "b = np.random.random([4, 5])"
   ]
  },
  {
   "cell_type": "code",
   "execution_count": 29,
   "id": "0f2119fa-c9a6-4b9c-9513-c1d87454fce7",
   "metadata": {},
   "outputs": [
    {
     "data": {
      "text/plain": [
       "array([[0.10655261, 0.44105271, 0.55505246, 0.00353952, 0.52462276],\n",
       "       [0.54854623, 0.23192845, 0.27203441, 0.6791482 , 0.23385682],\n",
       "       [0.02501516, 0.33361344, 0.63934721, 0.74005347, 0.67148988],\n",
       "       [0.62045344, 0.28560132, 0.35918767, 0.47538411, 0.1843331 ]])"
      ]
     },
     "execution_count": 29,
     "metadata": {},
     "output_type": "execute_result"
    }
   ],
   "source": [
    "b"
   ]
  },
  {
   "cell_type": "code",
   "execution_count": 31,
   "id": "f696b099-c6e9-4e93-b624-72b915cfa60c",
   "metadata": {},
   "outputs": [
    {
     "data": {
      "text/plain": [
       "array([[0., 0., 0., 0., 0.],\n",
       "       [0., 0., 0., 0., 0.],\n",
       "       [0., 0., 0., 0., 0.],\n",
       "       [0., 0., 0., 0., 0.]])"
      ]
     },
     "execution_count": 31,
     "metadata": {},
     "output_type": "execute_result"
    }
   ],
   "source": [
    "np.zeros((4, 5))"
   ]
  },
  {
   "cell_type": "code",
   "execution_count": 32,
   "id": "58132c62-aa56-4093-9cc0-afb4c9ee3a8c",
   "metadata": {},
   "outputs": [
    {
     "data": {
      "text/plain": [
       "array([[0., 0., 0., 0., 0.],\n",
       "       [0., 0., 0., 0., 0.],\n",
       "       [0., 0., 0., 0., 0.],\n",
       "       [0., 0., 0., 0., 0.]])"
      ]
     },
     "execution_count": 32,
     "metadata": {},
     "output_type": "execute_result"
    }
   ],
   "source": [
    "np.zeros(20).reshape(4, 5)"
   ]
  },
  {
   "cell_type": "code",
   "execution_count": 33,
   "id": "fa8735c9-3bb1-4eb0-8edd-404fd2fadf67",
   "metadata": {},
   "outputs": [
    {
     "data": {
      "text/plain": [
       "array([[1., 0., 0., 0.],\n",
       "       [0., 1., 0., 0.],\n",
       "       [0., 0., 1., 0.],\n",
       "       [0., 0., 0., 1.]])"
      ]
     },
     "execution_count": 33,
     "metadata": {},
     "output_type": "execute_result"
    }
   ],
   "source": [
    "np.eye((4))"
   ]
  },
  {
   "cell_type": "code",
   "execution_count": 34,
   "id": "0962eb2d-017f-426a-8fc8-13c73ec8f3cb",
   "metadata": {},
   "outputs": [
    {
     "data": {
      "text/plain": [
       "array([[1., 0., 0., 0., 0.],\n",
       "       [0., 1., 0., 0., 0.],\n",
       "       [0., 0., 1., 0., 0.],\n",
       "       [0., 0., 0., 1., 0.]])"
      ]
     },
     "execution_count": 34,
     "metadata": {},
     "output_type": "execute_result"
    }
   ],
   "source": [
    "np.eye(4, 5)"
   ]
  },
  {
   "cell_type": "code",
   "execution_count": 44,
   "id": "9e4c5dda-3e11-4146-8685-3054157dd0d7",
   "metadata": {},
   "outputs": [],
   "source": [
    "a = np.random.randint(10, size=(2,3, 4))"
   ]
  },
  {
   "cell_type": "code",
   "execution_count": 45,
   "id": "a759dae3-5fa3-43ee-9d94-3a43e5388633",
   "metadata": {},
   "outputs": [
    {
     "data": {
      "text/plain": [
       "array([[[2, 7, 6, 9],\n",
       "        [2, 5, 2, 5],\n",
       "        [1, 3, 2, 3]],\n",
       "\n",
       "       [[5, 0, 3, 8],\n",
       "        [7, 6, 0, 6],\n",
       "        [6, 5, 9, 3]]])"
      ]
     },
     "execution_count": 45,
     "metadata": {},
     "output_type": "execute_result"
    }
   ],
   "source": [
    "a"
   ]
  },
  {
   "cell_type": "code",
   "execution_count": null,
   "id": "63a274f0-9f28-45ed-88ff-2e1fb0e9dcef",
   "metadata": {},
   "outputs": [],
   "source": []
  },
  {
   "cell_type": "code",
   "execution_count": 46,
   "id": "207fcc3a-24dc-4c57-bcb4-237046f7559d",
   "metadata": {},
   "outputs": [
    {
     "data": {
      "text/plain": [
       "(2, 3, 4)"
      ]
     },
     "execution_count": 46,
     "metadata": {},
     "output_type": "execute_result"
    }
   ],
   "source": [
    "a.shape"
   ]
  },
  {
   "cell_type": "code",
   "execution_count": 47,
   "id": "8810252f-5116-436b-885b-3b4a4dcbb7f3",
   "metadata": {},
   "outputs": [
    {
     "data": {
      "text/plain": [
       "3"
      ]
     },
     "execution_count": 47,
     "metadata": {},
     "output_type": "execute_result"
    }
   ],
   "source": [
    "a.ndim"
   ]
  },
  {
   "cell_type": "code",
   "execution_count": 48,
   "id": "4c411a14-05a6-4aad-8b0f-1e3247a9011d",
   "metadata": {},
   "outputs": [
    {
     "data": {
      "text/plain": [
       "dtype('int64')"
      ]
     },
     "execution_count": 48,
     "metadata": {},
     "output_type": "execute_result"
    }
   ],
   "source": [
    "a.dtype"
   ]
  },
  {
   "cell_type": "code",
   "execution_count": 49,
   "id": "6619797c-7ea7-4059-9aa1-3b0fe0ef0311",
   "metadata": {},
   "outputs": [
    {
     "data": {
      "text/plain": [
       "(96, 32, 8)"
      ]
     },
     "execution_count": 49,
     "metadata": {},
     "output_type": "execute_result"
    }
   ],
   "source": [
    "a.strides"
   ]
  },
  {
   "cell_type": "code",
   "execution_count": 50,
   "id": "b67ad55d-8ed8-4aab-89a4-c7daf5c5a22b",
   "metadata": {},
   "outputs": [],
   "source": [
    "c_array = np.random.rand(1000,1000)"
   ]
  },
  {
   "cell_type": "code",
   "execution_count": 53,
   "id": "4ba23e3e-970a-4d8a-a43a-a702af81eafa",
   "metadata": {},
   "outputs": [
    {
     "data": {
      "text/plain": [
       "  C_CONTIGUOUS : True\n",
       "  F_CONTIGUOUS : False\n",
       "  OWNDATA : True\n",
       "  WRITEABLE : True\n",
       "  ALIGNED : True\n",
       "  WRITEBACKIFCOPY : False\n",
       "  UPDATEIFCOPY : False"
      ]
     },
     "execution_count": 53,
     "metadata": {},
     "output_type": "execute_result"
    }
   ],
   "source": [
    "c_array.flags"
   ]
  },
  {
   "cell_type": "code",
   "execution_count": 54,
   "id": "68636f7a-6942-4404-b22a-1b87c934cac8",
   "metadata": {},
   "outputs": [],
   "source": [
    "f_array = np.asfortranarray(c_array)"
   ]
  },
  {
   "cell_type": "code",
   "execution_count": 56,
   "id": "d23b3d28-18c5-4825-8ef7-01003f0c5877",
   "metadata": {},
   "outputs": [
    {
     "data": {
      "text/plain": [
       "  C_CONTIGUOUS : False\n",
       "  F_CONTIGUOUS : True\n",
       "  OWNDATA : True\n",
       "  WRITEABLE : True\n",
       "  ALIGNED : True\n",
       "  WRITEBACKIFCOPY : False\n",
       "  UPDATEIFCOPY : False"
      ]
     },
     "execution_count": 56,
     "metadata": {},
     "output_type": "execute_result"
    }
   ],
   "source": [
    "f_array.flags"
   ]
  },
  {
   "cell_type": "code",
   "execution_count": 57,
   "id": "0b2b7932-ed7e-4d24-894c-1b344f6da6ee",
   "metadata": {},
   "outputs": [],
   "source": [
    "a = np.random.randint(10, size=(3,4))"
   ]
  },
  {
   "cell_type": "code",
   "execution_count": 58,
   "id": "6fdb8591-eda2-4ebf-ad2f-5a62b76d843e",
   "metadata": {},
   "outputs": [
    {
     "data": {
      "text/plain": [
       "array([[6, 2, 0, 1],\n",
       "       [0, 6, 0, 1],\n",
       "       [7, 9, 3, 1]])"
      ]
     },
     "execution_count": 58,
     "metadata": {},
     "output_type": "execute_result"
    }
   ],
   "source": [
    "a"
   ]
  },
  {
   "cell_type": "code",
   "execution_count": 61,
   "id": "0667278e-0836-445b-8513-4aeaa056ee8a",
   "metadata": {},
   "outputs": [],
   "source": [
    "b = a[:,2:]"
   ]
  },
  {
   "cell_type": "code",
   "execution_count": 62,
   "id": "8b261b9d-413a-4083-887b-4ee05b064380",
   "metadata": {},
   "outputs": [
    {
     "data": {
      "text/plain": [
       "array([[0, 1],\n",
       "       [0, 1],\n",
       "       [3, 1]])"
      ]
     },
     "execution_count": 62,
     "metadata": {},
     "output_type": "execute_result"
    }
   ],
   "source": [
    "b"
   ]
  },
  {
   "cell_type": "code",
   "execution_count": 63,
   "id": "236df1b7-3e0a-45f0-ba19-92eb6777e904",
   "metadata": {},
   "outputs": [
    {
     "data": {
      "text/plain": [
       "array([[0, 1],\n",
       "       [0, 1],\n",
       "       [3, 1]])"
      ]
     },
     "execution_count": 63,
     "metadata": {},
     "output_type": "execute_result"
    }
   ],
   "source": [
    "b"
   ]
  },
  {
   "cell_type": "code",
   "execution_count": 64,
   "id": "58beef89-f321-4fcd-8051-618a07007ff8",
   "metadata": {},
   "outputs": [],
   "source": [
    "b[0][1] = 5"
   ]
  },
  {
   "cell_type": "code",
   "execution_count": 65,
   "id": "523cfeda-1005-4253-9295-029b41803d10",
   "metadata": {},
   "outputs": [
    {
     "data": {
      "text/plain": [
       "array([[0, 5],\n",
       "       [0, 1],\n",
       "       [3, 1]])"
      ]
     },
     "execution_count": 65,
     "metadata": {},
     "output_type": "execute_result"
    }
   ],
   "source": [
    "b"
   ]
  },
  {
   "cell_type": "code",
   "execution_count": 66,
   "id": "6949535c-f52a-4b6b-bfc2-531a8c25fd76",
   "metadata": {},
   "outputs": [
    {
     "data": {
      "text/plain": [
       "array([[6, 2, 0, 5],\n",
       "       [0, 6, 0, 1],\n",
       "       [7, 9, 3, 1]])"
      ]
     },
     "execution_count": 66,
     "metadata": {},
     "output_type": "execute_result"
    }
   ],
   "source": [
    "a"
   ]
  },
  {
   "cell_type": "code",
   "execution_count": 67,
   "id": "25be3282-7d3e-440c-baf9-0dcca8b63ce5",
   "metadata": {},
   "outputs": [
    {
     "data": {
      "text/plain": [
       "True"
      ]
     },
     "execution_count": 67,
     "metadata": {},
     "output_type": "execute_result"
    }
   ],
   "source": [
    "np.may_share_memory(a, b)"
   ]
  },
  {
   "cell_type": "code",
   "execution_count": 70,
   "id": "a270ed29-c59f-4a39-b8ff-0c990b71e977",
   "metadata": {},
   "outputs": [],
   "source": [
    "c = np.empty((3, 4))"
   ]
  },
  {
   "cell_type": "code",
   "execution_count": 71,
   "id": "9f16bf7c-226e-4eef-a57c-55570e7c858c",
   "metadata": {},
   "outputs": [
    {
     "data": {
      "text/plain": [
       "array([[0.00000000e+000, 1.48219694e-323, 0.00000000e+000,\n",
       "        0.00000000e+000],\n",
       "       [0.00000000e+000, 3.76231868e+174, 4.96203532e-090,\n",
       "        1.08533659e-042],\n",
       "       [2.36588395e+179, 6.18310784e+169, 6.99196248e+228,\n",
       "        1.46016161e-319]])"
      ]
     },
     "execution_count": 71,
     "metadata": {},
     "output_type": "execute_result"
    }
   ],
   "source": [
    "c"
   ]
  },
  {
   "cell_type": "code",
   "execution_count": 72,
   "id": "a27da164-e0b7-41a2-9f96-05070c00ecc2",
   "metadata": {},
   "outputs": [],
   "source": [
    "c[:] = a"
   ]
  },
  {
   "cell_type": "code",
   "execution_count": 73,
   "id": "b36d1117-ba09-4d5e-a98f-7ad44f3ac562",
   "metadata": {},
   "outputs": [
    {
     "data": {
      "text/plain": [
       "array([[6., 2., 0., 5.],\n",
       "       [0., 6., 0., 1.],\n",
       "       [7., 9., 3., 1.]])"
      ]
     },
     "execution_count": 73,
     "metadata": {},
     "output_type": "execute_result"
    }
   ],
   "source": [
    "c"
   ]
  },
  {
   "cell_type": "code",
   "execution_count": 74,
   "id": "fc80dabf-bafe-4fc4-8cf4-376278c8aa84",
   "metadata": {},
   "outputs": [
    {
     "data": {
      "text/plain": [
       "False"
      ]
     },
     "execution_count": 74,
     "metadata": {},
     "output_type": "execute_result"
    }
   ],
   "source": [
    "np.may_share_memory(c, a)"
   ]
  },
  {
   "cell_type": "code",
   "execution_count": 75,
   "id": "96db3cdd-e8bf-44f7-a638-eaa49cb49a2c",
   "metadata": {},
   "outputs": [
    {
     "data": {
      "text/plain": [
       "array([[5, 5, 5, 5, 5],\n",
       "       [5, 5, 5, 5, 5],\n",
       "       [5, 5, 5, 5, 5]])"
      ]
     },
     "execution_count": 75,
     "metadata": {},
     "output_type": "execute_result"
    }
   ],
   "source": [
    "np.full(15, 5).reshape(3, 5)"
   ]
  },
  {
   "cell_type": "code",
   "execution_count": 1,
   "id": "d3cd322f-120a-4c6a-a41d-f8bedbdd3293",
   "metadata": {},
   "outputs": [
    {
     "name": "stdout",
     "output_type": "stream",
     "text": [
      "Requirement already satisfied: pandas in /Users/mehdihatamigoloujeh/opt/anaconda3/lib/python3.9/site-packages (1.3.4)\n",
      "Requirement already satisfied: python-dateutil>=2.7.3 in /Users/mehdihatamigoloujeh/opt/anaconda3/lib/python3.9/site-packages (from pandas) (2.8.2)\n",
      "Requirement already satisfied: pytz>=2017.3 in /Users/mehdihatamigoloujeh/opt/anaconda3/lib/python3.9/site-packages (from pandas) (2021.3)\n",
      "Requirement already satisfied: numpy>=1.17.3 in /Users/mehdihatamigoloujeh/opt/anaconda3/lib/python3.9/site-packages (from pandas) (1.20.3)\n",
      "Requirement already satisfied: six>=1.5 in /Users/mehdihatamigoloujeh/opt/anaconda3/lib/python3.9/site-packages (from python-dateutil>=2.7.3->pandas) (1.16.0)\n",
      "Note: you may need to restart the kernel to use updated packages.\n"
     ]
    }
   ],
   "source": [
    "pip install pandas"
   ]
  },
  {
   "cell_type": "code",
   "execution_count": null,
   "id": "2e6d50e0-25c0-4e82-839d-5c2a290c3c8b",
   "metadata": {},
   "outputs": [],
   "source": []
  },
  {
   "cell_type": "code",
   "execution_count": null,
   "id": "252b305e-d2a0-4b6d-a1a9-65f5c781ee50",
   "metadata": {},
   "outputs": [],
   "source": []
  },
  {
   "cell_type": "code",
   "execution_count": 2,
   "id": "1faeabf2-0645-4036-a77d-ff48bf33b310",
   "metadata": {},
   "outputs": [],
   "source": [
    "import numpy as np"
   ]
  },
  {
   "cell_type": "code",
   "execution_count": 3,
   "id": "f85c3c22-350a-4b5b-af97-24dc745785d0",
   "metadata": {},
   "outputs": [],
   "source": [
    "import pandas as pd\n"
   ]
  },
  {
   "cell_type": "code",
   "execution_count": 3,
   "id": "a4da2a04-9ebb-440b-8da1-e769a57d0a5d",
   "metadata": {},
   "outputs": [
    {
     "data": {
      "text/plain": [
       "array([1, 2, 3])"
      ]
     },
     "execution_count": 3,
     "metadata": {},
     "output_type": "execute_result"
    }
   ],
   "source": [
    "np.array([1, 2, 3])"
   ]
  },
  {
   "cell_type": "code",
   "execution_count": 4,
   "id": "53487fdf-6184-406b-a906-2894a4891a9f",
   "metadata": {},
   "outputs": [
    {
     "ename": "NameError",
     "evalue": "name 'arange' is not defined",
     "output_type": "error",
     "traceback": [
      "\u001b[0;31m---------------------------------------------------------------------------\u001b[0m",
      "\u001b[0;31mNameError\u001b[0m                                 Traceback (most recent call last)",
      "\u001b[0;32m/var/folders/vw/_7ms67xn1jxb_9zqbfcn4q080000gn/T/ipykernel_36367/1532615202.py\u001b[0m in \u001b[0;36m<module>\u001b[0;34m\u001b[0m\n\u001b[0;32m----> 1\u001b[0;31m \u001b[0ma\u001b[0m \u001b[0;34m=\u001b[0m \u001b[0marange\u001b[0m\u001b[0;34m(\u001b[0m\u001b[0;36m10\u001b[0m\u001b[0;34m)\u001b[0m\u001b[0;34m\u001b[0m\u001b[0;34m\u001b[0m\u001b[0m\n\u001b[0m",
      "\u001b[0;31mNameError\u001b[0m: name 'arange' is not defined"
     ]
    }
   ],
   "source": [
    "a = arange(10)"
   ]
  },
  {
   "cell_type": "code",
   "execution_count": 4,
   "id": "d79abecc-6105-46ef-9a2c-7d1f2764a6a9",
   "metadata": {},
   "outputs": [],
   "source": [
    "a = np.arange(10)"
   ]
  },
  {
   "cell_type": "code",
   "execution_count": 5,
   "id": "8a03812d-5f4f-4bee-866b-e0f99c03c8d1",
   "metadata": {},
   "outputs": [
    {
     "data": {
      "text/plain": [
       "array([0, 1, 2, 3, 4, 5, 6, 7, 8, 9])"
      ]
     },
     "execution_count": 5,
     "metadata": {},
     "output_type": "execute_result"
    }
   ],
   "source": [
    "a"
   ]
  },
  {
   "cell_type": "code",
   "execution_count": 6,
   "id": "74644a21-b612-4df4-b40c-4d2e45544e79",
   "metadata": {},
   "outputs": [
    {
     "ename": "NameError",
     "evalue": "name 'b' is not defined",
     "output_type": "error",
     "traceback": [
      "\u001b[0;31m---------------------------------------------------------------------------\u001b[0m",
      "\u001b[0;31mNameError\u001b[0m                                 Traceback (most recent call last)",
      "\u001b[0;32m/var/folders/vw/_7ms67xn1jxb_9zqbfcn4q080000gn/T/ipykernel_52959/4083377479.py\u001b[0m in \u001b[0;36m<module>\u001b[0;34m\u001b[0m\n\u001b[0;32m----> 1\u001b[0;31m \u001b[0mpd\u001b[0m\u001b[0;34m.\u001b[0m\u001b[0mSeries\u001b[0m\u001b[0;34m(\u001b[0m\u001b[0;34m[\u001b[0m\u001b[0ma\u001b[0m\u001b[0;34m,\u001b[0m \u001b[0mb\u001b[0m\u001b[0;34m,\u001b[0m \u001b[0mc\u001b[0m\u001b[0;34m,\u001b[0m \u001b[0md\u001b[0m\u001b[0;34m,\u001b[0m \u001b[0me\u001b[0m\u001b[0;34m]\u001b[0m\u001b[0;34m)\u001b[0m\u001b[0;34m\u001b[0m\u001b[0;34m\u001b[0m\u001b[0m\n\u001b[0m",
      "\u001b[0;31mNameError\u001b[0m: name 'b' is not defined"
     ]
    }
   ],
   "source": [
    "pd.Series([a, b, c, d, e])"
   ]
  },
  {
   "cell_type": "code",
   "execution_count": 7,
   "id": "b5a75a73-479f-44f5-8573-c6fd6889c1f9",
   "metadata": {},
   "outputs": [
    {
     "ename": "AttributeError",
     "evalue": "module 'pandas' has no attribute 'series'",
     "output_type": "error",
     "traceback": [
      "\u001b[0;31m---------------------------------------------------------------------------\u001b[0m",
      "\u001b[0;31mAttributeError\u001b[0m                            Traceback (most recent call last)",
      "\u001b[0;32m/var/folders/vw/_7ms67xn1jxb_9zqbfcn4q080000gn/T/ipykernel_52959/369064776.py\u001b[0m in \u001b[0;36m<module>\u001b[0;34m\u001b[0m\n\u001b[0;32m----> 1\u001b[0;31m \u001b[0mpd\u001b[0m\u001b[0;34m.\u001b[0m\u001b[0mseries\u001b[0m\u001b[0;34m(\u001b[0m\u001b[0;34m[\u001b[0m\u001b[0;36m1\u001b[0m\u001b[0;34m,\u001b[0m\u001b[0;36m2\u001b[0m\u001b[0;34m,\u001b[0m\u001b[0;36m3\u001b[0m\u001b[0;34m]\u001b[0m\u001b[0;34m)\u001b[0m\u001b[0;34m\u001b[0m\u001b[0;34m\u001b[0m\u001b[0m\n\u001b[0m",
      "\u001b[0;32m~/opt/anaconda3/lib/python3.9/site-packages/pandas/__init__.py\u001b[0m in \u001b[0;36m__getattr__\u001b[0;34m(name)\u001b[0m\n\u001b[1;32m    242\u001b[0m         \u001b[0;32mreturn\u001b[0m \u001b[0m_SparseArray\u001b[0m\u001b[0;34m\u001b[0m\u001b[0;34m\u001b[0m\u001b[0m\n\u001b[1;32m    243\u001b[0m \u001b[0;34m\u001b[0m\u001b[0m\n\u001b[0;32m--> 244\u001b[0;31m     \u001b[0;32mraise\u001b[0m \u001b[0mAttributeError\u001b[0m\u001b[0;34m(\u001b[0m\u001b[0;34mf\"module 'pandas' has no attribute '{name}'\"\u001b[0m\u001b[0;34m)\u001b[0m\u001b[0;34m\u001b[0m\u001b[0;34m\u001b[0m\u001b[0m\n\u001b[0m\u001b[1;32m    245\u001b[0m \u001b[0;34m\u001b[0m\u001b[0m\n\u001b[1;32m    246\u001b[0m \u001b[0;34m\u001b[0m\u001b[0m\n",
      "\u001b[0;31mAttributeError\u001b[0m: module 'pandas' has no attribute 'series'"
     ]
    }
   ],
   "source": [
    "pd.series([1,2,3])"
   ]
  },
  {
   "cell_type": "code",
   "execution_count": 51,
   "id": "288317ac-89d2-4360-984a-9de45180e3f6",
   "metadata": {},
   "outputs": [
    {
     "data": {
      "text/plain": [
       "0    1\n",
       "1    2\n",
       "2    3\n",
       "dtype: int64"
      ]
     },
     "execution_count": 51,
     "metadata": {},
     "output_type": "execute_result"
    }
   ],
   "source": [
    "pd.Series([1, 2, 3])"
   ]
  },
  {
   "cell_type": "code",
   "execution_count": 52,
   "id": "72f3a71b-8c5f-4e6b-b06d-2f8fc5362f4a",
   "metadata": {},
   "outputs": [
    {
     "data": {
      "text/plain": [
       "0    a\n",
       "1    b\n",
       "2    c\n",
       "dtype: object"
      ]
     },
     "execution_count": 52,
     "metadata": {},
     "output_type": "execute_result"
    }
   ],
   "source": [
    "pd.Series(['a', 'b', 'c'])"
   ]
  },
  {
   "cell_type": "code",
   "execution_count": 53,
   "id": "da26c839-3cc5-4257-8f1c-2a01603a3e52",
   "metadata": {},
   "outputs": [],
   "source": [
    "s = pd.Series(np.random.randint(10, size=10))"
   ]
  },
  {
   "cell_type": "code",
   "execution_count": 54,
   "id": "9eec7755-032c-4e0c-af98-f4b6a10ea641",
   "metadata": {},
   "outputs": [
    {
     "data": {
      "text/plain": [
       "0    7\n",
       "1    4\n",
       "2    7\n",
       "3    4\n",
       "4    6\n",
       "5    9\n",
       "6    3\n",
       "7    0\n",
       "8    1\n",
       "9    2\n",
       "dtype: int64"
      ]
     },
     "execution_count": 54,
     "metadata": {},
     "output_type": "execute_result"
    }
   ],
   "source": [
    "s"
   ]
  },
  {
   "cell_type": "code",
   "execution_count": 55,
   "id": "f98ce15a-fea8-43f5-9aae-9badcd38906c",
   "metadata": {},
   "outputs": [
    {
     "data": {
      "text/plain": [
       "0      0\n",
       "1      1\n",
       "2      2\n",
       "3      3\n",
       "4      4\n",
       "5      5\n",
       "6      6\n",
       "7      7\n",
       "8      8\n",
       "9      9\n",
       "10    10\n",
       "11    11\n",
       "12    12\n",
       "13    13\n",
       "14    14\n",
       "dtype: int64"
      ]
     },
     "execution_count": 55,
     "metadata": {},
     "output_type": "execute_result"
    }
   ],
   "source": [
    "pd.Series(np.arange(15))"
   ]
  },
  {
   "cell_type": "code",
   "execution_count": 56,
   "id": "de06d3f5-2c30-45e3-8fb5-51f791a539aa",
   "metadata": {},
   "outputs": [
    {
     "data": {
      "text/plain": [
       "10    0.235873\n",
       "11    0.123111\n",
       "12    0.503978\n",
       "13    0.610686\n",
       "14    0.588628\n",
       "15    0.455142\n",
       "16    0.241028\n",
       "17    0.432265\n",
       "18    0.550814\n",
       "19    0.560038\n",
       "Name: Serie1, dtype: float64"
      ]
     },
     "execution_count": 56,
     "metadata": {},
     "output_type": "execute_result"
    }
   ],
   "source": [
    "pd.Series(np.random.rand(10), name=\"Serie1\", index=np.arange(10, 20))"
   ]
  },
  {
   "cell_type": "code",
   "execution_count": 57,
   "id": "3e7de8dc-f0e2-49a9-8d1e-f716074a63a5",
   "metadata": {},
   "outputs": [],
   "source": [
    "df = pd.DataFrame(np.random.rand(22, 5))"
   ]
  },
  {
   "cell_type": "code",
   "execution_count": 58,
   "id": "f00b59a9-c17d-4bd8-b6d4-c271144c88ef",
   "metadata": {},
   "outputs": [],
   "source": [
    "df1 = pd.DataFrame(np.random.rand(20, 5), index = np.arange(100, 120), columns=['c1', 'c2', 'c3', 'c4', 'c5'])"
   ]
  },
  {
   "cell_type": "code",
   "execution_count": 59,
   "id": "7e611306-0199-4ce5-9b4f-466ffe908aca",
   "metadata": {},
   "outputs": [
    {
     "data": {
      "text/html": [
       "<div>\n",
       "<style scoped>\n",
       "    .dataframe tbody tr th:only-of-type {\n",
       "        vertical-align: middle;\n",
       "    }\n",
       "\n",
       "    .dataframe tbody tr th {\n",
       "        vertical-align: top;\n",
       "    }\n",
       "\n",
       "    .dataframe thead th {\n",
       "        text-align: right;\n",
       "    }\n",
       "</style>\n",
       "<table border=\"1\" class=\"dataframe\">\n",
       "  <thead>\n",
       "    <tr style=\"text-align: right;\">\n",
       "      <th></th>\n",
       "      <th>c1</th>\n",
       "      <th>c2</th>\n",
       "      <th>c3</th>\n",
       "      <th>c4</th>\n",
       "      <th>c5</th>\n",
       "    </tr>\n",
       "  </thead>\n",
       "  <tbody>\n",
       "    <tr>\n",
       "      <th>100</th>\n",
       "      <td>0.757025</td>\n",
       "      <td>0.140231</td>\n",
       "      <td>0.618503</td>\n",
       "      <td>0.501026</td>\n",
       "      <td>0.455155</td>\n",
       "    </tr>\n",
       "    <tr>\n",
       "      <th>101</th>\n",
       "      <td>0.970811</td>\n",
       "      <td>0.112539</td>\n",
       "      <td>0.357791</td>\n",
       "      <td>0.576003</td>\n",
       "      <td>0.906319</td>\n",
       "    </tr>\n",
       "    <tr>\n",
       "      <th>102</th>\n",
       "      <td>0.653631</td>\n",
       "      <td>0.137783</td>\n",
       "      <td>0.656106</td>\n",
       "      <td>0.523488</td>\n",
       "      <td>0.890830</td>\n",
       "    </tr>\n",
       "    <tr>\n",
       "      <th>103</th>\n",
       "      <td>0.084739</td>\n",
       "      <td>0.222528</td>\n",
       "      <td>0.102514</td>\n",
       "      <td>0.968684</td>\n",
       "      <td>0.472687</td>\n",
       "    </tr>\n",
       "    <tr>\n",
       "      <th>104</th>\n",
       "      <td>0.615610</td>\n",
       "      <td>0.845774</td>\n",
       "      <td>0.226176</td>\n",
       "      <td>0.021822</td>\n",
       "      <td>0.170438</td>\n",
       "    </tr>\n",
       "    <tr>\n",
       "      <th>105</th>\n",
       "      <td>0.989209</td>\n",
       "      <td>0.793201</td>\n",
       "      <td>0.300417</td>\n",
       "      <td>0.251949</td>\n",
       "      <td>0.350366</td>\n",
       "    </tr>\n",
       "    <tr>\n",
       "      <th>106</th>\n",
       "      <td>0.986513</td>\n",
       "      <td>0.863326</td>\n",
       "      <td>0.826637</td>\n",
       "      <td>0.727192</td>\n",
       "      <td>0.351688</td>\n",
       "    </tr>\n",
       "    <tr>\n",
       "      <th>107</th>\n",
       "      <td>0.483441</td>\n",
       "      <td>0.516224</td>\n",
       "      <td>0.787471</td>\n",
       "      <td>0.381928</td>\n",
       "      <td>0.792153</td>\n",
       "    </tr>\n",
       "    <tr>\n",
       "      <th>108</th>\n",
       "      <td>0.833252</td>\n",
       "      <td>0.751680</td>\n",
       "      <td>0.844038</td>\n",
       "      <td>0.840903</td>\n",
       "      <td>0.747044</td>\n",
       "    </tr>\n",
       "    <tr>\n",
       "      <th>109</th>\n",
       "      <td>0.020687</td>\n",
       "      <td>0.981593</td>\n",
       "      <td>0.706103</td>\n",
       "      <td>0.823974</td>\n",
       "      <td>0.872666</td>\n",
       "    </tr>\n",
       "    <tr>\n",
       "      <th>110</th>\n",
       "      <td>0.518371</td>\n",
       "      <td>0.761498</td>\n",
       "      <td>0.150914</td>\n",
       "      <td>0.617168</td>\n",
       "      <td>0.343283</td>\n",
       "    </tr>\n",
       "    <tr>\n",
       "      <th>111</th>\n",
       "      <td>0.235565</td>\n",
       "      <td>0.995800</td>\n",
       "      <td>0.422369</td>\n",
       "      <td>0.888583</td>\n",
       "      <td>0.001984</td>\n",
       "    </tr>\n",
       "    <tr>\n",
       "      <th>112</th>\n",
       "      <td>0.801084</td>\n",
       "      <td>0.237480</td>\n",
       "      <td>0.572694</td>\n",
       "      <td>0.332989</td>\n",
       "      <td>0.866533</td>\n",
       "    </tr>\n",
       "    <tr>\n",
       "      <th>113</th>\n",
       "      <td>0.616469</td>\n",
       "      <td>0.680175</td>\n",
       "      <td>0.265366</td>\n",
       "      <td>0.464805</td>\n",
       "      <td>0.768323</td>\n",
       "    </tr>\n",
       "    <tr>\n",
       "      <th>114</th>\n",
       "      <td>0.140473</td>\n",
       "      <td>0.351765</td>\n",
       "      <td>0.003803</td>\n",
       "      <td>0.179896</td>\n",
       "      <td>0.360741</td>\n",
       "    </tr>\n",
       "    <tr>\n",
       "      <th>115</th>\n",
       "      <td>0.669178</td>\n",
       "      <td>0.507931</td>\n",
       "      <td>0.444019</td>\n",
       "      <td>0.880255</td>\n",
       "      <td>0.193355</td>\n",
       "    </tr>\n",
       "    <tr>\n",
       "      <th>116</th>\n",
       "      <td>0.207809</td>\n",
       "      <td>0.432306</td>\n",
       "      <td>0.948440</td>\n",
       "      <td>0.991336</td>\n",
       "      <td>0.177206</td>\n",
       "    </tr>\n",
       "    <tr>\n",
       "      <th>117</th>\n",
       "      <td>0.665748</td>\n",
       "      <td>0.340246</td>\n",
       "      <td>0.146982</td>\n",
       "      <td>0.146534</td>\n",
       "      <td>0.758632</td>\n",
       "    </tr>\n",
       "    <tr>\n",
       "      <th>118</th>\n",
       "      <td>0.559292</td>\n",
       "      <td>0.194073</td>\n",
       "      <td>0.208737</td>\n",
       "      <td>0.989662</td>\n",
       "      <td>0.224124</td>\n",
       "    </tr>\n",
       "    <tr>\n",
       "      <th>119</th>\n",
       "      <td>0.609490</td>\n",
       "      <td>0.152455</td>\n",
       "      <td>0.187020</td>\n",
       "      <td>0.457998</td>\n",
       "      <td>0.305450</td>\n",
       "    </tr>\n",
       "  </tbody>\n",
       "</table>\n",
       "</div>"
      ],
      "text/plain": [
       "           c1        c2        c3        c4        c5\n",
       "100  0.757025  0.140231  0.618503  0.501026  0.455155\n",
       "101  0.970811  0.112539  0.357791  0.576003  0.906319\n",
       "102  0.653631  0.137783  0.656106  0.523488  0.890830\n",
       "103  0.084739  0.222528  0.102514  0.968684  0.472687\n",
       "104  0.615610  0.845774  0.226176  0.021822  0.170438\n",
       "105  0.989209  0.793201  0.300417  0.251949  0.350366\n",
       "106  0.986513  0.863326  0.826637  0.727192  0.351688\n",
       "107  0.483441  0.516224  0.787471  0.381928  0.792153\n",
       "108  0.833252  0.751680  0.844038  0.840903  0.747044\n",
       "109  0.020687  0.981593  0.706103  0.823974  0.872666\n",
       "110  0.518371  0.761498  0.150914  0.617168  0.343283\n",
       "111  0.235565  0.995800  0.422369  0.888583  0.001984\n",
       "112  0.801084  0.237480  0.572694  0.332989  0.866533\n",
       "113  0.616469  0.680175  0.265366  0.464805  0.768323\n",
       "114  0.140473  0.351765  0.003803  0.179896  0.360741\n",
       "115  0.669178  0.507931  0.444019  0.880255  0.193355\n",
       "116  0.207809  0.432306  0.948440  0.991336  0.177206\n",
       "117  0.665748  0.340246  0.146982  0.146534  0.758632\n",
       "118  0.559292  0.194073  0.208737  0.989662  0.224124\n",
       "119  0.609490  0.152455  0.187020  0.457998  0.305450"
      ]
     },
     "execution_count": 59,
     "metadata": {},
     "output_type": "execute_result"
    }
   ],
   "source": [
    "df1"
   ]
  },
  {
   "cell_type": "code",
   "execution_count": 27,
   "id": "0815cb12-4216-4ca2-a5c6-20283139b0aa",
   "metadata": {},
   "outputs": [],
   "source": [
    "from faker import Faker"
   ]
  },
  {
   "cell_type": "code",
   "execution_count": 29,
   "id": "864f48ed-a494-4e2e-9cf6-266b2d386077",
   "metadata": {},
   "outputs": [],
   "source": [
    "fake = Faker('fa')"
   ]
  },
  {
   "cell_type": "code",
   "execution_count": 31,
   "id": "047349ac-d725-469f-8cc3-9bb9bda1a714",
   "metadata": {},
   "outputs": [
    {
     "data": {
      "text/plain": [
       "'علی رضا صیادی'"
      ]
     },
     "execution_count": 31,
     "metadata": {},
     "output_type": "execute_result"
    }
   ],
   "source": [
    "fake.name()"
   ]
  },
  {
   "cell_type": "code",
   "execution_count": 45,
   "id": "bc19173e-1c5c-43b5-8b37-b5283be9eb3e",
   "metadata": {},
   "outputs": [],
   "source": [
    "my_dic = {\n",
    "    'age':np.random.randint(80, 100, 100),\n",
    "    'name':[fake.name() for i in range(100)],\n",
    "}"
   ]
  },
  {
   "cell_type": "code",
   "execution_count": 46,
   "id": "47ac33a7-cc51-4b06-bedd-cb51ffa3cfc3",
   "metadata": {},
   "outputs": [],
   "source": [
    "df = pd.DataFrame(my_dic)"
   ]
  },
  {
   "cell_type": "code",
   "execution_count": 47,
   "id": "9b32d82e-bbbf-4970-b991-ed15aac91e10",
   "metadata": {},
   "outputs": [
    {
     "data": {
      "text/plain": [
       "RangeIndex(start=0, stop=100, step=1)"
      ]
     },
     "execution_count": 47,
     "metadata": {},
     "output_type": "execute_result"
    }
   ],
   "source": [
    "df.index"
   ]
  },
  {
   "cell_type": "code",
   "execution_count": 48,
   "id": "6f50b9c6-2d11-44c8-bb7f-fd9020864c0c",
   "metadata": {},
   "outputs": [
    {
     "data": {
      "text/html": [
       "<div>\n",
       "<style scoped>\n",
       "    .dataframe tbody tr th:only-of-type {\n",
       "        vertical-align: middle;\n",
       "    }\n",
       "\n",
       "    .dataframe tbody tr th {\n",
       "        vertical-align: top;\n",
       "    }\n",
       "\n",
       "    .dataframe thead th {\n",
       "        text-align: right;\n",
       "    }\n",
       "</style>\n",
       "<table border=\"1\" class=\"dataframe\">\n",
       "  <thead>\n",
       "    <tr style=\"text-align: right;\">\n",
       "      <th></th>\n",
       "      <th>age</th>\n",
       "      <th>name</th>\n",
       "    </tr>\n",
       "  </thead>\n",
       "  <tbody>\n",
       "    <tr>\n",
       "      <th>0</th>\n",
       "      <td>86</td>\n",
       "      <td>سرکار خانم مبينا بهرامی</td>\n",
       "    </tr>\n",
       "    <tr>\n",
       "      <th>1</th>\n",
       "      <td>96</td>\n",
       "      <td>سرکار خانم دکتر محدثه کمالی</td>\n",
       "    </tr>\n",
       "    <tr>\n",
       "      <th>2</th>\n",
       "      <td>98</td>\n",
       "      <td>سرکار خانم دکتر فاطمه شاکری</td>\n",
       "    </tr>\n",
       "    <tr>\n",
       "      <th>3</th>\n",
       "      <td>99</td>\n",
       "      <td>محمد هاشمی</td>\n",
       "    </tr>\n",
       "    <tr>\n",
       "      <th>4</th>\n",
       "      <td>93</td>\n",
       "      <td>رضا پویان</td>\n",
       "    </tr>\n",
       "  </tbody>\n",
       "</table>\n",
       "</div>"
      ],
      "text/plain": [
       "   age                         name\n",
       "0   86      سرکار خانم مبينا بهرامی\n",
       "1   96  سرکار خانم دکتر محدثه کمالی\n",
       "2   98  سرکار خانم دکتر فاطمه شاکری\n",
       "3   99                   محمد هاشمی\n",
       "4   93                    رضا پویان"
      ]
     },
     "execution_count": 48,
     "metadata": {},
     "output_type": "execute_result"
    }
   ],
   "source": [
    "df.head()"
   ]
  },
  {
   "cell_type": "code",
   "execution_count": 49,
   "id": "293f428d-3bb0-4a69-b942-a2299e59eb92",
   "metadata": {},
   "outputs": [
    {
     "data": {
      "text/html": [
       "<div>\n",
       "<style scoped>\n",
       "    .dataframe tbody tr th:only-of-type {\n",
       "        vertical-align: middle;\n",
       "    }\n",
       "\n",
       "    .dataframe tbody tr th {\n",
       "        vertical-align: top;\n",
       "    }\n",
       "\n",
       "    .dataframe thead th {\n",
       "        text-align: right;\n",
       "    }\n",
       "</style>\n",
       "<table border=\"1\" class=\"dataframe\">\n",
       "  <thead>\n",
       "    <tr style=\"text-align: right;\">\n",
       "      <th></th>\n",
       "      <th>age</th>\n",
       "      <th>name</th>\n",
       "    </tr>\n",
       "  </thead>\n",
       "  <tbody>\n",
       "    <tr>\n",
       "      <th>0</th>\n",
       "      <td>86</td>\n",
       "      <td>سرکار خانم مبينا بهرامی</td>\n",
       "    </tr>\n",
       "    <tr>\n",
       "      <th>1</th>\n",
       "      <td>96</td>\n",
       "      <td>سرکار خانم دکتر محدثه کمالی</td>\n",
       "    </tr>\n",
       "    <tr>\n",
       "      <th>2</th>\n",
       "      <td>98</td>\n",
       "      <td>سرکار خانم دکتر فاطمه شاکری</td>\n",
       "    </tr>\n",
       "    <tr>\n",
       "      <th>3</th>\n",
       "      <td>99</td>\n",
       "      <td>محمد هاشمی</td>\n",
       "    </tr>\n",
       "    <tr>\n",
       "      <th>4</th>\n",
       "      <td>93</td>\n",
       "      <td>رضا پویان</td>\n",
       "    </tr>\n",
       "    <tr>\n",
       "      <th>...</th>\n",
       "      <td>...</td>\n",
       "      <td>...</td>\n",
       "    </tr>\n",
       "    <tr>\n",
       "      <th>95</th>\n",
       "      <td>80</td>\n",
       "      <td>الينا مهدیان</td>\n",
       "    </tr>\n",
       "    <tr>\n",
       "      <th>96</th>\n",
       "      <td>89</td>\n",
       "      <td>ايليا بهمنی</td>\n",
       "    </tr>\n",
       "    <tr>\n",
       "      <th>97</th>\n",
       "      <td>82</td>\n",
       "      <td>جناب آقای محمدپارسا جعفر پور</td>\n",
       "    </tr>\n",
       "    <tr>\n",
       "      <th>98</th>\n",
       "      <td>94</td>\n",
       "      <td>نازنين مجتبوی</td>\n",
       "    </tr>\n",
       "    <tr>\n",
       "      <th>99</th>\n",
       "      <td>87</td>\n",
       "      <td>عرفان شمشیری</td>\n",
       "    </tr>\n",
       "  </tbody>\n",
       "</table>\n",
       "<p>100 rows × 2 columns</p>\n",
       "</div>"
      ],
      "text/plain": [
       "    age                          name\n",
       "0    86       سرکار خانم مبينا بهرامی\n",
       "1    96   سرکار خانم دکتر محدثه کمالی\n",
       "2    98   سرکار خانم دکتر فاطمه شاکری\n",
       "3    99                    محمد هاشمی\n",
       "4    93                     رضا پویان\n",
       "..  ...                           ...\n",
       "95   80                  الينا مهدیان\n",
       "96   89                   ايليا بهمنی\n",
       "97   82  جناب آقای محمدپارسا جعفر پور\n",
       "98   94                 نازنين مجتبوی\n",
       "99   87                  عرفان شمشیری\n",
       "\n",
       "[100 rows x 2 columns]"
      ]
     },
     "execution_count": 49,
     "metadata": {},
     "output_type": "execute_result"
    }
   ],
   "source": [
    "df"
   ]
  },
  {
   "cell_type": "code",
   "execution_count": 50,
   "id": "9a90b24f-7702-4b9c-aa61-cbd5b077a847",
   "metadata": {},
   "outputs": [
    {
     "ename": "NameError",
     "evalue": "name 'mm' is not defined",
     "output_type": "error",
     "traceback": [
      "\u001b[0;31m---------------------------------------------------------------------------\u001b[0m",
      "\u001b[0;31mNameError\u001b[0m                                 Traceback (most recent call last)",
      "\u001b[0;32m/var/folders/vw/_7ms67xn1jxb_9zqbfcn4q080000gn/T/ipykernel_52959/3539168024.py\u001b[0m in \u001b[0;36m<module>\u001b[0;34m\u001b[0m\n\u001b[0;32m----> 1\u001b[0;31m \u001b[0mmm\u001b[0m\u001b[0;34m\u001b[0m\u001b[0;34m\u001b[0m\u001b[0m\n\u001b[0m",
      "\u001b[0;31mNameError\u001b[0m: name 'mm' is not defined"
     ]
    }
   ],
   "source": []
  },
  {
   "cell_type": "code",
   "execution_count": 35,
   "id": "8f7bbd93-2571-4c66-a335-0566b518c0b5",
   "metadata": {},
   "outputs": [],
   "source": [
    "mmm = mm.reset_index()"
   ]
  },
  {
   "cell_type": "code",
   "execution_count": 36,
   "id": "fe41e754-5d7d-4f4b-900e-9fa893a09122",
   "metadata": {},
   "outputs": [
    {
     "data": {
      "text/html": [
       "<div>\n",
       "<style scoped>\n",
       "    .dataframe tbody tr th:only-of-type {\n",
       "        vertical-align: middle;\n",
       "    }\n",
       "\n",
       "    .dataframe tbody tr th {\n",
       "        vertical-align: top;\n",
       "    }\n",
       "\n",
       "    .dataframe thead th {\n",
       "        text-align: right;\n",
       "    }\n",
       "</style>\n",
       "<table border=\"1\" class=\"dataframe\">\n",
       "  <thead>\n",
       "    <tr style=\"text-align: right;\">\n",
       "      <th></th>\n",
       "      <th>level_0</th>\n",
       "      <th>index</th>\n",
       "      <th>newseries</th>\n",
       "    </tr>\n",
       "  </thead>\n",
       "  <tbody>\n",
       "    <tr>\n",
       "      <th>0</th>\n",
       "      <td>0</td>\n",
       "      <td>0.0</td>\n",
       "      <td>0.832842</td>\n",
       "    </tr>\n",
       "    <tr>\n",
       "      <th>1</th>\n",
       "      <td>1</td>\n",
       "      <td>2.5</td>\n",
       "      <td>0.125533</td>\n",
       "    </tr>\n",
       "    <tr>\n",
       "      <th>2</th>\n",
       "      <td>2</td>\n",
       "      <td>5.0</td>\n",
       "      <td>0.421146</td>\n",
       "    </tr>\n",
       "    <tr>\n",
       "      <th>3</th>\n",
       "      <td>3</td>\n",
       "      <td>7.5</td>\n",
       "      <td>0.692569</td>\n",
       "    </tr>\n",
       "    <tr>\n",
       "      <th>4</th>\n",
       "      <td>4</td>\n",
       "      <td>10.0</td>\n",
       "      <td>0.578336</td>\n",
       "    </tr>\n",
       "    <tr>\n",
       "      <th>5</th>\n",
       "      <td>5</td>\n",
       "      <td>12.5</td>\n",
       "      <td>0.496820</td>\n",
       "    </tr>\n",
       "    <tr>\n",
       "      <th>6</th>\n",
       "      <td>6</td>\n",
       "      <td>15.0</td>\n",
       "      <td>0.274772</td>\n",
       "    </tr>\n",
       "    <tr>\n",
       "      <th>7</th>\n",
       "      <td>7</td>\n",
       "      <td>17.5</td>\n",
       "      <td>0.870582</td>\n",
       "    </tr>\n",
       "    <tr>\n",
       "      <th>8</th>\n",
       "      <td>8</td>\n",
       "      <td>20.0</td>\n",
       "      <td>0.247071</td>\n",
       "    </tr>\n",
       "    <tr>\n",
       "      <th>9</th>\n",
       "      <td>9</td>\n",
       "      <td>22.5</td>\n",
       "      <td>0.588012</td>\n",
       "    </tr>\n",
       "    <tr>\n",
       "      <th>10</th>\n",
       "      <td>10</td>\n",
       "      <td>25.0</td>\n",
       "      <td>0.720454</td>\n",
       "    </tr>\n",
       "    <tr>\n",
       "      <th>11</th>\n",
       "      <td>11</td>\n",
       "      <td>27.5</td>\n",
       "      <td>0.255954</td>\n",
       "    </tr>\n",
       "  </tbody>\n",
       "</table>\n",
       "</div>"
      ],
      "text/plain": [
       "    level_0  index  newseries\n",
       "0         0    0.0   0.832842\n",
       "1         1    2.5   0.125533\n",
       "2         2    5.0   0.421146\n",
       "3         3    7.5   0.692569\n",
       "4         4   10.0   0.578336\n",
       "5         5   12.5   0.496820\n",
       "6         6   15.0   0.274772\n",
       "7         7   17.5   0.870582\n",
       "8         8   20.0   0.247071\n",
       "9         9   22.5   0.588012\n",
       "10       10   25.0   0.720454\n",
       "11       11   27.5   0.255954"
      ]
     },
     "execution_count": 36,
     "metadata": {},
     "output_type": "execute_result"
    }
   ],
   "source": [
    "mmm"
   ]
  },
  {
   "cell_type": "code",
   "execution_count": null,
   "id": "4cae81b3-f4fb-40d5-b48e-b10dcacff25e",
   "metadata": {},
   "outputs": [],
   "source": []
  },
  {
   "cell_type": "code",
   "execution_count": null,
   "id": "4abbc52a-4f89-4cd7-83d5-776c71ee74c0",
   "metadata": {},
   "outputs": [],
   "source": []
  },
  {
   "cell_type": "code",
   "execution_count": 1,
   "id": "a4a6c081-406c-4f8e-9568-78f8bce40cb1",
   "metadata": {},
   "outputs": [],
   "source": [
    "import numpy as np\n",
    "import pandas as pd"
   ]
  },
  {
   "cell_type": "code",
   "execution_count": 13,
   "id": "99c1612c-d116-4b8b-afe5-eba7cfa08158",
   "metadata": {},
   "outputs": [],
   "source": [
    "a = pd.DataFrame(np.random.randint(10, size=(10, 3)), index=range(10,20), columns=['age', 'name', 'sex'])"
   ]
  },
  {
   "cell_type": "code",
   "execution_count": 14,
   "id": "03e5deb3-eedb-4034-9bd8-cf99a6e0b660",
   "metadata": {},
   "outputs": [
    {
     "data": {
      "text/html": [
       "<div>\n",
       "<style scoped>\n",
       "    .dataframe tbody tr th:only-of-type {\n",
       "        vertical-align: middle;\n",
       "    }\n",
       "\n",
       "    .dataframe tbody tr th {\n",
       "        vertical-align: top;\n",
       "    }\n",
       "\n",
       "    .dataframe thead th {\n",
       "        text-align: right;\n",
       "    }\n",
       "</style>\n",
       "<table border=\"1\" class=\"dataframe\">\n",
       "  <thead>\n",
       "    <tr style=\"text-align: right;\">\n",
       "      <th></th>\n",
       "      <th>age</th>\n",
       "      <th>name</th>\n",
       "      <th>sex</th>\n",
       "    </tr>\n",
       "  </thead>\n",
       "  <tbody>\n",
       "    <tr>\n",
       "      <th>10</th>\n",
       "      <td>7</td>\n",
       "      <td>1</td>\n",
       "      <td>1</td>\n",
       "    </tr>\n",
       "    <tr>\n",
       "      <th>11</th>\n",
       "      <td>0</td>\n",
       "      <td>1</td>\n",
       "      <td>1</td>\n",
       "    </tr>\n",
       "    <tr>\n",
       "      <th>12</th>\n",
       "      <td>6</td>\n",
       "      <td>8</td>\n",
       "      <td>0</td>\n",
       "    </tr>\n",
       "    <tr>\n",
       "      <th>13</th>\n",
       "      <td>1</td>\n",
       "      <td>8</td>\n",
       "      <td>5</td>\n",
       "    </tr>\n",
       "    <tr>\n",
       "      <th>14</th>\n",
       "      <td>4</td>\n",
       "      <td>2</td>\n",
       "      <td>7</td>\n",
       "    </tr>\n",
       "    <tr>\n",
       "      <th>15</th>\n",
       "      <td>3</td>\n",
       "      <td>9</td>\n",
       "      <td>1</td>\n",
       "    </tr>\n",
       "    <tr>\n",
       "      <th>16</th>\n",
       "      <td>2</td>\n",
       "      <td>2</td>\n",
       "      <td>1</td>\n",
       "    </tr>\n",
       "    <tr>\n",
       "      <th>17</th>\n",
       "      <td>1</td>\n",
       "      <td>0</td>\n",
       "      <td>1</td>\n",
       "    </tr>\n",
       "    <tr>\n",
       "      <th>18</th>\n",
       "      <td>7</td>\n",
       "      <td>8</td>\n",
       "      <td>5</td>\n",
       "    </tr>\n",
       "    <tr>\n",
       "      <th>19</th>\n",
       "      <td>9</td>\n",
       "      <td>7</td>\n",
       "      <td>1</td>\n",
       "    </tr>\n",
       "  </tbody>\n",
       "</table>\n",
       "</div>"
      ],
      "text/plain": [
       "    age  name  sex\n",
       "10    7     1    1\n",
       "11    0     1    1\n",
       "12    6     8    0\n",
       "13    1     8    5\n",
       "14    4     2    7\n",
       "15    3     9    1\n",
       "16    2     2    1\n",
       "17    1     0    1\n",
       "18    7     8    5\n",
       "19    9     7    1"
      ]
     },
     "execution_count": 14,
     "metadata": {},
     "output_type": "execute_result"
    }
   ],
   "source": [
    "a"
   ]
  },
  {
   "cell_type": "code",
   "execution_count": 15,
   "id": "602b6747-3466-4850-bac2-2e463b780b96",
   "metadata": {},
   "outputs": [
    {
     "data": {
      "text/html": [
       "<div>\n",
       "<style scoped>\n",
       "    .dataframe tbody tr th:only-of-type {\n",
       "        vertical-align: middle;\n",
       "    }\n",
       "\n",
       "    .dataframe tbody tr th {\n",
       "        vertical-align: top;\n",
       "    }\n",
       "\n",
       "    .dataframe thead th {\n",
       "        text-align: right;\n",
       "    }\n",
       "</style>\n",
       "<table border=\"1\" class=\"dataframe\">\n",
       "  <thead>\n",
       "    <tr style=\"text-align: right;\">\n",
       "      <th></th>\n",
       "      <th>0</th>\n",
       "      <th>1</th>\n",
       "      <th>2</th>\n",
       "      <th>3</th>\n",
       "    </tr>\n",
       "  </thead>\n",
       "  <tbody>\n",
       "    <tr>\n",
       "      <th>0</th>\n",
       "      <td>1</td>\n",
       "      <td>2</td>\n",
       "      <td>3</td>\n",
       "      <td>4</td>\n",
       "    </tr>\n",
       "    <tr>\n",
       "      <th>1</th>\n",
       "      <td>5</td>\n",
       "      <td>6</td>\n",
       "      <td>7</td>\n",
       "      <td>8</td>\n",
       "    </tr>\n",
       "  </tbody>\n",
       "</table>\n",
       "</div>"
      ],
      "text/plain": [
       "   0  1  2  3\n",
       "0  1  2  3  4\n",
       "1  5  6  7  8"
      ]
     },
     "execution_count": 15,
     "metadata": {},
     "output_type": "execute_result"
    }
   ],
   "source": [
    "pd.DataFrame([[1, 2, 3, 4],[5, 6, 7, 8]])"
   ]
  },
  {
   "cell_type": "code",
   "execution_count": 16,
   "id": "f3306185-2373-4be4-8706-d3bf33d1a22a",
   "metadata": {},
   "outputs": [
    {
     "name": "stdout",
     "output_type": "stream",
     "text": [
      "Collecting faker\n",
      "  Downloading Faker-14.2.0-py3-none-any.whl (1.6 MB)\n",
      "\u001b[K     |████████████████████████████████| 1.6 MB 5.0 MB/s eta 0:00:01\n",
      "\u001b[?25hRequirement already satisfied: python-dateutil>=2.4 in /Users/mehdihatamigoloujeh/opt/anaconda3/lib/python3.9/site-packages (from faker) (2.8.2)\n",
      "Requirement already satisfied: six>=1.5 in /Users/mehdihatamigoloujeh/opt/anaconda3/lib/python3.9/site-packages (from python-dateutil>=2.4->faker) (1.16.0)\n",
      "Installing collected packages: faker\n",
      "Successfully installed faker-14.2.0\n",
      "Note: you may need to restart the kernel to use updated packages.\n"
     ]
    }
   ],
   "source": [
    "pip install faker"
   ]
  },
  {
   "cell_type": "code",
   "execution_count": 17,
   "id": "92fcb978-1097-4029-9f4c-44fa58a3cf08",
   "metadata": {},
   "outputs": [
    {
     "ename": "NameError",
     "evalue": "name 'fake' is not defined",
     "output_type": "error",
     "traceback": [
      "\u001b[0;31m---------------------------------------------------------------------------\u001b[0m",
      "\u001b[0;31mNameError\u001b[0m                                 Traceback (most recent call last)",
      "\u001b[0;32m/var/folders/vw/_7ms67xn1jxb_9zqbfcn4q080000gn/T/ipykernel_70864/2067741934.py\u001b[0m in \u001b[0;36m<module>\u001b[0;34m\u001b[0m\n\u001b[0;32m----> 1\u001b[0;31m \u001b[0mfake\u001b[0m\u001b[0;34m.\u001b[0m\u001b[0mname\u001b[0m\u001b[0;34m(\u001b[0m\u001b[0;34m)\u001b[0m\u001b[0;34m\u001b[0m\u001b[0;34m\u001b[0m\u001b[0m\n\u001b[0m",
      "\u001b[0;31mNameError\u001b[0m: name 'fake' is not defined"
     ]
    }
   ],
   "source": [
    "fake.name()"
   ]
  },
  {
   "cell_type": "code",
   "execution_count": 18,
   "id": "93ad3388-246f-45eb-b064-9a0d2f270424",
   "metadata": {},
   "outputs": [],
   "source": [
    "from faker import Faker"
   ]
  },
  {
   "cell_type": "code",
   "execution_count": 19,
   "id": "5578ba65-712d-42ac-bb4c-3c27a91771a8",
   "metadata": {},
   "outputs": [],
   "source": [
    "fake = Faker()"
   ]
  },
  {
   "cell_type": "code",
   "execution_count": 30,
   "id": "0687bf20-031e-4039-b938-2c644bd8c2b4",
   "metadata": {},
   "outputs": [
    {
     "data": {
      "text/plain": [
       "'Christopher Greer'"
      ]
     },
     "execution_count": 30,
     "metadata": {},
     "output_type": "execute_result"
    }
   ],
   "source": [
    "fake.name()"
   ]
  },
  {
   "cell_type": "code",
   "execution_count": null,
   "id": "f9c6c0c9-a795-4b77-b2d1-fe50b35bf84e",
   "metadata": {},
   "outputs": [],
   "source": []
  },
  {
   "cell_type": "code",
   "execution_count": 31,
   "id": "5d8676e7-d280-46c9-9293-734f4e39d047",
   "metadata": {},
   "outputs": [],
   "source": [
    "d = {\n",
    "    'age' : pd.Series(np.random.randint(0,80, 25)),\n",
    "    \n",
    "    'name': pd.Series([fake.name() for i in range(25)])\n",
    "}"
   ]
  },
  {
   "cell_type": "code",
   "execution_count": 32,
   "id": "cb66dba6-837b-4411-81e9-fc8169806ec8",
   "metadata": {},
   "outputs": [
    {
     "data": {
      "text/plain": [
       "{'age': 0      5\n",
       " 1     31\n",
       " 2      2\n",
       " 3      4\n",
       " 4     42\n",
       " 5     30\n",
       " 6     36\n",
       " 7     52\n",
       " 8     45\n",
       " 9     38\n",
       " 10    24\n",
       " 11     2\n",
       " 12    68\n",
       " 13    24\n",
       " 14    45\n",
       " 15    70\n",
       " 16    15\n",
       " 17    67\n",
       " 18     5\n",
       " 19    47\n",
       " 20    73\n",
       " 21    29\n",
       " 22    61\n",
       " 23    63\n",
       " 24    24\n",
       " dtype: int64,\n",
       " 'name': 0         Michael Prince\n",
       " 1             Wayne Cruz\n",
       " 2          Crystal Henry\n",
       " 3            Steven Hall\n",
       " 4             Tracy Meza\n",
       " 5        Richard Proctor\n",
       " 6         Laurie Acevedo\n",
       " 7            Holly Wells\n",
       " 8          Michael Brown\n",
       " 9             Denise Day\n",
       " 10    Christopher Norris\n",
       " 11     Jeremiah Martinez\n",
       " 12          Brian Miller\n",
       " 13        Arthur Shelton\n",
       " 14     Gabrielle Wilkins\n",
       " 15           Tina Fowler\n",
       " 16             Luis Hill\n",
       " 17         Lindsay Evans\n",
       " 18            Ian Morris\n",
       " 19          Denise Woods\n",
       " 20     Darrell Gutierrez\n",
       " 21             Robin Cox\n",
       " 22          Derek Chavez\n",
       " 23            Paula Reed\n",
       " 24           Lori Curtis\n",
       " dtype: object}"
      ]
     },
     "execution_count": 32,
     "metadata": {},
     "output_type": "execute_result"
    }
   ],
   "source": [
    "d"
   ]
  },
  {
   "cell_type": "code",
   "execution_count": 33,
   "id": "2b88e387-8d3b-43ca-a56b-410f34d0e56f",
   "metadata": {},
   "outputs": [
    {
     "data": {
      "text/html": [
       "<div>\n",
       "<style scoped>\n",
       "    .dataframe tbody tr th:only-of-type {\n",
       "        vertical-align: middle;\n",
       "    }\n",
       "\n",
       "    .dataframe tbody tr th {\n",
       "        vertical-align: top;\n",
       "    }\n",
       "\n",
       "    .dataframe thead th {\n",
       "        text-align: right;\n",
       "    }\n",
       "</style>\n",
       "<table border=\"1\" class=\"dataframe\">\n",
       "  <thead>\n",
       "    <tr style=\"text-align: right;\">\n",
       "      <th></th>\n",
       "      <th>age</th>\n",
       "      <th>name</th>\n",
       "    </tr>\n",
       "  </thead>\n",
       "  <tbody>\n",
       "    <tr>\n",
       "      <th>0</th>\n",
       "      <td>5</td>\n",
       "      <td>Michael Prince</td>\n",
       "    </tr>\n",
       "    <tr>\n",
       "      <th>1</th>\n",
       "      <td>31</td>\n",
       "      <td>Wayne Cruz</td>\n",
       "    </tr>\n",
       "    <tr>\n",
       "      <th>2</th>\n",
       "      <td>2</td>\n",
       "      <td>Crystal Henry</td>\n",
       "    </tr>\n",
       "    <tr>\n",
       "      <th>3</th>\n",
       "      <td>4</td>\n",
       "      <td>Steven Hall</td>\n",
       "    </tr>\n",
       "    <tr>\n",
       "      <th>4</th>\n",
       "      <td>42</td>\n",
       "      <td>Tracy Meza</td>\n",
       "    </tr>\n",
       "    <tr>\n",
       "      <th>5</th>\n",
       "      <td>30</td>\n",
       "      <td>Richard Proctor</td>\n",
       "    </tr>\n",
       "    <tr>\n",
       "      <th>6</th>\n",
       "      <td>36</td>\n",
       "      <td>Laurie Acevedo</td>\n",
       "    </tr>\n",
       "    <tr>\n",
       "      <th>7</th>\n",
       "      <td>52</td>\n",
       "      <td>Holly Wells</td>\n",
       "    </tr>\n",
       "    <tr>\n",
       "      <th>8</th>\n",
       "      <td>45</td>\n",
       "      <td>Michael Brown</td>\n",
       "    </tr>\n",
       "    <tr>\n",
       "      <th>9</th>\n",
       "      <td>38</td>\n",
       "      <td>Denise Day</td>\n",
       "    </tr>\n",
       "    <tr>\n",
       "      <th>10</th>\n",
       "      <td>24</td>\n",
       "      <td>Christopher Norris</td>\n",
       "    </tr>\n",
       "    <tr>\n",
       "      <th>11</th>\n",
       "      <td>2</td>\n",
       "      <td>Jeremiah Martinez</td>\n",
       "    </tr>\n",
       "    <tr>\n",
       "      <th>12</th>\n",
       "      <td>68</td>\n",
       "      <td>Brian Miller</td>\n",
       "    </tr>\n",
       "    <tr>\n",
       "      <th>13</th>\n",
       "      <td>24</td>\n",
       "      <td>Arthur Shelton</td>\n",
       "    </tr>\n",
       "    <tr>\n",
       "      <th>14</th>\n",
       "      <td>45</td>\n",
       "      <td>Gabrielle Wilkins</td>\n",
       "    </tr>\n",
       "    <tr>\n",
       "      <th>15</th>\n",
       "      <td>70</td>\n",
       "      <td>Tina Fowler</td>\n",
       "    </tr>\n",
       "    <tr>\n",
       "      <th>16</th>\n",
       "      <td>15</td>\n",
       "      <td>Luis Hill</td>\n",
       "    </tr>\n",
       "    <tr>\n",
       "      <th>17</th>\n",
       "      <td>67</td>\n",
       "      <td>Lindsay Evans</td>\n",
       "    </tr>\n",
       "    <tr>\n",
       "      <th>18</th>\n",
       "      <td>5</td>\n",
       "      <td>Ian Morris</td>\n",
       "    </tr>\n",
       "    <tr>\n",
       "      <th>19</th>\n",
       "      <td>47</td>\n",
       "      <td>Denise Woods</td>\n",
       "    </tr>\n",
       "    <tr>\n",
       "      <th>20</th>\n",
       "      <td>73</td>\n",
       "      <td>Darrell Gutierrez</td>\n",
       "    </tr>\n",
       "    <tr>\n",
       "      <th>21</th>\n",
       "      <td>29</td>\n",
       "      <td>Robin Cox</td>\n",
       "    </tr>\n",
       "    <tr>\n",
       "      <th>22</th>\n",
       "      <td>61</td>\n",
       "      <td>Derek Chavez</td>\n",
       "    </tr>\n",
       "    <tr>\n",
       "      <th>23</th>\n",
       "      <td>63</td>\n",
       "      <td>Paula Reed</td>\n",
       "    </tr>\n",
       "    <tr>\n",
       "      <th>24</th>\n",
       "      <td>24</td>\n",
       "      <td>Lori Curtis</td>\n",
       "    </tr>\n",
       "  </tbody>\n",
       "</table>\n",
       "</div>"
      ],
      "text/plain": [
       "    age                name\n",
       "0     5      Michael Prince\n",
       "1    31          Wayne Cruz\n",
       "2     2       Crystal Henry\n",
       "3     4         Steven Hall\n",
       "4    42          Tracy Meza\n",
       "5    30     Richard Proctor\n",
       "6    36      Laurie Acevedo\n",
       "7    52         Holly Wells\n",
       "8    45       Michael Brown\n",
       "9    38          Denise Day\n",
       "10   24  Christopher Norris\n",
       "11    2   Jeremiah Martinez\n",
       "12   68        Brian Miller\n",
       "13   24      Arthur Shelton\n",
       "14   45   Gabrielle Wilkins\n",
       "15   70         Tina Fowler\n",
       "16   15           Luis Hill\n",
       "17   67       Lindsay Evans\n",
       "18    5          Ian Morris\n",
       "19   47        Denise Woods\n",
       "20   73   Darrell Gutierrez\n",
       "21   29           Robin Cox\n",
       "22   61        Derek Chavez\n",
       "23   63          Paula Reed\n",
       "24   24         Lori Curtis"
      ]
     },
     "execution_count": 33,
     "metadata": {},
     "output_type": "execute_result"
    }
   ],
   "source": [
    "pd.DataFrame(d)"
   ]
  },
  {
   "cell_type": "code",
   "execution_count": null,
   "id": "5c4f5dc4-a1ee-4085-9408-aeb6b6a51891",
   "metadata": {},
   "outputs": [],
   "source": []
  },
  {
   "cell_type": "code",
   "execution_count": 34,
   "id": "91cf8f16-0209-4da5-be44-a488b217f2af",
   "metadata": {},
   "outputs": [],
   "source": [
    "a = np.array(range(10))"
   ]
  },
  {
   "cell_type": "code",
   "execution_count": 35,
   "id": "97e4d1a4-a03b-4490-9a35-f5335253f799",
   "metadata": {},
   "outputs": [
    {
     "data": {
      "text/plain": [
       "array([0, 1, 2, 3, 4, 5, 6, 7, 8, 9])"
      ]
     },
     "execution_count": 35,
     "metadata": {},
     "output_type": "execute_result"
    }
   ],
   "source": [
    "a"
   ]
  },
  {
   "cell_type": "code",
   "execution_count": 36,
   "id": "7bc496f5-328d-4f92-adf0-fc7b06a5afde",
   "metadata": {},
   "outputs": [],
   "source": [
    "s = pd.Series(a)"
   ]
  },
  {
   "cell_type": "code",
   "execution_count": 37,
   "id": "d0be2880-ef8d-4fc2-b442-7261c6d74ba2",
   "metadata": {},
   "outputs": [
    {
     "data": {
      "text/plain": [
       "0    0\n",
       "1    1\n",
       "2    2\n",
       "3    3\n",
       "4    4\n",
       "5    5\n",
       "6    6\n",
       "7    7\n",
       "8    8\n",
       "9    9\n",
       "dtype: int64"
      ]
     },
     "execution_count": 37,
     "metadata": {},
     "output_type": "execute_result"
    }
   ],
   "source": [
    "s"
   ]
  },
  {
   "cell_type": "code",
   "execution_count": 38,
   "id": "897d1b36-ba9f-4bbb-bad0-1f164b10ffff",
   "metadata": {},
   "outputs": [],
   "source": [
    "a = np.array(range(10))"
   ]
  },
  {
   "cell_type": "code",
   "execution_count": 39,
   "id": "8ae932b4-8c17-4b86-8597-1dd2697ac674",
   "metadata": {},
   "outputs": [
    {
     "data": {
      "text/plain": [
       "array([0, 1, 2, 3, 4, 5, 6, 7, 8, 9])"
      ]
     },
     "execution_count": 39,
     "metadata": {},
     "output_type": "execute_result"
    }
   ],
   "source": [
    "a"
   ]
  },
  {
   "cell_type": "code",
   "execution_count": 40,
   "id": "73b66aea-b296-4484-87d4-0e02d6f5af29",
   "metadata": {},
   "outputs": [],
   "source": [
    "b = np.arange(10)"
   ]
  },
  {
   "cell_type": "code",
   "execution_count": 41,
   "id": "2514b848-dc65-421a-b6c7-b8b5dd05ef1a",
   "metadata": {},
   "outputs": [
    {
     "data": {
      "text/plain": [
       "array([0, 1, 2, 3, 4, 5, 6, 7, 8, 9])"
      ]
     },
     "execution_count": 41,
     "metadata": {},
     "output_type": "execute_result"
    }
   ],
   "source": [
    "b"
   ]
  },
  {
   "cell_type": "code",
   "execution_count": 42,
   "id": "d1584e58-3cc3-4c32-9595-90e69ff039d2",
   "metadata": {},
   "outputs": [
    {
     "data": {
      "text/plain": [
       "array([ True,  True,  True,  True,  True,  True,  True,  True,  True,\n",
       "        True])"
      ]
     },
     "execution_count": 42,
     "metadata": {},
     "output_type": "execute_result"
    }
   ],
   "source": [
    "a == b"
   ]
  },
  {
   "cell_type": "code",
   "execution_count": 43,
   "id": "e93aedcb-f0a0-49c3-9e3b-6af7583e678e",
   "metadata": {},
   "outputs": [
    {
     "data": {
      "text/plain": [
       "False"
      ]
     },
     "execution_count": 43,
     "metadata": {},
     "output_type": "execute_result"
    }
   ],
   "source": [
    "a is b"
   ]
  },
  {
   "cell_type": "code",
   "execution_count": 1,
   "id": "2c72ad03-4c19-438e-8e39-f8b72b23724a",
   "metadata": {},
   "outputs": [
    {
     "name": "stdout",
     "output_type": "stream",
     "text": [
      "hello world!\n"
     ]
    }
   ],
   "source": [
    "print(\"hello world!\")"
   ]
  },
  {
   "cell_type": "code",
   "execution_count": 2,
   "id": "aa883fd9-724a-40ff-ba5c-87b861b3b167",
   "metadata": {},
   "outputs": [],
   "source": [
    "import numpy as np"
   ]
  },
  {
   "cell_type": "code",
   "execution_count": 3,
   "id": "c379e775-91d7-41ee-aecd-e0e7fc045a20",
   "metadata": {},
   "outputs": [],
   "source": [
    "import pandas as pd"
   ]
  },
  {
   "cell_type": "code",
   "execution_count": 4,
   "id": "e35b20d7-d069-4bf8-9dc3-8caa147b2e5a",
   "metadata": {},
   "outputs": [
    {
     "data": {
      "text/html": [
       "<div>\n",
       "<style scoped>\n",
       "    .dataframe tbody tr th:only-of-type {\n",
       "        vertical-align: middle;\n",
       "    }\n",
       "\n",
       "    .dataframe tbody tr th {\n",
       "        vertical-align: top;\n",
       "    }\n",
       "\n",
       "    .dataframe thead th {\n",
       "        text-align: right;\n",
       "    }\n",
       "</style>\n",
       "<table border=\"1\" class=\"dataframe\">\n",
       "  <thead>\n",
       "    <tr style=\"text-align: right;\">\n",
       "      <th></th>\n",
       "      <th>0</th>\n",
       "      <th>1</th>\n",
       "      <th>2</th>\n",
       "      <th>3</th>\n",
       "    </tr>\n",
       "  </thead>\n",
       "  <tbody>\n",
       "    <tr>\n",
       "      <th>0</th>\n",
       "      <td>0.150649</td>\n",
       "      <td>0.192583</td>\n",
       "      <td>0.657407</td>\n",
       "      <td>0.664315</td>\n",
       "    </tr>\n",
       "    <tr>\n",
       "      <th>1</th>\n",
       "      <td>0.745186</td>\n",
       "      <td>0.336625</td>\n",
       "      <td>0.461662</td>\n",
       "      <td>0.713082</td>\n",
       "    </tr>\n",
       "    <tr>\n",
       "      <th>2</th>\n",
       "      <td>0.352675</td>\n",
       "      <td>0.380781</td>\n",
       "      <td>0.813272</td>\n",
       "      <td>0.965916</td>\n",
       "    </tr>\n",
       "  </tbody>\n",
       "</table>\n",
       "</div>"
      ],
      "text/plain": [
       "          0         1         2         3\n",
       "0  0.150649  0.192583  0.657407  0.664315\n",
       "1  0.745186  0.336625  0.461662  0.713082\n",
       "2  0.352675  0.380781  0.813272  0.965916"
      ]
     },
     "execution_count": 4,
     "metadata": {},
     "output_type": "execute_result"
    }
   ],
   "source": [
    "pd.DataFrame(np.random.rand(3, 4))"
   ]
  },
  {
   "cell_type": "code",
   "execution_count": 11,
   "id": "cc23540c-0afc-4d15-b1cb-d67a33165401",
   "metadata": {},
   "outputs": [],
   "source": [
    "a = pd.DataFrame(np.random.randint(10, size=(10, 15)))"
   ]
  },
  {
   "cell_type": "code",
   "execution_count": 12,
   "id": "3f79ff36-4760-4b14-a4ea-757626ef3e92",
   "metadata": {},
   "outputs": [
    {
     "data": {
      "text/html": [
       "<div>\n",
       "<style scoped>\n",
       "    .dataframe tbody tr th:only-of-type {\n",
       "        vertical-align: middle;\n",
       "    }\n",
       "\n",
       "    .dataframe tbody tr th {\n",
       "        vertical-align: top;\n",
       "    }\n",
       "\n",
       "    .dataframe thead th {\n",
       "        text-align: right;\n",
       "    }\n",
       "</style>\n",
       "<table border=\"1\" class=\"dataframe\">\n",
       "  <thead>\n",
       "    <tr style=\"text-align: right;\">\n",
       "      <th></th>\n",
       "      <th>0</th>\n",
       "      <th>1</th>\n",
       "      <th>2</th>\n",
       "      <th>3</th>\n",
       "      <th>4</th>\n",
       "      <th>5</th>\n",
       "      <th>6</th>\n",
       "      <th>7</th>\n",
       "      <th>8</th>\n",
       "      <th>9</th>\n",
       "      <th>10</th>\n",
       "      <th>11</th>\n",
       "      <th>12</th>\n",
       "      <th>13</th>\n",
       "      <th>14</th>\n",
       "    </tr>\n",
       "  </thead>\n",
       "  <tbody>\n",
       "    <tr>\n",
       "      <th>0</th>\n",
       "      <td>1</td>\n",
       "      <td>2</td>\n",
       "      <td>2</td>\n",
       "      <td>4</td>\n",
       "      <td>9</td>\n",
       "      <td>8</td>\n",
       "      <td>2</td>\n",
       "      <td>8</td>\n",
       "      <td>8</td>\n",
       "      <td>2</td>\n",
       "      <td>1</td>\n",
       "      <td>2</td>\n",
       "      <td>4</td>\n",
       "      <td>1</td>\n",
       "      <td>3</td>\n",
       "    </tr>\n",
       "    <tr>\n",
       "      <th>1</th>\n",
       "      <td>8</td>\n",
       "      <td>6</td>\n",
       "      <td>0</td>\n",
       "      <td>4</td>\n",
       "      <td>0</td>\n",
       "      <td>5</td>\n",
       "      <td>8</td>\n",
       "      <td>2</td>\n",
       "      <td>5</td>\n",
       "      <td>6</td>\n",
       "      <td>2</td>\n",
       "      <td>0</td>\n",
       "      <td>7</td>\n",
       "      <td>5</td>\n",
       "      <td>7</td>\n",
       "    </tr>\n",
       "    <tr>\n",
       "      <th>2</th>\n",
       "      <td>9</td>\n",
       "      <td>7</td>\n",
       "      <td>8</td>\n",
       "      <td>8</td>\n",
       "      <td>0</td>\n",
       "      <td>8</td>\n",
       "      <td>1</td>\n",
       "      <td>9</td>\n",
       "      <td>6</td>\n",
       "      <td>9</td>\n",
       "      <td>1</td>\n",
       "      <td>4</td>\n",
       "      <td>9</td>\n",
       "      <td>5</td>\n",
       "      <td>8</td>\n",
       "    </tr>\n",
       "    <tr>\n",
       "      <th>3</th>\n",
       "      <td>8</td>\n",
       "      <td>7</td>\n",
       "      <td>9</td>\n",
       "      <td>7</td>\n",
       "      <td>2</td>\n",
       "      <td>2</td>\n",
       "      <td>4</td>\n",
       "      <td>4</td>\n",
       "      <td>2</td>\n",
       "      <td>5</td>\n",
       "      <td>8</td>\n",
       "      <td>5</td>\n",
       "      <td>0</td>\n",
       "      <td>1</td>\n",
       "      <td>1</td>\n",
       "    </tr>\n",
       "    <tr>\n",
       "      <th>4</th>\n",
       "      <td>3</td>\n",
       "      <td>7</td>\n",
       "      <td>0</td>\n",
       "      <td>0</td>\n",
       "      <td>9</td>\n",
       "      <td>0</td>\n",
       "      <td>7</td>\n",
       "      <td>5</td>\n",
       "      <td>1</td>\n",
       "      <td>8</td>\n",
       "      <td>4</td>\n",
       "      <td>6</td>\n",
       "      <td>1</td>\n",
       "      <td>8</td>\n",
       "      <td>9</td>\n",
       "    </tr>\n",
       "    <tr>\n",
       "      <th>5</th>\n",
       "      <td>2</td>\n",
       "      <td>3</td>\n",
       "      <td>6</td>\n",
       "      <td>0</td>\n",
       "      <td>4</td>\n",
       "      <td>7</td>\n",
       "      <td>9</td>\n",
       "      <td>7</td>\n",
       "      <td>7</td>\n",
       "      <td>6</td>\n",
       "      <td>1</td>\n",
       "      <td>7</td>\n",
       "      <td>9</td>\n",
       "      <td>7</td>\n",
       "      <td>2</td>\n",
       "    </tr>\n",
       "    <tr>\n",
       "      <th>6</th>\n",
       "      <td>0</td>\n",
       "      <td>8</td>\n",
       "      <td>7</td>\n",
       "      <td>8</td>\n",
       "      <td>5</td>\n",
       "      <td>6</td>\n",
       "      <td>5</td>\n",
       "      <td>3</td>\n",
       "      <td>3</td>\n",
       "      <td>0</td>\n",
       "      <td>8</td>\n",
       "      <td>4</td>\n",
       "      <td>3</td>\n",
       "      <td>4</td>\n",
       "      <td>4</td>\n",
       "    </tr>\n",
       "    <tr>\n",
       "      <th>7</th>\n",
       "      <td>9</td>\n",
       "      <td>4</td>\n",
       "      <td>0</td>\n",
       "      <td>2</td>\n",
       "      <td>6</td>\n",
       "      <td>5</td>\n",
       "      <td>5</td>\n",
       "      <td>3</td>\n",
       "      <td>7</td>\n",
       "      <td>0</td>\n",
       "      <td>7</td>\n",
       "      <td>6</td>\n",
       "      <td>7</td>\n",
       "      <td>1</td>\n",
       "      <td>1</td>\n",
       "    </tr>\n",
       "    <tr>\n",
       "      <th>8</th>\n",
       "      <td>2</td>\n",
       "      <td>6</td>\n",
       "      <td>0</td>\n",
       "      <td>2</td>\n",
       "      <td>8</td>\n",
       "      <td>4</td>\n",
       "      <td>3</td>\n",
       "      <td>8</td>\n",
       "      <td>9</td>\n",
       "      <td>0</td>\n",
       "      <td>2</td>\n",
       "      <td>8</td>\n",
       "      <td>3</td>\n",
       "      <td>9</td>\n",
       "      <td>2</td>\n",
       "    </tr>\n",
       "    <tr>\n",
       "      <th>9</th>\n",
       "      <td>6</td>\n",
       "      <td>0</td>\n",
       "      <td>2</td>\n",
       "      <td>3</td>\n",
       "      <td>5</td>\n",
       "      <td>7</td>\n",
       "      <td>7</td>\n",
       "      <td>2</td>\n",
       "      <td>6</td>\n",
       "      <td>3</td>\n",
       "      <td>1</td>\n",
       "      <td>2</td>\n",
       "      <td>4</td>\n",
       "      <td>7</td>\n",
       "      <td>9</td>\n",
       "    </tr>\n",
       "  </tbody>\n",
       "</table>\n",
       "</div>"
      ],
      "text/plain": [
       "   0   1   2   3   4   5   6   7   8   9   10  11  12  13  14\n",
       "0   1   2   2   4   9   8   2   8   8   2   1   2   4   1   3\n",
       "1   8   6   0   4   0   5   8   2   5   6   2   0   7   5   7\n",
       "2   9   7   8   8   0   8   1   9   6   9   1   4   9   5   8\n",
       "3   8   7   9   7   2   2   4   4   2   5   8   5   0   1   1\n",
       "4   3   7   0   0   9   0   7   5   1   8   4   6   1   8   9\n",
       "5   2   3   6   0   4   7   9   7   7   6   1   7   9   7   2\n",
       "6   0   8   7   8   5   6   5   3   3   0   8   4   3   4   4\n",
       "7   9   4   0   2   6   5   5   3   7   0   7   6   7   1   1\n",
       "8   2   6   0   2   8   4   3   8   9   0   2   8   3   9   2\n",
       "9   6   0   2   3   5   7   7   2   6   3   1   2   4   7   9"
      ]
     },
     "execution_count": 12,
     "metadata": {},
     "output_type": "execute_result"
    }
   ],
   "source": [
    "a"
   ]
  },
  {
   "cell_type": "code",
   "execution_count": 15,
   "id": "9ff2b560-5ed3-4916-95db-a94a552083e4",
   "metadata": {},
   "outputs": [
    {
     "data": {
      "text/plain": [
       "9"
      ]
     },
     "execution_count": 15,
     "metadata": {},
     "output_type": "execute_result"
    }
   ],
   "source": [
    "a[0][2]"
   ]
  },
  {
   "cell_type": "code",
   "execution_count": 22,
   "id": "29ef03d4-663c-4b96-9bb8-c80988995c6f",
   "metadata": {},
   "outputs": [],
   "source": [
    "b = pd.DataFrame(np.random.rand(4, 4), index = ('a', 'b', 'c', 'd'), columns = (11, 12, 13, 14))"
   ]
  },
  {
   "cell_type": "code",
   "execution_count": 23,
   "id": "5559ad0f-2d45-4884-9fae-ab3380a520ba",
   "metadata": {},
   "outputs": [
    {
     "data": {
      "text/html": [
       "<div>\n",
       "<style scoped>\n",
       "    .dataframe tbody tr th:only-of-type {\n",
       "        vertical-align: middle;\n",
       "    }\n",
       "\n",
       "    .dataframe tbody tr th {\n",
       "        vertical-align: top;\n",
       "    }\n",
       "\n",
       "    .dataframe thead th {\n",
       "        text-align: right;\n",
       "    }\n",
       "</style>\n",
       "<table border=\"1\" class=\"dataframe\">\n",
       "  <thead>\n",
       "    <tr style=\"text-align: right;\">\n",
       "      <th></th>\n",
       "      <th>11</th>\n",
       "      <th>12</th>\n",
       "      <th>13</th>\n",
       "      <th>14</th>\n",
       "    </tr>\n",
       "  </thead>\n",
       "  <tbody>\n",
       "    <tr>\n",
       "      <th>a</th>\n",
       "      <td>0.972423</td>\n",
       "      <td>0.235304</td>\n",
       "      <td>0.736969</td>\n",
       "      <td>0.324379</td>\n",
       "    </tr>\n",
       "    <tr>\n",
       "      <th>b</th>\n",
       "      <td>0.464763</td>\n",
       "      <td>0.643851</td>\n",
       "      <td>0.877720</td>\n",
       "      <td>0.011600</td>\n",
       "    </tr>\n",
       "    <tr>\n",
       "      <th>c</th>\n",
       "      <td>0.328165</td>\n",
       "      <td>0.081616</td>\n",
       "      <td>0.490848</td>\n",
       "      <td>0.206590</td>\n",
       "    </tr>\n",
       "    <tr>\n",
       "      <th>d</th>\n",
       "      <td>0.086345</td>\n",
       "      <td>0.982649</td>\n",
       "      <td>0.986055</td>\n",
       "      <td>0.139848</td>\n",
       "    </tr>\n",
       "  </tbody>\n",
       "</table>\n",
       "</div>"
      ],
      "text/plain": [
       "         11        12        13        14\n",
       "a  0.972423  0.235304  0.736969  0.324379\n",
       "b  0.464763  0.643851  0.877720  0.011600\n",
       "c  0.328165  0.081616  0.490848  0.206590\n",
       "d  0.086345  0.982649  0.986055  0.139848"
      ]
     },
     "execution_count": 23,
     "metadata": {},
     "output_type": "execute_result"
    }
   ],
   "source": [
    "b"
   ]
  },
  {
   "cell_type": "code",
   "execution_count": 26,
   "id": "06381e53-87e7-46f1-a52d-8b0558436f05",
   "metadata": {},
   "outputs": [],
   "source": [
    "d = {\n",
    "    'age':pd.Series(np.random.randint(0, 85, 20)),\n",
    "    'id' :pd.Series(np.random.rand(20))\n",
    "}"
   ]
  },
  {
   "cell_type": "code",
   "execution_count": 27,
   "id": "57c4948c-7d44-47a8-823e-60ec8f120dc3",
   "metadata": {},
   "outputs": [
    {
     "data": {
      "text/plain": [
       "{'age': 0     36\n",
       " 1     64\n",
       " 2     31\n",
       " 3     79\n",
       " 4     73\n",
       " 5     56\n",
       " 6     78\n",
       " 7      8\n",
       " 8     56\n",
       " 9     81\n",
       " 10    32\n",
       " 11    75\n",
       " 12    31\n",
       " 13    73\n",
       " 14    20\n",
       " 15    47\n",
       " 16    50\n",
       " 17    53\n",
       " 18    62\n",
       " 19    74\n",
       " dtype: int64,\n",
       " 'id': 0     0.546437\n",
       " 1     0.069717\n",
       " 2     0.704366\n",
       " 3     0.495795\n",
       " 4     0.402426\n",
       " 5     0.941047\n",
       " 6     0.872216\n",
       " 7     0.536620\n",
       " 8     0.253029\n",
       " 9     0.298577\n",
       " 10    0.431191\n",
       " 11    0.908531\n",
       " 12    0.619660\n",
       " 13    0.481040\n",
       " 14    0.029053\n",
       " 15    0.068355\n",
       " 16    0.324246\n",
       " 17    0.369011\n",
       " 18    0.172744\n",
       " 19    0.687350\n",
       " dtype: float64}"
      ]
     },
     "execution_count": 27,
     "metadata": {},
     "output_type": "execute_result"
    }
   ],
   "source": [
    "d"
   ]
  },
  {
   "cell_type": "code",
   "execution_count": 28,
   "id": "a1bcddfe-1322-4440-bdb9-536154b52f08",
   "metadata": {},
   "outputs": [
    {
     "data": {
      "text/html": [
       "<div>\n",
       "<style scoped>\n",
       "    .dataframe tbody tr th:only-of-type {\n",
       "        vertical-align: middle;\n",
       "    }\n",
       "\n",
       "    .dataframe tbody tr th {\n",
       "        vertical-align: top;\n",
       "    }\n",
       "\n",
       "    .dataframe thead th {\n",
       "        text-align: right;\n",
       "    }\n",
       "</style>\n",
       "<table border=\"1\" class=\"dataframe\">\n",
       "  <thead>\n",
       "    <tr style=\"text-align: right;\">\n",
       "      <th></th>\n",
       "      <th>age</th>\n",
       "      <th>id</th>\n",
       "    </tr>\n",
       "  </thead>\n",
       "  <tbody>\n",
       "    <tr>\n",
       "      <th>0</th>\n",
       "      <td>36</td>\n",
       "      <td>0.546437</td>\n",
       "    </tr>\n",
       "    <tr>\n",
       "      <th>1</th>\n",
       "      <td>64</td>\n",
       "      <td>0.069717</td>\n",
       "    </tr>\n",
       "    <tr>\n",
       "      <th>2</th>\n",
       "      <td>31</td>\n",
       "      <td>0.704366</td>\n",
       "    </tr>\n",
       "    <tr>\n",
       "      <th>3</th>\n",
       "      <td>79</td>\n",
       "      <td>0.495795</td>\n",
       "    </tr>\n",
       "    <tr>\n",
       "      <th>4</th>\n",
       "      <td>73</td>\n",
       "      <td>0.402426</td>\n",
       "    </tr>\n",
       "    <tr>\n",
       "      <th>5</th>\n",
       "      <td>56</td>\n",
       "      <td>0.941047</td>\n",
       "    </tr>\n",
       "    <tr>\n",
       "      <th>6</th>\n",
       "      <td>78</td>\n",
       "      <td>0.872216</td>\n",
       "    </tr>\n",
       "    <tr>\n",
       "      <th>7</th>\n",
       "      <td>8</td>\n",
       "      <td>0.536620</td>\n",
       "    </tr>\n",
       "    <tr>\n",
       "      <th>8</th>\n",
       "      <td>56</td>\n",
       "      <td>0.253029</td>\n",
       "    </tr>\n",
       "    <tr>\n",
       "      <th>9</th>\n",
       "      <td>81</td>\n",
       "      <td>0.298577</td>\n",
       "    </tr>\n",
       "    <tr>\n",
       "      <th>10</th>\n",
       "      <td>32</td>\n",
       "      <td>0.431191</td>\n",
       "    </tr>\n",
       "    <tr>\n",
       "      <th>11</th>\n",
       "      <td>75</td>\n",
       "      <td>0.908531</td>\n",
       "    </tr>\n",
       "    <tr>\n",
       "      <th>12</th>\n",
       "      <td>31</td>\n",
       "      <td>0.619660</td>\n",
       "    </tr>\n",
       "    <tr>\n",
       "      <th>13</th>\n",
       "      <td>73</td>\n",
       "      <td>0.481040</td>\n",
       "    </tr>\n",
       "    <tr>\n",
       "      <th>14</th>\n",
       "      <td>20</td>\n",
       "      <td>0.029053</td>\n",
       "    </tr>\n",
       "    <tr>\n",
       "      <th>15</th>\n",
       "      <td>47</td>\n",
       "      <td>0.068355</td>\n",
       "    </tr>\n",
       "    <tr>\n",
       "      <th>16</th>\n",
       "      <td>50</td>\n",
       "      <td>0.324246</td>\n",
       "    </tr>\n",
       "    <tr>\n",
       "      <th>17</th>\n",
       "      <td>53</td>\n",
       "      <td>0.369011</td>\n",
       "    </tr>\n",
       "    <tr>\n",
       "      <th>18</th>\n",
       "      <td>62</td>\n",
       "      <td>0.172744</td>\n",
       "    </tr>\n",
       "    <tr>\n",
       "      <th>19</th>\n",
       "      <td>74</td>\n",
       "      <td>0.687350</td>\n",
       "    </tr>\n",
       "  </tbody>\n",
       "</table>\n",
       "</div>"
      ],
      "text/plain": [
       "    age        id\n",
       "0    36  0.546437\n",
       "1    64  0.069717\n",
       "2    31  0.704366\n",
       "3    79  0.495795\n",
       "4    73  0.402426\n",
       "5    56  0.941047\n",
       "6    78  0.872216\n",
       "7     8  0.536620\n",
       "8    56  0.253029\n",
       "9    81  0.298577\n",
       "10   32  0.431191\n",
       "11   75  0.908531\n",
       "12   31  0.619660\n",
       "13   73  0.481040\n",
       "14   20  0.029053\n",
       "15   47  0.068355\n",
       "16   50  0.324246\n",
       "17   53  0.369011\n",
       "18   62  0.172744\n",
       "19   74  0.687350"
      ]
     },
     "execution_count": 28,
     "metadata": {},
     "output_type": "execute_result"
    }
   ],
   "source": [
    "pd.DataFrame(d)"
   ]
  },
  {
   "cell_type": "code",
   "execution_count": 29,
   "id": "b3813cd2-eb5e-41eb-82dd-e372cfec7efc",
   "metadata": {},
   "outputs": [
    {
     "name": "stdout",
     "output_type": "stream",
     "text": [
      "Requirement already satisfied: faker in /Users/mehdihatamigoloujeh/opt/anaconda3/lib/python3.9/site-packages (14.2.0)\n",
      "Requirement already satisfied: python-dateutil>=2.4 in /Users/mehdihatamigoloujeh/opt/anaconda3/lib/python3.9/site-packages (from faker) (2.8.2)\n",
      "Requirement already satisfied: six>=1.5 in /Users/mehdihatamigoloujeh/opt/anaconda3/lib/python3.9/site-packages (from python-dateutil>=2.4->faker) (1.16.0)\n",
      "Note: you may need to restart the kernel to use updated packages.\n"
     ]
    }
   ],
   "source": [
    "pip install faker"
   ]
  },
  {
   "cell_type": "code",
   "execution_count": 33,
   "id": "2270e381-233d-4d08-8e06-101bbc23c078",
   "metadata": {},
   "outputs": [],
   "source": [
    "from faker import Faker"
   ]
  },
  {
   "cell_type": "code",
   "execution_count": null,
   "id": "105ddd33-a285-4a0e-9979-829668fe27fe",
   "metadata": {},
   "outputs": [],
   "source": []
  },
  {
   "cell_type": "code",
   "execution_count": 34,
   "id": "0b9fb637-5d1f-4900-921f-9b89b3864e58",
   "metadata": {},
   "outputs": [],
   "source": [
    "fake = Faker('fa')"
   ]
  },
  {
   "cell_type": "code",
   "execution_count": 35,
   "id": "0de70855-1fe2-4b7b-97d4-c5f7eca5e846",
   "metadata": {},
   "outputs": [
    {
     "data": {
      "text/plain": [
       "'سرکار خانم دکتر بهار الوندی'"
      ]
     },
     "execution_count": 35,
     "metadata": {},
     "output_type": "execute_result"
    }
   ],
   "source": [
    "fake.name()"
   ]
  },
  {
   "cell_type": "code",
   "execution_count": 58,
   "id": "2fc2fdbd-aa5b-4737-910b-025df98f38c8",
   "metadata": {},
   "outputs": [
    {
     "data": {
      "text/plain": [
       "'سرکار خانم نازنين رستمی'"
      ]
     },
     "execution_count": 58,
     "metadata": {},
     "output_type": "execute_result"
    }
   ],
   "source": [
    "fake.name()"
   ]
  },
  {
   "cell_type": "code",
   "execution_count": 73,
   "id": "831fd65b-bc52-40e2-a426-06c26e04f2f4",
   "metadata": {},
   "outputs": [],
   "source": [
    "a = {\n",
    "    'names':pd.Series([fake.name() for i in range(10)]),\n",
    "    'IDnumber':pd.Series(np.random.randint(100,200, 10))\n",
    "}"
   ]
  },
  {
   "cell_type": "code",
   "execution_count": 74,
   "id": "b0bb019e-8e90-4000-933a-c69ea617b969",
   "metadata": {},
   "outputs": [
    {
     "data": {
      "text/html": [
       "<div>\n",
       "<style scoped>\n",
       "    .dataframe tbody tr th:only-of-type {\n",
       "        vertical-align: middle;\n",
       "    }\n",
       "\n",
       "    .dataframe tbody tr th {\n",
       "        vertical-align: top;\n",
       "    }\n",
       "\n",
       "    .dataframe thead th {\n",
       "        text-align: right;\n",
       "    }\n",
       "</style>\n",
       "<table border=\"1\" class=\"dataframe\">\n",
       "  <thead>\n",
       "    <tr style=\"text-align: right;\">\n",
       "      <th></th>\n",
       "      <th>names</th>\n",
       "      <th>IDnumber</th>\n",
       "    </tr>\n",
       "  </thead>\n",
       "  <tbody>\n",
       "    <tr>\n",
       "      <th>0</th>\n",
       "      <td>پرنيا حریریان</td>\n",
       "      <td>115</td>\n",
       "    </tr>\n",
       "    <tr>\n",
       "      <th>1</th>\n",
       "      <td>جناب آقای دکتر محمد تنزیلی</td>\n",
       "      <td>161</td>\n",
       "    </tr>\n",
       "    <tr>\n",
       "      <th>2</th>\n",
       "      <td>دانيال نامور</td>\n",
       "      <td>161</td>\n",
       "    </tr>\n",
       "    <tr>\n",
       "      <th>3</th>\n",
       "      <td>امیررضا کابلی</td>\n",
       "      <td>140</td>\n",
       "    </tr>\n",
       "    <tr>\n",
       "      <th>4</th>\n",
       "      <td>سرکار خانم مبينا کمالی</td>\n",
       "      <td>164</td>\n",
       "    </tr>\n",
       "    <tr>\n",
       "      <th>5</th>\n",
       "      <td>اميرعباس روحانی</td>\n",
       "      <td>195</td>\n",
       "    </tr>\n",
       "    <tr>\n",
       "      <th>6</th>\n",
       "      <td>ایلیا تحسینی</td>\n",
       "      <td>103</td>\n",
       "    </tr>\n",
       "    <tr>\n",
       "      <th>7</th>\n",
       "      <td>امیرمحمد چنگیزی</td>\n",
       "      <td>156</td>\n",
       "    </tr>\n",
       "    <tr>\n",
       "      <th>8</th>\n",
       "      <td>آرمین دادفر</td>\n",
       "      <td>182</td>\n",
       "    </tr>\n",
       "    <tr>\n",
       "      <th>9</th>\n",
       "      <td>محمدرضا علیجانی</td>\n",
       "      <td>145</td>\n",
       "    </tr>\n",
       "  </tbody>\n",
       "</table>\n",
       "</div>"
      ],
      "text/plain": [
       "                        names  IDnumber\n",
       "0               پرنيا حریریان       115\n",
       "1  جناب آقای دکتر محمد تنزیلی       161\n",
       "2                دانيال نامور       161\n",
       "3               امیررضا کابلی       140\n",
       "4      سرکار خانم مبينا کمالی       164\n",
       "5             اميرعباس روحانی       195\n",
       "6                ایلیا تحسینی       103\n",
       "7             امیرمحمد چنگیزی       156\n",
       "8                 آرمین دادفر       182\n",
       "9             محمدرضا علیجانی       145"
      ]
     },
     "execution_count": 74,
     "metadata": {},
     "output_type": "execute_result"
    }
   ],
   "source": [
    "pd.DataFrame(a)"
   ]
  },
  {
   "cell_type": "code",
   "execution_count": 62,
   "id": "3106f84b-d7ae-47b3-879b-846e5220fffa",
   "metadata": {},
   "outputs": [],
   "source": [
    "a = 2"
   ]
  },
  {
   "cell_type": "code",
   "execution_count": 67,
   "id": "e0183ab9-b2b3-4c01-97fe-45833abb2c4e",
   "metadata": {},
   "outputs": [
    {
     "data": {
      "text/plain": [
       "['محمدپارسا جعفر پور',\n",
       " 'رضا رسولی',\n",
       " 'سرکار خانم دکتر نازنين قاضی',\n",
       " 'مبینا حسنی',\n",
       " 'محمدمهدي یزدی',\n",
       " 'سرکار خانم دکتر مهدیس جنتی',\n",
       " 'ماهان مجتهدی',\n",
       " 'یلدا کمالی',\n",
       " 'سرکار خانم دکتر فاطمياسارينا وثاق',\n",
       " 'محمدياسين چنگیزی']"
      ]
     },
     "execution_count": 67,
     "metadata": {},
     "output_type": "execute_result"
    }
   ],
   "source": [
    "[fake.name() for i in range(10)]"
   ]
  },
  {
   "cell_type": "code",
   "execution_count": 60,
   "id": "cab80906-3b8f-4df4-b9c6-1639961b9e49",
   "metadata": {},
   "outputs": [],
   "source": [
    "import numpy as np"
   ]
  },
  {
   "cell_type": "code",
   "execution_count": 61,
   "id": "136df8bf-e2b6-44f0-b7b7-269719a512d7",
   "metadata": {},
   "outputs": [],
   "source": [
    "import pandas as pd"
   ]
  },
  {
   "cell_type": "code",
   "execution_count": 62,
   "id": "b34a8474-d1d9-4f51-ae6b-afd27bcf65cb",
   "metadata": {},
   "outputs": [],
   "source": [
    "from faker import Faker"
   ]
  },
  {
   "cell_type": "code",
   "execution_count": 63,
   "id": "122ef5c6-f732-4a34-8033-d6e2aa5e46ce",
   "metadata": {},
   "outputs": [],
   "source": [
    "fake = Faker()"
   ]
  },
  {
   "cell_type": "code",
   "execution_count": 66,
   "id": "32e002f9-bc59-4e6f-909b-1172bfeb39ea",
   "metadata": {},
   "outputs": [
    {
     "data": {
      "text/plain": [
       "'Scott Boyd'"
      ]
     },
     "execution_count": 66,
     "metadata": {},
     "output_type": "execute_result"
    }
   ],
   "source": [
    "fake.name()"
   ]
  },
  {
   "cell_type": "code",
   "execution_count": 67,
   "id": "419ac729-2f03-4a20-b418-ab8b7ccbc7d0",
   "metadata": {},
   "outputs": [
    {
     "data": {
      "text/plain": [
       "<faker.proxy.Faker at 0x7ff42a338bb0>"
      ]
     },
     "execution_count": 67,
     "metadata": {},
     "output_type": "execute_result"
    }
   ],
   "source": [
    "fake"
   ]
  },
  {
   "cell_type": "code",
   "execution_count": 68,
   "id": "ca5cf6e9-87e1-4386-9893-871bc7f92e39",
   "metadata": {},
   "outputs": [],
   "source": [
    "S1 = [fake.name() for i in range(20)]"
   ]
  },
  {
   "cell_type": "code",
   "execution_count": 69,
   "id": "70fe5673-e3db-4716-9866-54ae4aaa4e7d",
   "metadata": {},
   "outputs": [
    {
     "data": {
      "text/plain": [
       "['Nicholas Davis',\n",
       " 'Alyssa Marshall',\n",
       " 'Christian Potts',\n",
       " 'Angela Mcclure',\n",
       " 'Debra Russell',\n",
       " 'Laurie Smith',\n",
       " 'Daniel Thompson',\n",
       " 'Michael Morris',\n",
       " 'Walter Ray',\n",
       " 'Ronnie Martin',\n",
       " 'Edward Davis',\n",
       " 'Stephen Allen',\n",
       " 'Karen Dean',\n",
       " 'Megan Diaz',\n",
       " 'Laura Sanchez',\n",
       " 'Dalton Brown',\n",
       " 'Mr. Richard Munoz PhD',\n",
       " 'Gregg Roberts',\n",
       " 'Alexandra Serrano',\n",
       " 'Jennifer White']"
      ]
     },
     "execution_count": 69,
     "metadata": {},
     "output_type": "execute_result"
    }
   ],
   "source": [
    "S1"
   ]
  },
  {
   "cell_type": "code",
   "execution_count": 72,
   "id": "9b68ab58-0d21-41b2-a7d3-16e249cb9629",
   "metadata": {},
   "outputs": [],
   "source": [
    "SS1 = pd.Series(S1, name=\"names\")"
   ]
  },
  {
   "cell_type": "code",
   "execution_count": 73,
   "id": "dc07a6e3-2a2a-49fc-b0b4-d14950f15449",
   "metadata": {},
   "outputs": [
    {
     "data": {
      "text/plain": [
       "0            Nicholas Davis\n",
       "1           Alyssa Marshall\n",
       "2           Christian Potts\n",
       "3            Angela Mcclure\n",
       "4             Debra Russell\n",
       "5              Laurie Smith\n",
       "6           Daniel Thompson\n",
       "7            Michael Morris\n",
       "8                Walter Ray\n",
       "9             Ronnie Martin\n",
       "10             Edward Davis\n",
       "11            Stephen Allen\n",
       "12               Karen Dean\n",
       "13               Megan Diaz\n",
       "14            Laura Sanchez\n",
       "15             Dalton Brown\n",
       "16    Mr. Richard Munoz PhD\n",
       "17            Gregg Roberts\n",
       "18        Alexandra Serrano\n",
       "19           Jennifer White\n",
       "Name: names, dtype: object"
      ]
     },
     "execution_count": 73,
     "metadata": {},
     "output_type": "execute_result"
    }
   ],
   "source": [
    "SS1"
   ]
  },
  {
   "cell_type": "code",
   "execution_count": 75,
   "id": "548c519c-65a4-42c0-ae07-682fa0fb02dd",
   "metadata": {},
   "outputs": [],
   "source": [
    "d = {\n",
    "    'name': SS1,\n",
    "    'age' : np.random.randint(90, size=20)\n",
    "}"
   ]
  },
  {
   "cell_type": "code",
   "execution_count": 76,
   "id": "ed3c6579-836a-4204-b67c-4878806a861f",
   "metadata": {},
   "outputs": [],
   "source": [
    "df = pd.DataFrame(d)"
   ]
  },
  {
   "cell_type": "code",
   "execution_count": 86,
   "id": "9ee58a68-3046-457e-a1a9-8b8719df7178",
   "metadata": {},
   "outputs": [
    {
     "data": {
      "text/html": [
       "<div>\n",
       "<style scoped>\n",
       "    .dataframe tbody tr th:only-of-type {\n",
       "        vertical-align: middle;\n",
       "    }\n",
       "\n",
       "    .dataframe tbody tr th {\n",
       "        vertical-align: top;\n",
       "    }\n",
       "\n",
       "    .dataframe thead th {\n",
       "        text-align: right;\n",
       "    }\n",
       "</style>\n",
       "<table border=\"1\" class=\"dataframe\">\n",
       "  <thead>\n",
       "    <tr style=\"text-align: right;\">\n",
       "      <th></th>\n",
       "      <th>name</th>\n",
       "      <th>age</th>\n",
       "    </tr>\n",
       "  </thead>\n",
       "  <tbody>\n",
       "    <tr>\n",
       "      <th>0</th>\n",
       "      <td>Nicholas Davis</td>\n",
       "      <td>65</td>\n",
       "    </tr>\n",
       "    <tr>\n",
       "      <th>1</th>\n",
       "      <td>Alyssa Marshall</td>\n",
       "      <td>23</td>\n",
       "    </tr>\n",
       "    <tr>\n",
       "      <th>2</th>\n",
       "      <td>Christian Potts</td>\n",
       "      <td>24</td>\n",
       "    </tr>\n",
       "    <tr>\n",
       "      <th>3</th>\n",
       "      <td>Angela Mcclure</td>\n",
       "      <td>85</td>\n",
       "    </tr>\n",
       "    <tr>\n",
       "      <th>4</th>\n",
       "      <td>Debra Russell</td>\n",
       "      <td>58</td>\n",
       "    </tr>\n",
       "    <tr>\n",
       "      <th>5</th>\n",
       "      <td>Laurie Smith</td>\n",
       "      <td>66</td>\n",
       "    </tr>\n",
       "    <tr>\n",
       "      <th>6</th>\n",
       "      <td>Daniel Thompson</td>\n",
       "      <td>40</td>\n",
       "    </tr>\n",
       "    <tr>\n",
       "      <th>7</th>\n",
       "      <td>Michael Morris</td>\n",
       "      <td>37</td>\n",
       "    </tr>\n",
       "    <tr>\n",
       "      <th>8</th>\n",
       "      <td>Walter Ray</td>\n",
       "      <td>78</td>\n",
       "    </tr>\n",
       "    <tr>\n",
       "      <th>9</th>\n",
       "      <td>Ronnie Martin</td>\n",
       "      <td>63</td>\n",
       "    </tr>\n",
       "    <tr>\n",
       "      <th>10</th>\n",
       "      <td>Edward Davis</td>\n",
       "      <td>72</td>\n",
       "    </tr>\n",
       "    <tr>\n",
       "      <th>11</th>\n",
       "      <td>Stephen Allen</td>\n",
       "      <td>58</td>\n",
       "    </tr>\n",
       "    <tr>\n",
       "      <th>12</th>\n",
       "      <td>Karen Dean</td>\n",
       "      <td>21</td>\n",
       "    </tr>\n",
       "    <tr>\n",
       "      <th>13</th>\n",
       "      <td>Megan Diaz</td>\n",
       "      <td>46</td>\n",
       "    </tr>\n",
       "    <tr>\n",
       "      <th>14</th>\n",
       "      <td>Laura Sanchez</td>\n",
       "      <td>53</td>\n",
       "    </tr>\n",
       "    <tr>\n",
       "      <th>15</th>\n",
       "      <td>Dalton Brown</td>\n",
       "      <td>56</td>\n",
       "    </tr>\n",
       "    <tr>\n",
       "      <th>16</th>\n",
       "      <td>Mr. Richard Munoz PhD</td>\n",
       "      <td>71</td>\n",
       "    </tr>\n",
       "    <tr>\n",
       "      <th>17</th>\n",
       "      <td>Gregg Roberts</td>\n",
       "      <td>24</td>\n",
       "    </tr>\n",
       "    <tr>\n",
       "      <th>18</th>\n",
       "      <td>Alexandra Serrano</td>\n",
       "      <td>69</td>\n",
       "    </tr>\n",
       "    <tr>\n",
       "      <th>19</th>\n",
       "      <td>Jennifer White</td>\n",
       "      <td>31</td>\n",
       "    </tr>\n",
       "  </tbody>\n",
       "</table>\n",
       "</div>"
      ],
      "text/plain": [
       "                     name  age\n",
       "0          Nicholas Davis   65\n",
       "1         Alyssa Marshall   23\n",
       "2         Christian Potts   24\n",
       "3          Angela Mcclure   85\n",
       "4           Debra Russell   58\n",
       "5            Laurie Smith   66\n",
       "6         Daniel Thompson   40\n",
       "7          Michael Morris   37\n",
       "8              Walter Ray   78\n",
       "9           Ronnie Martin   63\n",
       "10           Edward Davis   72\n",
       "11          Stephen Allen   58\n",
       "12             Karen Dean   21\n",
       "13             Megan Diaz   46\n",
       "14          Laura Sanchez   53\n",
       "15           Dalton Brown   56\n",
       "16  Mr. Richard Munoz PhD   71\n",
       "17          Gregg Roberts   24\n",
       "18      Alexandra Serrano   69\n",
       "19         Jennifer White   31"
      ]
     },
     "execution_count": 86,
     "metadata": {},
     "output_type": "execute_result"
    }
   ],
   "source": [
    "df"
   ]
  },
  {
   "cell_type": "code",
   "execution_count": 92,
   "id": "ef00f30b-b7f8-413a-91aa-fd21f4f23114",
   "metadata": {},
   "outputs": [
    {
     "data": {
      "text/html": [
       "<div>\n",
       "<style scoped>\n",
       "    .dataframe tbody tr th:only-of-type {\n",
       "        vertical-align: middle;\n",
       "    }\n",
       "\n",
       "    .dataframe tbody tr th {\n",
       "        vertical-align: top;\n",
       "    }\n",
       "\n",
       "    .dataframe thead th {\n",
       "        text-align: right;\n",
       "    }\n",
       "</style>\n",
       "<table border=\"1\" class=\"dataframe\">\n",
       "  <thead>\n",
       "    <tr style=\"text-align: right;\">\n",
       "      <th></th>\n",
       "      <th>name</th>\n",
       "      <th>age</th>\n",
       "    </tr>\n",
       "  </thead>\n",
       "  <tbody>\n",
       "    <tr>\n",
       "      <th>0</th>\n",
       "      <td>Nicholas Davis</td>\n",
       "      <td>65</td>\n",
       "    </tr>\n",
       "    <tr>\n",
       "      <th>1</th>\n",
       "      <td>Alyssa Marshall</td>\n",
       "      <td>23</td>\n",
       "    </tr>\n",
       "    <tr>\n",
       "      <th>2</th>\n",
       "      <td>Christian Potts</td>\n",
       "      <td>24</td>\n",
       "    </tr>\n",
       "    <tr>\n",
       "      <th>3</th>\n",
       "      <td>Angela Mcclure</td>\n",
       "      <td>85</td>\n",
       "    </tr>\n",
       "    <tr>\n",
       "      <th>4</th>\n",
       "      <td>Debra Russell</td>\n",
       "      <td>58</td>\n",
       "    </tr>\n",
       "  </tbody>\n",
       "</table>\n",
       "</div>"
      ],
      "text/plain": [
       "              name  age\n",
       "0   Nicholas Davis   65\n",
       "1  Alyssa Marshall   23\n",
       "2  Christian Potts   24\n",
       "3   Angela Mcclure   85\n",
       "4    Debra Russell   58"
      ]
     },
     "execution_count": 92,
     "metadata": {},
     "output_type": "execute_result"
    }
   ],
   "source": [
    "pd.DataFrame(df,index = [i for i in range(5)\n",
    "                        ], columns=[\"name\", \"age\"])"
   ]
  },
  {
   "cell_type": "code",
   "execution_count": 93,
   "id": "e0ead3dc-18b3-4ac6-ac98-249a722dc228",
   "metadata": {},
   "outputs": [
    {
     "data": {
      "text/plain": [
       "Index(['name', 'age'], dtype='object')"
      ]
     },
     "execution_count": 93,
     "metadata": {},
     "output_type": "execute_result"
    }
   ],
   "source": [
    "df.columns"
   ]
  },
  {
   "cell_type": "code",
   "execution_count": 94,
   "id": "dd97c7c8-f74e-4fe5-8f51-e22770590c40",
   "metadata": {},
   "outputs": [],
   "source": [
    "a = np.array(range(10))"
   ]
  },
  {
   "cell_type": "code",
   "execution_count": 95,
   "id": "b89b8cc3-a20e-40bf-8fd6-4508e917f26c",
   "metadata": {},
   "outputs": [
    {
     "data": {
      "text/plain": [
       "array([0, 1, 2, 3, 4, 5, 6, 7, 8, 9])"
      ]
     },
     "execution_count": 95,
     "metadata": {},
     "output_type": "execute_result"
    }
   ],
   "source": [
    "a"
   ]
  },
  {
   "cell_type": "code",
   "execution_count": 96,
   "id": "9ab43ad3-30b5-48c1-8671-95bccff38d9f",
   "metadata": {},
   "outputs": [],
   "source": [
    "s = pd.Series(a)"
   ]
  },
  {
   "cell_type": "code",
   "execution_count": 97,
   "id": "39ce67d9-097f-446b-89bc-f399fa495deb",
   "metadata": {},
   "outputs": [
    {
     "data": {
      "text/plain": [
       "0    0\n",
       "1    1\n",
       "2    2\n",
       "3    3\n",
       "4    4\n",
       "5    5\n",
       "6    6\n",
       "7    7\n",
       "8    8\n",
       "9    9\n",
       "dtype: int64"
      ]
     },
     "execution_count": 97,
     "metadata": {},
     "output_type": "execute_result"
    }
   ],
   "source": [
    "s"
   ]
  },
  {
   "cell_type": "code",
   "execution_count": 98,
   "id": "86f96ea5-77d1-4caa-87c3-b31a5e15134f",
   "metadata": {},
   "outputs": [],
   "source": [
    "s[3] = 999"
   ]
  },
  {
   "cell_type": "code",
   "execution_count": 99,
   "id": "3cfb08c3-fade-4581-85f8-bef5dc5c706f",
   "metadata": {},
   "outputs": [
    {
     "data": {
      "text/plain": [
       "array([  0,   1,   2, 999,   4,   5,   6,   7,   8,   9])"
      ]
     },
     "execution_count": 99,
     "metadata": {},
     "output_type": "execute_result"
    }
   ],
   "source": [
    "a"
   ]
  },
  {
   "cell_type": "code",
   "execution_count": 100,
   "id": "2bb7d3ba-9c37-4cc3-84b3-6d2976fdef6c",
   "metadata": {},
   "outputs": [],
   "source": [
    "s = pd.Series(a, copy=True)"
   ]
  },
  {
   "cell_type": "code",
   "execution_count": 101,
   "id": "f1fcba9f-e509-4642-ab98-da522cec42a7",
   "metadata": {},
   "outputs": [
    {
     "data": {
      "text/plain": [
       "0      0\n",
       "1      1\n",
       "2      2\n",
       "3    999\n",
       "4      4\n",
       "5      5\n",
       "6      6\n",
       "7      7\n",
       "8      8\n",
       "9      9\n",
       "dtype: int64"
      ]
     },
     "execution_count": 101,
     "metadata": {},
     "output_type": "execute_result"
    }
   ],
   "source": [
    "s"
   ]
  },
  {
   "cell_type": "code",
   "execution_count": 102,
   "id": "5ea11603-95f9-4060-aec8-8313ada82520",
   "metadata": {},
   "outputs": [],
   "source": [
    "s[2] = 888"
   ]
  },
  {
   "cell_type": "code",
   "execution_count": 103,
   "id": "b0ac090d-bddc-4050-88ba-642d7151f732",
   "metadata": {},
   "outputs": [
    {
     "data": {
      "text/plain": [
       "0      0\n",
       "1      1\n",
       "2    888\n",
       "3    999\n",
       "4      4\n",
       "5      5\n",
       "6      6\n",
       "7      7\n",
       "8      8\n",
       "9      9\n",
       "dtype: int64"
      ]
     },
     "execution_count": 103,
     "metadata": {},
     "output_type": "execute_result"
    }
   ],
   "source": [
    "s"
   ]
  },
  {
   "cell_type": "code",
   "execution_count": 104,
   "id": "2ffa23e1-329f-409d-914c-1cf8431c4956",
   "metadata": {},
   "outputs": [
    {
     "data": {
      "text/plain": [
       "array([  0,   1,   2, 999,   4,   5,   6,   7,   8,   9])"
      ]
     },
     "execution_count": 104,
     "metadata": {},
     "output_type": "execute_result"
    }
   ],
   "source": [
    "a"
   ]
  },
  {
   "cell_type": "code",
   "execution_count": 105,
   "id": "5a300594-7d00-422c-ae46-8f8930eb4449",
   "metadata": {},
   "outputs": [
    {
     "data": {
      "text/html": [
       "<div>\n",
       "<style scoped>\n",
       "    .dataframe tbody tr th:only-of-type {\n",
       "        vertical-align: middle;\n",
       "    }\n",
       "\n",
       "    .dataframe tbody tr th {\n",
       "        vertical-align: top;\n",
       "    }\n",
       "\n",
       "    .dataframe thead th {\n",
       "        text-align: right;\n",
       "    }\n",
       "</style>\n",
       "<table border=\"1\" class=\"dataframe\">\n",
       "  <thead>\n",
       "    <tr style=\"text-align: right;\">\n",
       "      <th></th>\n",
       "      <th>name</th>\n",
       "      <th>age</th>\n",
       "    </tr>\n",
       "  </thead>\n",
       "  <tbody>\n",
       "    <tr>\n",
       "      <th>0</th>\n",
       "      <td>Nicholas Davis</td>\n",
       "      <td>65</td>\n",
       "    </tr>\n",
       "    <tr>\n",
       "      <th>1</th>\n",
       "      <td>Alyssa Marshall</td>\n",
       "      <td>23</td>\n",
       "    </tr>\n",
       "    <tr>\n",
       "      <th>2</th>\n",
       "      <td>Christian Potts</td>\n",
       "      <td>24</td>\n",
       "    </tr>\n",
       "    <tr>\n",
       "      <th>3</th>\n",
       "      <td>Angela Mcclure</td>\n",
       "      <td>85</td>\n",
       "    </tr>\n",
       "    <tr>\n",
       "      <th>4</th>\n",
       "      <td>Debra Russell</td>\n",
       "      <td>58</td>\n",
       "    </tr>\n",
       "    <tr>\n",
       "      <th>5</th>\n",
       "      <td>Laurie Smith</td>\n",
       "      <td>66</td>\n",
       "    </tr>\n",
       "    <tr>\n",
       "      <th>6</th>\n",
       "      <td>Daniel Thompson</td>\n",
       "      <td>40</td>\n",
       "    </tr>\n",
       "    <tr>\n",
       "      <th>7</th>\n",
       "      <td>Michael Morris</td>\n",
       "      <td>37</td>\n",
       "    </tr>\n",
       "    <tr>\n",
       "      <th>8</th>\n",
       "      <td>Walter Ray</td>\n",
       "      <td>78</td>\n",
       "    </tr>\n",
       "    <tr>\n",
       "      <th>9</th>\n",
       "      <td>Ronnie Martin</td>\n",
       "      <td>63</td>\n",
       "    </tr>\n",
       "    <tr>\n",
       "      <th>10</th>\n",
       "      <td>Edward Davis</td>\n",
       "      <td>72</td>\n",
       "    </tr>\n",
       "    <tr>\n",
       "      <th>11</th>\n",
       "      <td>Stephen Allen</td>\n",
       "      <td>58</td>\n",
       "    </tr>\n",
       "    <tr>\n",
       "      <th>12</th>\n",
       "      <td>Karen Dean</td>\n",
       "      <td>21</td>\n",
       "    </tr>\n",
       "    <tr>\n",
       "      <th>13</th>\n",
       "      <td>Megan Diaz</td>\n",
       "      <td>46</td>\n",
       "    </tr>\n",
       "    <tr>\n",
       "      <th>14</th>\n",
       "      <td>Laura Sanchez</td>\n",
       "      <td>53</td>\n",
       "    </tr>\n",
       "    <tr>\n",
       "      <th>15</th>\n",
       "      <td>Dalton Brown</td>\n",
       "      <td>56</td>\n",
       "    </tr>\n",
       "    <tr>\n",
       "      <th>16</th>\n",
       "      <td>Mr. Richard Munoz PhD</td>\n",
       "      <td>71</td>\n",
       "    </tr>\n",
       "    <tr>\n",
       "      <th>17</th>\n",
       "      <td>Gregg Roberts</td>\n",
       "      <td>24</td>\n",
       "    </tr>\n",
       "    <tr>\n",
       "      <th>18</th>\n",
       "      <td>Alexandra Serrano</td>\n",
       "      <td>69</td>\n",
       "    </tr>\n",
       "    <tr>\n",
       "      <th>19</th>\n",
       "      <td>Jennifer White</td>\n",
       "      <td>31</td>\n",
       "    </tr>\n",
       "  </tbody>\n",
       "</table>\n",
       "</div>"
      ],
      "text/plain": [
       "                     name  age\n",
       "0          Nicholas Davis   65\n",
       "1         Alyssa Marshall   23\n",
       "2         Christian Potts   24\n",
       "3          Angela Mcclure   85\n",
       "4           Debra Russell   58\n",
       "5            Laurie Smith   66\n",
       "6         Daniel Thompson   40\n",
       "7          Michael Morris   37\n",
       "8              Walter Ray   78\n",
       "9           Ronnie Martin   63\n",
       "10           Edward Davis   72\n",
       "11          Stephen Allen   58\n",
       "12             Karen Dean   21\n",
       "13             Megan Diaz   46\n",
       "14          Laura Sanchez   53\n",
       "15           Dalton Brown   56\n",
       "16  Mr. Richard Munoz PhD   71\n",
       "17          Gregg Roberts   24\n",
       "18      Alexandra Serrano   69\n",
       "19         Jennifer White   31"
      ]
     },
     "execution_count": 105,
     "metadata": {},
     "output_type": "execute_result"
    }
   ],
   "source": [
    "df"
   ]
  },
  {
   "cell_type": "code",
   "execution_count": 106,
   "id": "87e04e91-b72a-42ae-a53e-8c2a0667888d",
   "metadata": {},
   "outputs": [],
   "source": [
    "df[\"id\"] = np.random.randint(1000, 1100, size= 20)"
   ]
  },
  {
   "cell_type": "code",
   "execution_count": 111,
   "id": "d096bf14-75e3-4809-a7df-418f3b2a43c1",
   "metadata": {},
   "outputs": [
    {
     "data": {
      "text/html": [
       "<div>\n",
       "<style scoped>\n",
       "    .dataframe tbody tr th:only-of-type {\n",
       "        vertical-align: middle;\n",
       "    }\n",
       "\n",
       "    .dataframe tbody tr th {\n",
       "        vertical-align: top;\n",
       "    }\n",
       "\n",
       "    .dataframe thead th {\n",
       "        text-align: right;\n",
       "    }\n",
       "</style>\n",
       "<table border=\"1\" class=\"dataframe\">\n",
       "  <thead>\n",
       "    <tr style=\"text-align: right;\">\n",
       "      <th></th>\n",
       "      <th>name</th>\n",
       "      <th>age</th>\n",
       "      <th>id</th>\n",
       "    </tr>\n",
       "  </thead>\n",
       "  <tbody>\n",
       "    <tr>\n",
       "      <th>0</th>\n",
       "      <td>Nicholas Davis</td>\n",
       "      <td>65</td>\n",
       "      <td>1033</td>\n",
       "    </tr>\n",
       "    <tr>\n",
       "      <th>1</th>\n",
       "      <td>Alyssa Marshall</td>\n",
       "      <td>23</td>\n",
       "      <td>1034</td>\n",
       "    </tr>\n",
       "    <tr>\n",
       "      <th>2</th>\n",
       "      <td>Christian Potts</td>\n",
       "      <td>24</td>\n",
       "      <td>1088</td>\n",
       "    </tr>\n",
       "    <tr>\n",
       "      <th>3</th>\n",
       "      <td>Angela Mcclure</td>\n",
       "      <td>85</td>\n",
       "      <td>1084</td>\n",
       "    </tr>\n",
       "    <tr>\n",
       "      <th>4</th>\n",
       "      <td>Debra Russell</td>\n",
       "      <td>58</td>\n",
       "      <td>1090</td>\n",
       "    </tr>\n",
       "  </tbody>\n",
       "</table>\n",
       "</div>"
      ],
      "text/plain": [
       "              name  age    id\n",
       "0   Nicholas Davis   65  1033\n",
       "1  Alyssa Marshall   23  1034\n",
       "2  Christian Potts   24  1088\n",
       "3   Angela Mcclure   85  1084\n",
       "4    Debra Russell   58  1090"
      ]
     },
     "execution_count": 111,
     "metadata": {},
     "output_type": "execute_result"
    }
   ],
   "source": [
    "df.head()"
   ]
  },
  {
   "cell_type": "code",
   "execution_count": 122,
   "id": "d84f22ba-9f4e-4f49-8a8d-66cd2ecbd5f3",
   "metadata": {},
   "outputs": [
    {
     "ename": "SyntaxError",
     "evalue": "expression cannot contain assignment, perhaps you meant \"==\"? (909537860.py, line 1)",
     "output_type": "error",
     "traceback": [
      "\u001b[0;36m  File \u001b[0;32m\"/var/folders/vw/_7ms67xn1jxb_9zqbfcn4q080000gn/T/ipykernel_52959/909537860.py\"\u001b[0;36m, line \u001b[0;32m1\u001b[0m\n\u001b[0;31m    a = pd.DataFrame(df,('fname', 'lname')=['name'].split())\u001b[0m\n\u001b[0m                        ^\u001b[0m\n\u001b[0;31mSyntaxError\u001b[0m\u001b[0;31m:\u001b[0m expression cannot contain assignment, perhaps you meant \"==\"?\n"
     ]
    }
   ],
   "source": [
    "a = pd.DataFrame(df,('fname', 'lname')=['name'].split())"
   ]
  },
  {
   "cell_type": "code",
   "execution_count": 127,
   "id": "6b14c50f-8375-40c3-a75b-11f14541a367",
   "metadata": {},
   "outputs": [
    {
     "data": {
      "text/html": [
       "<div>\n",
       "<style scoped>\n",
       "    .dataframe tbody tr th:only-of-type {\n",
       "        vertical-align: middle;\n",
       "    }\n",
       "\n",
       "    .dataframe tbody tr th {\n",
       "        vertical-align: top;\n",
       "    }\n",
       "\n",
       "    .dataframe thead th {\n",
       "        text-align: right;\n",
       "    }\n",
       "</style>\n",
       "<table border=\"1\" class=\"dataframe\">\n",
       "  <thead>\n",
       "    <tr style=\"text-align: right;\">\n",
       "      <th></th>\n",
       "      <th>name</th>\n",
       "      <th>age</th>\n",
       "      <th>id</th>\n",
       "    </tr>\n",
       "  </thead>\n",
       "  <tbody>\n",
       "    <tr>\n",
       "      <th>0</th>\n",
       "      <td>Nicholas Davis</td>\n",
       "      <td>65</td>\n",
       "      <td>1033</td>\n",
       "    </tr>\n",
       "    <tr>\n",
       "      <th>1</th>\n",
       "      <td>Alyssa Marshall</td>\n",
       "      <td>23</td>\n",
       "      <td>1034</td>\n",
       "    </tr>\n",
       "    <tr>\n",
       "      <th>2</th>\n",
       "      <td>Christian Potts</td>\n",
       "      <td>24</td>\n",
       "      <td>1088</td>\n",
       "    </tr>\n",
       "    <tr>\n",
       "      <th>3</th>\n",
       "      <td>Angela Mcclure</td>\n",
       "      <td>85</td>\n",
       "      <td>1084</td>\n",
       "    </tr>\n",
       "    <tr>\n",
       "      <th>4</th>\n",
       "      <td>Debra Russell</td>\n",
       "      <td>58</td>\n",
       "      <td>1090</td>\n",
       "    </tr>\n",
       "  </tbody>\n",
       "</table>\n",
       "</div>"
      ],
      "text/plain": [
       "              name  age    id\n",
       "0   Nicholas Davis   65  1033\n",
       "1  Alyssa Marshall   23  1034\n",
       "2  Christian Potts   24  1088\n",
       "3   Angela Mcclure   85  1084\n",
       "4    Debra Russell   58  1090"
      ]
     },
     "execution_count": 127,
     "metadata": {},
     "output_type": "execute_result"
    }
   ],
   "source": [
    "df.head()"
   ]
  },
  {
   "cell_type": "code",
   "execution_count": 129,
   "id": "a15d8ae2-b36d-4b39-b6a8-b6bb5d4d374f",
   "metadata": {},
   "outputs": [
    {
     "data": {
      "text/html": [
       "<div>\n",
       "<style scoped>\n",
       "    .dataframe tbody tr th:only-of-type {\n",
       "        vertical-align: middle;\n",
       "    }\n",
       "\n",
       "    .dataframe tbody tr th {\n",
       "        vertical-align: top;\n",
       "    }\n",
       "\n",
       "    .dataframe thead th {\n",
       "        text-align: right;\n",
       "    }\n",
       "</style>\n",
       "<table border=\"1\" class=\"dataframe\">\n",
       "  <thead>\n",
       "    <tr style=\"text-align: right;\">\n",
       "      <th></th>\n",
       "      <th>name</th>\n",
       "      <th>age</th>\n",
       "      <th>id</th>\n",
       "    </tr>\n",
       "  </thead>\n",
       "  <tbody>\n",
       "    <tr>\n",
       "      <th>0</th>\n",
       "      <td>Nicholas Davis</td>\n",
       "      <td>65</td>\n",
       "      <td>1033</td>\n",
       "    </tr>\n",
       "    <tr>\n",
       "      <th>1</th>\n",
       "      <td>Alyssa Marshall</td>\n",
       "      <td>23</td>\n",
       "      <td>1034</td>\n",
       "    </tr>\n",
       "    <tr>\n",
       "      <th>2</th>\n",
       "      <td>Christian Potts</td>\n",
       "      <td>24</td>\n",
       "      <td>1088</td>\n",
       "    </tr>\n",
       "    <tr>\n",
       "      <th>3</th>\n",
       "      <td>Angela Mcclure</td>\n",
       "      <td>85</td>\n",
       "      <td>1084</td>\n",
       "    </tr>\n",
       "    <tr>\n",
       "      <th>4</th>\n",
       "      <td>Debra Russell</td>\n",
       "      <td>58</td>\n",
       "      <td>1090</td>\n",
       "    </tr>\n",
       "    <tr>\n",
       "      <th>5</th>\n",
       "      <td>Laurie Smith</td>\n",
       "      <td>66</td>\n",
       "      <td>1014</td>\n",
       "    </tr>\n",
       "    <tr>\n",
       "      <th>6</th>\n",
       "      <td>Daniel Thompson</td>\n",
       "      <td>40</td>\n",
       "      <td>1049</td>\n",
       "    </tr>\n",
       "    <tr>\n",
       "      <th>7</th>\n",
       "      <td>Michael Morris</td>\n",
       "      <td>37</td>\n",
       "      <td>1049</td>\n",
       "    </tr>\n",
       "    <tr>\n",
       "      <th>8</th>\n",
       "      <td>Walter Ray</td>\n",
       "      <td>78</td>\n",
       "      <td>1087</td>\n",
       "    </tr>\n",
       "    <tr>\n",
       "      <th>9</th>\n",
       "      <td>Ronnie Martin</td>\n",
       "      <td>63</td>\n",
       "      <td>1066</td>\n",
       "    </tr>\n",
       "    <tr>\n",
       "      <th>10</th>\n",
       "      <td>Edward Davis</td>\n",
       "      <td>72</td>\n",
       "      <td>1098</td>\n",
       "    </tr>\n",
       "    <tr>\n",
       "      <th>11</th>\n",
       "      <td>Stephen Allen</td>\n",
       "      <td>58</td>\n",
       "      <td>1035</td>\n",
       "    </tr>\n",
       "    <tr>\n",
       "      <th>12</th>\n",
       "      <td>Karen Dean</td>\n",
       "      <td>21</td>\n",
       "      <td>1005</td>\n",
       "    </tr>\n",
       "    <tr>\n",
       "      <th>13</th>\n",
       "      <td>Megan Diaz</td>\n",
       "      <td>46</td>\n",
       "      <td>1064</td>\n",
       "    </tr>\n",
       "    <tr>\n",
       "      <th>14</th>\n",
       "      <td>Laura Sanchez</td>\n",
       "      <td>53</td>\n",
       "      <td>1028</td>\n",
       "    </tr>\n",
       "    <tr>\n",
       "      <th>15</th>\n",
       "      <td>Dalton Brown</td>\n",
       "      <td>56</td>\n",
       "      <td>1094</td>\n",
       "    </tr>\n",
       "    <tr>\n",
       "      <th>16</th>\n",
       "      <td>Mr. Richard Munoz PhD</td>\n",
       "      <td>71</td>\n",
       "      <td>1012</td>\n",
       "    </tr>\n",
       "    <tr>\n",
       "      <th>17</th>\n",
       "      <td>Gregg Roberts</td>\n",
       "      <td>24</td>\n",
       "      <td>1055</td>\n",
       "    </tr>\n",
       "    <tr>\n",
       "      <th>18</th>\n",
       "      <td>Alexandra Serrano</td>\n",
       "      <td>69</td>\n",
       "      <td>1020</td>\n",
       "    </tr>\n",
       "    <tr>\n",
       "      <th>19</th>\n",
       "      <td>Jennifer White</td>\n",
       "      <td>31</td>\n",
       "      <td>1028</td>\n",
       "    </tr>\n",
       "  </tbody>\n",
       "</table>\n",
       "</div>"
      ],
      "text/plain": [
       "                     name  age    id\n",
       "0          Nicholas Davis   65  1033\n",
       "1         Alyssa Marshall   23  1034\n",
       "2         Christian Potts   24  1088\n",
       "3          Angela Mcclure   85  1084\n",
       "4           Debra Russell   58  1090\n",
       "5            Laurie Smith   66  1014\n",
       "6         Daniel Thompson   40  1049\n",
       "7          Michael Morris   37  1049\n",
       "8              Walter Ray   78  1087\n",
       "9           Ronnie Martin   63  1066\n",
       "10           Edward Davis   72  1098\n",
       "11          Stephen Allen   58  1035\n",
       "12             Karen Dean   21  1005\n",
       "13             Megan Diaz   46  1064\n",
       "14          Laura Sanchez   53  1028\n",
       "15           Dalton Brown   56  1094\n",
       "16  Mr. Richard Munoz PhD   71  1012\n",
       "17          Gregg Roberts   24  1055\n",
       "18      Alexandra Serrano   69  1020\n",
       "19         Jennifer White   31  1028"
      ]
     },
     "execution_count": 129,
     "metadata": {},
     "output_type": "execute_result"
    }
   ],
   "source": [
    "df"
   ]
  },
  {
   "cell_type": "code",
   "execution_count": 130,
   "id": "fbad17d4-84e5-4adf-a908-1a820fd0be45",
   "metadata": {},
   "outputs": [],
   "source": [
    "df[\"old\"] = df[\"age\"] > 60"
   ]
  },
  {
   "cell_type": "code",
   "execution_count": 133,
   "id": "56a87ea7-fd86-4d8b-a2cc-4b2c22a5cb44",
   "metadata": {},
   "outputs": [
    {
     "data": {
      "text/html": [
       "<div>\n",
       "<style scoped>\n",
       "    .dataframe tbody tr th:only-of-type {\n",
       "        vertical-align: middle;\n",
       "    }\n",
       "\n",
       "    .dataframe tbody tr th {\n",
       "        vertical-align: top;\n",
       "    }\n",
       "\n",
       "    .dataframe thead th {\n",
       "        text-align: right;\n",
       "    }\n",
       "</style>\n",
       "<table border=\"1\" class=\"dataframe\">\n",
       "  <thead>\n",
       "    <tr style=\"text-align: right;\">\n",
       "      <th></th>\n",
       "      <th>name</th>\n",
       "      <th>age</th>\n",
       "      <th>id</th>\n",
       "      <th>old</th>\n",
       "    </tr>\n",
       "  </thead>\n",
       "  <tbody>\n",
       "    <tr>\n",
       "      <th>0</th>\n",
       "      <td>Nicholas Davis</td>\n",
       "      <td>65</td>\n",
       "      <td>1033</td>\n",
       "      <td>True</td>\n",
       "    </tr>\n",
       "    <tr>\n",
       "      <th>3</th>\n",
       "      <td>Angela Mcclure</td>\n",
       "      <td>85</td>\n",
       "      <td>1084</td>\n",
       "      <td>True</td>\n",
       "    </tr>\n",
       "    <tr>\n",
       "      <th>5</th>\n",
       "      <td>Laurie Smith</td>\n",
       "      <td>66</td>\n",
       "      <td>1014</td>\n",
       "      <td>True</td>\n",
       "    </tr>\n",
       "    <tr>\n",
       "      <th>8</th>\n",
       "      <td>Walter Ray</td>\n",
       "      <td>78</td>\n",
       "      <td>1087</td>\n",
       "      <td>True</td>\n",
       "    </tr>\n",
       "    <tr>\n",
       "      <th>9</th>\n",
       "      <td>Ronnie Martin</td>\n",
       "      <td>63</td>\n",
       "      <td>1066</td>\n",
       "      <td>True</td>\n",
       "    </tr>\n",
       "    <tr>\n",
       "      <th>10</th>\n",
       "      <td>Edward Davis</td>\n",
       "      <td>72</td>\n",
       "      <td>1098</td>\n",
       "      <td>True</td>\n",
       "    </tr>\n",
       "    <tr>\n",
       "      <th>16</th>\n",
       "      <td>Mr. Richard Munoz PhD</td>\n",
       "      <td>71</td>\n",
       "      <td>1012</td>\n",
       "      <td>True</td>\n",
       "    </tr>\n",
       "    <tr>\n",
       "      <th>18</th>\n",
       "      <td>Alexandra Serrano</td>\n",
       "      <td>69</td>\n",
       "      <td>1020</td>\n",
       "      <td>True</td>\n",
       "    </tr>\n",
       "  </tbody>\n",
       "</table>\n",
       "</div>"
      ],
      "text/plain": [
       "                     name  age    id   old\n",
       "0          Nicholas Davis   65  1033  True\n",
       "3          Angela Mcclure   85  1084  True\n",
       "5            Laurie Smith   66  1014  True\n",
       "8              Walter Ray   78  1087  True\n",
       "9           Ronnie Martin   63  1066  True\n",
       "10           Edward Davis   72  1098  True\n",
       "16  Mr. Richard Munoz PhD   71  1012  True\n",
       "18      Alexandra Serrano   69  1020  True"
      ]
     },
     "execution_count": 133,
     "metadata": {},
     "output_type": "execute_result"
    }
   ],
   "source": [
    "df[df[\"old\"]]"
   ]
  },
  {
   "cell_type": "code",
   "execution_count": 135,
   "id": "497ccb3c-0896-41ea-901a-432db6206f29",
   "metadata": {},
   "outputs": [],
   "source": [
    "df1 = pd.DataFrame(df, columns=[\"name\"])"
   ]
  },
  {
   "cell_type": "code",
   "execution_count": 137,
   "id": "64ceaea2-6714-4fd1-8311-8139f0747fe6",
   "metadata": {},
   "outputs": [
    {
     "data": {
      "text/plain": [
       "0            Nicholas Davis\n",
       "1           Alyssa Marshall\n",
       "2           Christian Potts\n",
       "3            Angela Mcclure\n",
       "4             Debra Russell\n",
       "5              Laurie Smith\n",
       "6           Daniel Thompson\n",
       "7            Michael Morris\n",
       "8                Walter Ray\n",
       "9             Ronnie Martin\n",
       "10             Edward Davis\n",
       "11            Stephen Allen\n",
       "12               Karen Dean\n",
       "13               Megan Diaz\n",
       "14            Laura Sanchez\n",
       "15             Dalton Brown\n",
       "16    Mr. Richard Munoz PhD\n",
       "17            Gregg Roberts\n",
       "18        Alexandra Serrano\n",
       "19           Jennifer White\n",
       "Name: name, dtype: object"
      ]
     },
     "execution_count": 137,
     "metadata": {},
     "output_type": "execute_result"
    }
   ],
   "source": [
    "df1.squeeze()"
   ]
  },
  {
   "cell_type": "code",
   "execution_count": 138,
   "id": "79053f8b-3ac7-4343-a1aa-43868090a5da",
   "metadata": {},
   "outputs": [],
   "source": [
    "\n",
    "serie1 = df1.squeeze()"
   ]
  },
  {
   "cell_type": "code",
   "execution_count": 143,
   "id": "59c314fa-e96a-4965-a3f8-82767a3d7c94",
   "metadata": {},
   "outputs": [
    {
     "data": {
      "text/plain": [
       "pandas.core.frame.DataFrame"
      ]
     },
     "execution_count": 143,
     "metadata": {},
     "output_type": "execute_result"
    }
   ],
   "source": [
    "type(df1)"
   ]
  },
  {
   "cell_type": "code",
   "execution_count": 144,
   "id": "abdfbbea-5418-4bcd-8b28-52335a491dd7",
   "metadata": {},
   "outputs": [
    {
     "data": {
      "text/html": [
       "<div>\n",
       "<style scoped>\n",
       "    .dataframe tbody tr th:only-of-type {\n",
       "        vertical-align: middle;\n",
       "    }\n",
       "\n",
       "    .dataframe tbody tr th {\n",
       "        vertical-align: top;\n",
       "    }\n",
       "\n",
       "    .dataframe thead th {\n",
       "        text-align: right;\n",
       "    }\n",
       "</style>\n",
       "<table border=\"1\" class=\"dataframe\">\n",
       "  <thead>\n",
       "    <tr style=\"text-align: right;\">\n",
       "      <th></th>\n",
       "      <th>name</th>\n",
       "      <th>age</th>\n",
       "      <th>id</th>\n",
       "      <th>old</th>\n",
       "    </tr>\n",
       "  </thead>\n",
       "  <tbody>\n",
       "    <tr>\n",
       "      <th>0</th>\n",
       "      <td>Nicholas Davis</td>\n",
       "      <td>65</td>\n",
       "      <td>1033</td>\n",
       "      <td>True</td>\n",
       "    </tr>\n",
       "    <tr>\n",
       "      <th>1</th>\n",
       "      <td>Alyssa Marshall</td>\n",
       "      <td>23</td>\n",
       "      <td>1034</td>\n",
       "      <td>False</td>\n",
       "    </tr>\n",
       "    <tr>\n",
       "      <th>2</th>\n",
       "      <td>Christian Potts</td>\n",
       "      <td>24</td>\n",
       "      <td>1088</td>\n",
       "      <td>False</td>\n",
       "    </tr>\n",
       "    <tr>\n",
       "      <th>3</th>\n",
       "      <td>Angela Mcclure</td>\n",
       "      <td>85</td>\n",
       "      <td>1084</td>\n",
       "      <td>True</td>\n",
       "    </tr>\n",
       "    <tr>\n",
       "      <th>4</th>\n",
       "      <td>Debra Russell</td>\n",
       "      <td>58</td>\n",
       "      <td>1090</td>\n",
       "      <td>False</td>\n",
       "    </tr>\n",
       "    <tr>\n",
       "      <th>5</th>\n",
       "      <td>Laurie Smith</td>\n",
       "      <td>66</td>\n",
       "      <td>1014</td>\n",
       "      <td>True</td>\n",
       "    </tr>\n",
       "    <tr>\n",
       "      <th>6</th>\n",
       "      <td>Daniel Thompson</td>\n",
       "      <td>40</td>\n",
       "      <td>1049</td>\n",
       "      <td>False</td>\n",
       "    </tr>\n",
       "    <tr>\n",
       "      <th>7</th>\n",
       "      <td>Michael Morris</td>\n",
       "      <td>37</td>\n",
       "      <td>1049</td>\n",
       "      <td>False</td>\n",
       "    </tr>\n",
       "    <tr>\n",
       "      <th>8</th>\n",
       "      <td>Walter Ray</td>\n",
       "      <td>78</td>\n",
       "      <td>1087</td>\n",
       "      <td>True</td>\n",
       "    </tr>\n",
       "    <tr>\n",
       "      <th>9</th>\n",
       "      <td>Ronnie Martin</td>\n",
       "      <td>63</td>\n",
       "      <td>1066</td>\n",
       "      <td>True</td>\n",
       "    </tr>\n",
       "    <tr>\n",
       "      <th>10</th>\n",
       "      <td>Edward Davis</td>\n",
       "      <td>72</td>\n",
       "      <td>1098</td>\n",
       "      <td>True</td>\n",
       "    </tr>\n",
       "    <tr>\n",
       "      <th>11</th>\n",
       "      <td>Stephen Allen</td>\n",
       "      <td>58</td>\n",
       "      <td>1035</td>\n",
       "      <td>False</td>\n",
       "    </tr>\n",
       "    <tr>\n",
       "      <th>12</th>\n",
       "      <td>Karen Dean</td>\n",
       "      <td>21</td>\n",
       "      <td>1005</td>\n",
       "      <td>False</td>\n",
       "    </tr>\n",
       "    <tr>\n",
       "      <th>13</th>\n",
       "      <td>Megan Diaz</td>\n",
       "      <td>46</td>\n",
       "      <td>1064</td>\n",
       "      <td>False</td>\n",
       "    </tr>\n",
       "    <tr>\n",
       "      <th>14</th>\n",
       "      <td>Laura Sanchez</td>\n",
       "      <td>53</td>\n",
       "      <td>1028</td>\n",
       "      <td>False</td>\n",
       "    </tr>\n",
       "    <tr>\n",
       "      <th>15</th>\n",
       "      <td>Dalton Brown</td>\n",
       "      <td>56</td>\n",
       "      <td>1094</td>\n",
       "      <td>False</td>\n",
       "    </tr>\n",
       "    <tr>\n",
       "      <th>16</th>\n",
       "      <td>Mr. Richard Munoz PhD</td>\n",
       "      <td>71</td>\n",
       "      <td>1012</td>\n",
       "      <td>True</td>\n",
       "    </tr>\n",
       "    <tr>\n",
       "      <th>17</th>\n",
       "      <td>Gregg Roberts</td>\n",
       "      <td>24</td>\n",
       "      <td>1055</td>\n",
       "      <td>False</td>\n",
       "    </tr>\n",
       "    <tr>\n",
       "      <th>18</th>\n",
       "      <td>Alexandra Serrano</td>\n",
       "      <td>69</td>\n",
       "      <td>1020</td>\n",
       "      <td>True</td>\n",
       "    </tr>\n",
       "    <tr>\n",
       "      <th>19</th>\n",
       "      <td>Jennifer White</td>\n",
       "      <td>31</td>\n",
       "      <td>1028</td>\n",
       "      <td>False</td>\n",
       "    </tr>\n",
       "  </tbody>\n",
       "</table>\n",
       "</div>"
      ],
      "text/plain": [
       "                     name  age    id    old\n",
       "0          Nicholas Davis   65  1033   True\n",
       "1         Alyssa Marshall   23  1034  False\n",
       "2         Christian Potts   24  1088  False\n",
       "3          Angela Mcclure   85  1084   True\n",
       "4           Debra Russell   58  1090  False\n",
       "5            Laurie Smith   66  1014   True\n",
       "6         Daniel Thompson   40  1049  False\n",
       "7          Michael Morris   37  1049  False\n",
       "8              Walter Ray   78  1087   True\n",
       "9           Ronnie Martin   63  1066   True\n",
       "10           Edward Davis   72  1098   True\n",
       "11          Stephen Allen   58  1035  False\n",
       "12             Karen Dean   21  1005  False\n",
       "13             Megan Diaz   46  1064  False\n",
       "14          Laura Sanchez   53  1028  False\n",
       "15           Dalton Brown   56  1094  False\n",
       "16  Mr. Richard Munoz PhD   71  1012   True\n",
       "17          Gregg Roberts   24  1055  False\n",
       "18      Alexandra Serrano   69  1020   True\n",
       "19         Jennifer White   31  1028  False"
      ]
     },
     "execution_count": 144,
     "metadata": {},
     "output_type": "execute_result"
    }
   ],
   "source": [
    "df"
   ]
  },
  {
   "cell_type": "code",
   "execution_count": 145,
   "id": "5d7f90c7-ae1f-4fb9-bd61-1e74623cb183",
   "metadata": {},
   "outputs": [],
   "source": [
    "\n",
    "del df[\"old\"]"
   ]
  },
  {
   "cell_type": "code",
   "execution_count": 149,
   "id": "6942ba2e-b689-4fca-82ed-6d414e9a3eae",
   "metadata": {},
   "outputs": [],
   "source": [
    "df[\"fname\"] = df[\"name\"].apply(lambda n:n.split()[0])\n",
    "df[\"lname\"] = df[\"name\"].apply(lambda n:n.split()[1])"
   ]
  },
  {
   "cell_type": "code",
   "execution_count": 151,
   "id": "0222c0cc-987c-4e92-a34a-804859dd7646",
   "metadata": {},
   "outputs": [
    {
     "data": {
      "text/html": [
       "<div>\n",
       "<style scoped>\n",
       "    .dataframe tbody tr th:only-of-type {\n",
       "        vertical-align: middle;\n",
       "    }\n",
       "\n",
       "    .dataframe tbody tr th {\n",
       "        vertical-align: top;\n",
       "    }\n",
       "\n",
       "    .dataframe thead th {\n",
       "        text-align: right;\n",
       "    }\n",
       "</style>\n",
       "<table border=\"1\" class=\"dataframe\">\n",
       "  <thead>\n",
       "    <tr style=\"text-align: right;\">\n",
       "      <th></th>\n",
       "      <th>name</th>\n",
       "      <th>age</th>\n",
       "      <th>id</th>\n",
       "      <th>email</th>\n",
       "      <th>fname</th>\n",
       "      <th>lname</th>\n",
       "    </tr>\n",
       "  </thead>\n",
       "  <tbody>\n",
       "    <tr>\n",
       "      <th>0</th>\n",
       "      <td>Nicholas Davis</td>\n",
       "      <td>65</td>\n",
       "      <td>1033</td>\n",
       "      <td>Nicholas</td>\n",
       "      <td>Nicholas</td>\n",
       "      <td>Davis</td>\n",
       "    </tr>\n",
       "    <tr>\n",
       "      <th>1</th>\n",
       "      <td>Alyssa Marshall</td>\n",
       "      <td>23</td>\n",
       "      <td>1034</td>\n",
       "      <td>Alyssa</td>\n",
       "      <td>Alyssa</td>\n",
       "      <td>Marshall</td>\n",
       "    </tr>\n",
       "    <tr>\n",
       "      <th>2</th>\n",
       "      <td>Christian Potts</td>\n",
       "      <td>24</td>\n",
       "      <td>1088</td>\n",
       "      <td>Christian</td>\n",
       "      <td>Christian</td>\n",
       "      <td>Potts</td>\n",
       "    </tr>\n",
       "    <tr>\n",
       "      <th>3</th>\n",
       "      <td>Angela Mcclure</td>\n",
       "      <td>85</td>\n",
       "      <td>1084</td>\n",
       "      <td>Angela</td>\n",
       "      <td>Angela</td>\n",
       "      <td>Mcclure</td>\n",
       "    </tr>\n",
       "    <tr>\n",
       "      <th>4</th>\n",
       "      <td>Debra Russell</td>\n",
       "      <td>58</td>\n",
       "      <td>1090</td>\n",
       "      <td>Debra</td>\n",
       "      <td>Debra</td>\n",
       "      <td>Russell</td>\n",
       "    </tr>\n",
       "  </tbody>\n",
       "</table>\n",
       "</div>"
      ],
      "text/plain": [
       "              name  age    id      email      fname     lname\n",
       "0   Nicholas Davis   65  1033   Nicholas   Nicholas     Davis\n",
       "1  Alyssa Marshall   23  1034     Alyssa     Alyssa  Marshall\n",
       "2  Christian Potts   24  1088  Christian  Christian     Potts\n",
       "3   Angela Mcclure   85  1084     Angela     Angela   Mcclure\n",
       "4    Debra Russell   58  1090      Debra      Debra   Russell"
      ]
     },
     "execution_count": 151,
     "metadata": {},
     "output_type": "execute_result"
    }
   ],
   "source": [
    "df.head()"
   ]
  },
  {
   "cell_type": "code",
   "execution_count": 160,
   "id": "20d55cb4-aefe-4396-9a8c-eff651e2b78f",
   "metadata": {},
   "outputs": [],
   "source": [
    "df[\"email\"] = df[\"fname\"]+df[\"lname\"]+df[\"id\"].apply(str)+\"@mail.com\""
   ]
  },
  {
   "cell_type": "code",
   "execution_count": 162,
   "id": "9f50ac27-121b-4964-a4a4-9eb673243ca4",
   "metadata": {},
   "outputs": [
    {
     "data": {
      "text/html": [
       "<div>\n",
       "<style scoped>\n",
       "    .dataframe tbody tr th:only-of-type {\n",
       "        vertical-align: middle;\n",
       "    }\n",
       "\n",
       "    .dataframe tbody tr th {\n",
       "        vertical-align: top;\n",
       "    }\n",
       "\n",
       "    .dataframe thead th {\n",
       "        text-align: right;\n",
       "    }\n",
       "</style>\n",
       "<table border=\"1\" class=\"dataframe\">\n",
       "  <thead>\n",
       "    <tr style=\"text-align: right;\">\n",
       "      <th></th>\n",
       "      <th>name</th>\n",
       "      <th>age</th>\n",
       "      <th>id</th>\n",
       "      <th>email</th>\n",
       "      <th>fname</th>\n",
       "      <th>lname</th>\n",
       "    </tr>\n",
       "  </thead>\n",
       "  <tbody>\n",
       "    <tr>\n",
       "      <th>0</th>\n",
       "      <td>Nicholas Davis</td>\n",
       "      <td>65</td>\n",
       "      <td>1033</td>\n",
       "      <td>NicholasDavis1033@mail.com</td>\n",
       "      <td>Nicholas</td>\n",
       "      <td>Davis</td>\n",
       "    </tr>\n",
       "    <tr>\n",
       "      <th>1</th>\n",
       "      <td>Alyssa Marshall</td>\n",
       "      <td>23</td>\n",
       "      <td>1034</td>\n",
       "      <td>AlyssaMarshall1034@mail.com</td>\n",
       "      <td>Alyssa</td>\n",
       "      <td>Marshall</td>\n",
       "    </tr>\n",
       "    <tr>\n",
       "      <th>2</th>\n",
       "      <td>Christian Potts</td>\n",
       "      <td>24</td>\n",
       "      <td>1088</td>\n",
       "      <td>ChristianPotts1088@mail.com</td>\n",
       "      <td>Christian</td>\n",
       "      <td>Potts</td>\n",
       "    </tr>\n",
       "    <tr>\n",
       "      <th>3</th>\n",
       "      <td>Angela Mcclure</td>\n",
       "      <td>85</td>\n",
       "      <td>1084</td>\n",
       "      <td>AngelaMcclure1084@mail.com</td>\n",
       "      <td>Angela</td>\n",
       "      <td>Mcclure</td>\n",
       "    </tr>\n",
       "    <tr>\n",
       "      <th>4</th>\n",
       "      <td>Debra Russell</td>\n",
       "      <td>58</td>\n",
       "      <td>1090</td>\n",
       "      <td>DebraRussell1090@mail.com</td>\n",
       "      <td>Debra</td>\n",
       "      <td>Russell</td>\n",
       "    </tr>\n",
       "  </tbody>\n",
       "</table>\n",
       "</div>"
      ],
      "text/plain": [
       "              name  age    id                        email      fname  \\\n",
       "0   Nicholas Davis   65  1033   NicholasDavis1033@mail.com   Nicholas   \n",
       "1  Alyssa Marshall   23  1034  AlyssaMarshall1034@mail.com     Alyssa   \n",
       "2  Christian Potts   24  1088  ChristianPotts1088@mail.com  Christian   \n",
       "3   Angela Mcclure   85  1084   AngelaMcclure1084@mail.com     Angela   \n",
       "4    Debra Russell   58  1090    DebraRussell1090@mail.com      Debra   \n",
       "\n",
       "      lname  \n",
       "0     Davis  \n",
       "1  Marshall  \n",
       "2     Potts  \n",
       "3   Mcclure  \n",
       "4   Russell  "
      ]
     },
     "execution_count": 162,
     "metadata": {},
     "output_type": "execute_result"
    }
   ],
   "source": [
    "df.head()"
   ]
  },
  {
   "cell_type": "code",
   "execution_count": 163,
   "id": "c089e158-10d7-4ef6-b867-b3a6a942fb42",
   "metadata": {},
   "outputs": [
    {
     "data": {
      "text/html": [
       "<div>\n",
       "<style scoped>\n",
       "    .dataframe tbody tr th:only-of-type {\n",
       "        vertical-align: middle;\n",
       "    }\n",
       "\n",
       "    .dataframe tbody tr th {\n",
       "        vertical-align: top;\n",
       "    }\n",
       "\n",
       "    .dataframe thead th {\n",
       "        text-align: right;\n",
       "    }\n",
       "</style>\n",
       "<table border=\"1\" class=\"dataframe\">\n",
       "  <thead>\n",
       "    <tr style=\"text-align: right;\">\n",
       "      <th></th>\n",
       "      <th>name</th>\n",
       "      <th>age</th>\n",
       "      <th>id</th>\n",
       "      <th>email</th>\n",
       "      <th>fname</th>\n",
       "      <th>lname</th>\n",
       "    </tr>\n",
       "  </thead>\n",
       "  <tbody>\n",
       "    <tr>\n",
       "      <th>15</th>\n",
       "      <td>Dalton Brown</td>\n",
       "      <td>56</td>\n",
       "      <td>1094</td>\n",
       "      <td>DaltonBrown1094@mail.com</td>\n",
       "      <td>Dalton</td>\n",
       "      <td>Brown</td>\n",
       "    </tr>\n",
       "    <tr>\n",
       "      <th>16</th>\n",
       "      <td>Mr. Richard Munoz PhD</td>\n",
       "      <td>71</td>\n",
       "      <td>1012</td>\n",
       "      <td>Mr.Richard1012@mail.com</td>\n",
       "      <td>Mr.</td>\n",
       "      <td>Richard</td>\n",
       "    </tr>\n",
       "    <tr>\n",
       "      <th>17</th>\n",
       "      <td>Gregg Roberts</td>\n",
       "      <td>24</td>\n",
       "      <td>1055</td>\n",
       "      <td>GreggRoberts1055@mail.com</td>\n",
       "      <td>Gregg</td>\n",
       "      <td>Roberts</td>\n",
       "    </tr>\n",
       "    <tr>\n",
       "      <th>18</th>\n",
       "      <td>Alexandra Serrano</td>\n",
       "      <td>69</td>\n",
       "      <td>1020</td>\n",
       "      <td>AlexandraSerrano1020@mail.com</td>\n",
       "      <td>Alexandra</td>\n",
       "      <td>Serrano</td>\n",
       "    </tr>\n",
       "    <tr>\n",
       "      <th>19</th>\n",
       "      <td>Jennifer White</td>\n",
       "      <td>31</td>\n",
       "      <td>1028</td>\n",
       "      <td>JenniferWhite1028@mail.com</td>\n",
       "      <td>Jennifer</td>\n",
       "      <td>White</td>\n",
       "    </tr>\n",
       "  </tbody>\n",
       "</table>\n",
       "</div>"
      ],
      "text/plain": [
       "                     name  age    id                          email  \\\n",
       "15           Dalton Brown   56  1094       DaltonBrown1094@mail.com   \n",
       "16  Mr. Richard Munoz PhD   71  1012        Mr.Richard1012@mail.com   \n",
       "17          Gregg Roberts   24  1055      GreggRoberts1055@mail.com   \n",
       "18      Alexandra Serrano   69  1020  AlexandraSerrano1020@mail.com   \n",
       "19         Jennifer White   31  1028     JenniferWhite1028@mail.com   \n",
       "\n",
       "        fname    lname  \n",
       "15     Dalton    Brown  \n",
       "16        Mr.  Richard  \n",
       "17      Gregg  Roberts  \n",
       "18  Alexandra  Serrano  \n",
       "19   Jennifer    White  "
      ]
     },
     "execution_count": 163,
     "metadata": {},
     "output_type": "execute_result"
    }
   ],
   "source": [
    "df.tail()"
   ]
  },
  {
   "cell_type": "code",
   "execution_count": 166,
   "id": "87603042-2a94-4114-a175-3b018531542f",
   "metadata": {},
   "outputs": [],
   "source": [
    "df.to_csv('mydf.csv')"
   ]
  },
  {
   "cell_type": "code",
   "execution_count": 169,
   "id": "219c0993-4135-412d-b994-9cd751d26061",
   "metadata": {},
   "outputs": [],
   "source": [
    "df = pd.read_csv('mydf.csv')"
   ]
  },
  {
   "cell_type": "code",
   "execution_count": 170,
   "id": "abc53f83-97b0-4618-a7e8-a9ead483d917",
   "metadata": {},
   "outputs": [
    {
     "data": {
      "text/html": [
       "<div>\n",
       "<style scoped>\n",
       "    .dataframe tbody tr th:only-of-type {\n",
       "        vertical-align: middle;\n",
       "    }\n",
       "\n",
       "    .dataframe tbody tr th {\n",
       "        vertical-align: top;\n",
       "    }\n",
       "\n",
       "    .dataframe thead th {\n",
       "        text-align: right;\n",
       "    }\n",
       "</style>\n",
       "<table border=\"1\" class=\"dataframe\">\n",
       "  <thead>\n",
       "    <tr style=\"text-align: right;\">\n",
       "      <th></th>\n",
       "      <th>Unnamed: 0</th>\n",
       "      <th>name</th>\n",
       "      <th>age</th>\n",
       "      <th>id</th>\n",
       "      <th>email</th>\n",
       "      <th>fname</th>\n",
       "      <th>lname</th>\n",
       "    </tr>\n",
       "  </thead>\n",
       "  <tbody>\n",
       "    <tr>\n",
       "      <th>0</th>\n",
       "      <td>0</td>\n",
       "      <td>Nicholas Davis</td>\n",
       "      <td>65</td>\n",
       "      <td>1033</td>\n",
       "      <td>NicholasDavis1033@mail.com</td>\n",
       "      <td>Nicholas</td>\n",
       "      <td>Davis</td>\n",
       "    </tr>\n",
       "    <tr>\n",
       "      <th>1</th>\n",
       "      <td>1</td>\n",
       "      <td>Alyssa Marshall</td>\n",
       "      <td>23</td>\n",
       "      <td>1034</td>\n",
       "      <td>AlyssaMarshall1034@mail.com</td>\n",
       "      <td>Alyssa</td>\n",
       "      <td>Marshall</td>\n",
       "    </tr>\n",
       "    <tr>\n",
       "      <th>2</th>\n",
       "      <td>2</td>\n",
       "      <td>Christian Potts</td>\n",
       "      <td>24</td>\n",
       "      <td>1088</td>\n",
       "      <td>ChristianPotts1088@mail.com</td>\n",
       "      <td>Christian</td>\n",
       "      <td>Potts</td>\n",
       "    </tr>\n",
       "    <tr>\n",
       "      <th>3</th>\n",
       "      <td>3</td>\n",
       "      <td>Angela Mcclure</td>\n",
       "      <td>85</td>\n",
       "      <td>1084</td>\n",
       "      <td>AngelaMcclure1084@mail.com</td>\n",
       "      <td>Angela</td>\n",
       "      <td>Mcclure</td>\n",
       "    </tr>\n",
       "    <tr>\n",
       "      <th>4</th>\n",
       "      <td>4</td>\n",
       "      <td>Debra Russell</td>\n",
       "      <td>58</td>\n",
       "      <td>1090</td>\n",
       "      <td>DebraRussell1090@mail.com</td>\n",
       "      <td>Debra</td>\n",
       "      <td>Russell</td>\n",
       "    </tr>\n",
       "    <tr>\n",
       "      <th>5</th>\n",
       "      <td>5</td>\n",
       "      <td>Laurie Smith</td>\n",
       "      <td>66</td>\n",
       "      <td>1014</td>\n",
       "      <td>LaurieSmith1014@mail.com</td>\n",
       "      <td>Laurie</td>\n",
       "      <td>Smith</td>\n",
       "    </tr>\n",
       "    <tr>\n",
       "      <th>6</th>\n",
       "      <td>6</td>\n",
       "      <td>Daniel Thompson</td>\n",
       "      <td>40</td>\n",
       "      <td>1049</td>\n",
       "      <td>DanielThompson1049@mail.com</td>\n",
       "      <td>Daniel</td>\n",
       "      <td>Thompson</td>\n",
       "    </tr>\n",
       "    <tr>\n",
       "      <th>7</th>\n",
       "      <td>7</td>\n",
       "      <td>Michael Morris</td>\n",
       "      <td>37</td>\n",
       "      <td>1049</td>\n",
       "      <td>MichaelMorris1049@mail.com</td>\n",
       "      <td>Michael</td>\n",
       "      <td>Morris</td>\n",
       "    </tr>\n",
       "    <tr>\n",
       "      <th>8</th>\n",
       "      <td>8</td>\n",
       "      <td>Walter Ray</td>\n",
       "      <td>78</td>\n",
       "      <td>1087</td>\n",
       "      <td>WalterRay1087@mail.com</td>\n",
       "      <td>Walter</td>\n",
       "      <td>Ray</td>\n",
       "    </tr>\n",
       "    <tr>\n",
       "      <th>9</th>\n",
       "      <td>9</td>\n",
       "      <td>Ronnie Martin</td>\n",
       "      <td>63</td>\n",
       "      <td>1066</td>\n",
       "      <td>RonnieMartin1066@mail.com</td>\n",
       "      <td>Ronnie</td>\n",
       "      <td>Martin</td>\n",
       "    </tr>\n",
       "    <tr>\n",
       "      <th>10</th>\n",
       "      <td>10</td>\n",
       "      <td>Edward Davis</td>\n",
       "      <td>72</td>\n",
       "      <td>1098</td>\n",
       "      <td>EdwardDavis1098@mail.com</td>\n",
       "      <td>Edward</td>\n",
       "      <td>Davis</td>\n",
       "    </tr>\n",
       "    <tr>\n",
       "      <th>11</th>\n",
       "      <td>11</td>\n",
       "      <td>Stephen Allen</td>\n",
       "      <td>58</td>\n",
       "      <td>1035</td>\n",
       "      <td>StephenAllen1035@mail.com</td>\n",
       "      <td>Stephen</td>\n",
       "      <td>Allen</td>\n",
       "    </tr>\n",
       "    <tr>\n",
       "      <th>12</th>\n",
       "      <td>12</td>\n",
       "      <td>Karen Dean</td>\n",
       "      <td>21</td>\n",
       "      <td>1005</td>\n",
       "      <td>KarenDean1005@mail.com</td>\n",
       "      <td>Karen</td>\n",
       "      <td>Dean</td>\n",
       "    </tr>\n",
       "    <tr>\n",
       "      <th>13</th>\n",
       "      <td>13</td>\n",
       "      <td>Megan Diaz</td>\n",
       "      <td>46</td>\n",
       "      <td>1064</td>\n",
       "      <td>MeganDiaz1064@mail.com</td>\n",
       "      <td>Megan</td>\n",
       "      <td>Diaz</td>\n",
       "    </tr>\n",
       "    <tr>\n",
       "      <th>14</th>\n",
       "      <td>14</td>\n",
       "      <td>Laura Sanchez</td>\n",
       "      <td>53</td>\n",
       "      <td>1028</td>\n",
       "      <td>LauraSanchez1028@mail.com</td>\n",
       "      <td>Laura</td>\n",
       "      <td>Sanchez</td>\n",
       "    </tr>\n",
       "    <tr>\n",
       "      <th>15</th>\n",
       "      <td>15</td>\n",
       "      <td>Dalton Brown</td>\n",
       "      <td>56</td>\n",
       "      <td>1094</td>\n",
       "      <td>DaltonBrown1094@mail.com</td>\n",
       "      <td>Dalton</td>\n",
       "      <td>Brown</td>\n",
       "    </tr>\n",
       "    <tr>\n",
       "      <th>16</th>\n",
       "      <td>16</td>\n",
       "      <td>Mr. Richard Munoz PhD</td>\n",
       "      <td>71</td>\n",
       "      <td>1012</td>\n",
       "      <td>Mr.Richard1012@mail.com</td>\n",
       "      <td>Mr.</td>\n",
       "      <td>Richard</td>\n",
       "    </tr>\n",
       "    <tr>\n",
       "      <th>17</th>\n",
       "      <td>17</td>\n",
       "      <td>Gregg Roberts</td>\n",
       "      <td>24</td>\n",
       "      <td>1055</td>\n",
       "      <td>GreggRoberts1055@mail.com</td>\n",
       "      <td>Gregg</td>\n",
       "      <td>Roberts</td>\n",
       "    </tr>\n",
       "    <tr>\n",
       "      <th>18</th>\n",
       "      <td>18</td>\n",
       "      <td>Alexandra Serrano</td>\n",
       "      <td>69</td>\n",
       "      <td>1020</td>\n",
       "      <td>AlexandraSerrano1020@mail.com</td>\n",
       "      <td>Alexandra</td>\n",
       "      <td>Serrano</td>\n",
       "    </tr>\n",
       "    <tr>\n",
       "      <th>19</th>\n",
       "      <td>19</td>\n",
       "      <td>Jennifer White</td>\n",
       "      <td>31</td>\n",
       "      <td>1028</td>\n",
       "      <td>JenniferWhite1028@mail.com</td>\n",
       "      <td>Jennifer</td>\n",
       "      <td>White</td>\n",
       "    </tr>\n",
       "  </tbody>\n",
       "</table>\n",
       "</div>"
      ],
      "text/plain": [
       "    Unnamed: 0                   name  age    id  \\\n",
       "0            0         Nicholas Davis   65  1033   \n",
       "1            1        Alyssa Marshall   23  1034   \n",
       "2            2        Christian Potts   24  1088   \n",
       "3            3         Angela Mcclure   85  1084   \n",
       "4            4          Debra Russell   58  1090   \n",
       "5            5           Laurie Smith   66  1014   \n",
       "6            6        Daniel Thompson   40  1049   \n",
       "7            7         Michael Morris   37  1049   \n",
       "8            8             Walter Ray   78  1087   \n",
       "9            9          Ronnie Martin   63  1066   \n",
       "10          10           Edward Davis   72  1098   \n",
       "11          11          Stephen Allen   58  1035   \n",
       "12          12             Karen Dean   21  1005   \n",
       "13          13             Megan Diaz   46  1064   \n",
       "14          14          Laura Sanchez   53  1028   \n",
       "15          15           Dalton Brown   56  1094   \n",
       "16          16  Mr. Richard Munoz PhD   71  1012   \n",
       "17          17          Gregg Roberts   24  1055   \n",
       "18          18      Alexandra Serrano   69  1020   \n",
       "19          19         Jennifer White   31  1028   \n",
       "\n",
       "                            email      fname     lname  \n",
       "0      NicholasDavis1033@mail.com   Nicholas     Davis  \n",
       "1     AlyssaMarshall1034@mail.com     Alyssa  Marshall  \n",
       "2     ChristianPotts1088@mail.com  Christian     Potts  \n",
       "3      AngelaMcclure1084@mail.com     Angela   Mcclure  \n",
       "4       DebraRussell1090@mail.com      Debra   Russell  \n",
       "5        LaurieSmith1014@mail.com     Laurie     Smith  \n",
       "6     DanielThompson1049@mail.com     Daniel  Thompson  \n",
       "7      MichaelMorris1049@mail.com    Michael    Morris  \n",
       "8          WalterRay1087@mail.com     Walter       Ray  \n",
       "9       RonnieMartin1066@mail.com     Ronnie    Martin  \n",
       "10       EdwardDavis1098@mail.com     Edward     Davis  \n",
       "11      StephenAllen1035@mail.com    Stephen     Allen  \n",
       "12         KarenDean1005@mail.com      Karen      Dean  \n",
       "13         MeganDiaz1064@mail.com      Megan      Diaz  \n",
       "14      LauraSanchez1028@mail.com      Laura   Sanchez  \n",
       "15       DaltonBrown1094@mail.com     Dalton     Brown  \n",
       "16        Mr.Richard1012@mail.com        Mr.   Richard  \n",
       "17      GreggRoberts1055@mail.com      Gregg   Roberts  \n",
       "18  AlexandraSerrano1020@mail.com  Alexandra   Serrano  \n",
       "19     JenniferWhite1028@mail.com   Jennifer     White  "
      ]
     },
     "execution_count": 170,
     "metadata": {},
     "output_type": "execute_result"
    }
   ],
   "source": [
    "df"
   ]
  },
  {
   "cell_type": "code",
   "execution_count": 174,
   "id": "503ae19f-7688-4175-ae36-69c9c29288ee",
   "metadata": {},
   "outputs": [],
   "source": [
    "del df['Unnamed: 0']"
   ]
  },
  {
   "cell_type": "code",
   "execution_count": 175,
   "id": "2d5ec0e1-9d92-421b-adda-ae6da76f3a16",
   "metadata": {},
   "outputs": [
    {
     "data": {
      "text/html": [
       "<div>\n",
       "<style scoped>\n",
       "    .dataframe tbody tr th:only-of-type {\n",
       "        vertical-align: middle;\n",
       "    }\n",
       "\n",
       "    .dataframe tbody tr th {\n",
       "        vertical-align: top;\n",
       "    }\n",
       "\n",
       "    .dataframe thead th {\n",
       "        text-align: right;\n",
       "    }\n",
       "</style>\n",
       "<table border=\"1\" class=\"dataframe\">\n",
       "  <thead>\n",
       "    <tr style=\"text-align: right;\">\n",
       "      <th></th>\n",
       "      <th>name</th>\n",
       "      <th>age</th>\n",
       "      <th>id</th>\n",
       "      <th>email</th>\n",
       "      <th>fname</th>\n",
       "      <th>lname</th>\n",
       "    </tr>\n",
       "  </thead>\n",
       "  <tbody>\n",
       "    <tr>\n",
       "      <th>0</th>\n",
       "      <td>Nicholas Davis</td>\n",
       "      <td>65</td>\n",
       "      <td>1033</td>\n",
       "      <td>NicholasDavis1033@mail.com</td>\n",
       "      <td>Nicholas</td>\n",
       "      <td>Davis</td>\n",
       "    </tr>\n",
       "    <tr>\n",
       "      <th>1</th>\n",
       "      <td>Alyssa Marshall</td>\n",
       "      <td>23</td>\n",
       "      <td>1034</td>\n",
       "      <td>AlyssaMarshall1034@mail.com</td>\n",
       "      <td>Alyssa</td>\n",
       "      <td>Marshall</td>\n",
       "    </tr>\n",
       "    <tr>\n",
       "      <th>2</th>\n",
       "      <td>Christian Potts</td>\n",
       "      <td>24</td>\n",
       "      <td>1088</td>\n",
       "      <td>ChristianPotts1088@mail.com</td>\n",
       "      <td>Christian</td>\n",
       "      <td>Potts</td>\n",
       "    </tr>\n",
       "    <tr>\n",
       "      <th>3</th>\n",
       "      <td>Angela Mcclure</td>\n",
       "      <td>85</td>\n",
       "      <td>1084</td>\n",
       "      <td>AngelaMcclure1084@mail.com</td>\n",
       "      <td>Angela</td>\n",
       "      <td>Mcclure</td>\n",
       "    </tr>\n",
       "    <tr>\n",
       "      <th>4</th>\n",
       "      <td>Debra Russell</td>\n",
       "      <td>58</td>\n",
       "      <td>1090</td>\n",
       "      <td>DebraRussell1090@mail.com</td>\n",
       "      <td>Debra</td>\n",
       "      <td>Russell</td>\n",
       "    </tr>\n",
       "    <tr>\n",
       "      <th>5</th>\n",
       "      <td>Laurie Smith</td>\n",
       "      <td>66</td>\n",
       "      <td>1014</td>\n",
       "      <td>LaurieSmith1014@mail.com</td>\n",
       "      <td>Laurie</td>\n",
       "      <td>Smith</td>\n",
       "    </tr>\n",
       "    <tr>\n",
       "      <th>6</th>\n",
       "      <td>Daniel Thompson</td>\n",
       "      <td>40</td>\n",
       "      <td>1049</td>\n",
       "      <td>DanielThompson1049@mail.com</td>\n",
       "      <td>Daniel</td>\n",
       "      <td>Thompson</td>\n",
       "    </tr>\n",
       "    <tr>\n",
       "      <th>7</th>\n",
       "      <td>Michael Morris</td>\n",
       "      <td>37</td>\n",
       "      <td>1049</td>\n",
       "      <td>MichaelMorris1049@mail.com</td>\n",
       "      <td>Michael</td>\n",
       "      <td>Morris</td>\n",
       "    </tr>\n",
       "    <tr>\n",
       "      <th>8</th>\n",
       "      <td>Walter Ray</td>\n",
       "      <td>78</td>\n",
       "      <td>1087</td>\n",
       "      <td>WalterRay1087@mail.com</td>\n",
       "      <td>Walter</td>\n",
       "      <td>Ray</td>\n",
       "    </tr>\n",
       "    <tr>\n",
       "      <th>9</th>\n",
       "      <td>Ronnie Martin</td>\n",
       "      <td>63</td>\n",
       "      <td>1066</td>\n",
       "      <td>RonnieMartin1066@mail.com</td>\n",
       "      <td>Ronnie</td>\n",
       "      <td>Martin</td>\n",
       "    </tr>\n",
       "    <tr>\n",
       "      <th>10</th>\n",
       "      <td>Edward Davis</td>\n",
       "      <td>72</td>\n",
       "      <td>1098</td>\n",
       "      <td>EdwardDavis1098@mail.com</td>\n",
       "      <td>Edward</td>\n",
       "      <td>Davis</td>\n",
       "    </tr>\n",
       "    <tr>\n",
       "      <th>11</th>\n",
       "      <td>Stephen Allen</td>\n",
       "      <td>58</td>\n",
       "      <td>1035</td>\n",
       "      <td>StephenAllen1035@mail.com</td>\n",
       "      <td>Stephen</td>\n",
       "      <td>Allen</td>\n",
       "    </tr>\n",
       "    <tr>\n",
       "      <th>12</th>\n",
       "      <td>Karen Dean</td>\n",
       "      <td>21</td>\n",
       "      <td>1005</td>\n",
       "      <td>KarenDean1005@mail.com</td>\n",
       "      <td>Karen</td>\n",
       "      <td>Dean</td>\n",
       "    </tr>\n",
       "    <tr>\n",
       "      <th>13</th>\n",
       "      <td>Megan Diaz</td>\n",
       "      <td>46</td>\n",
       "      <td>1064</td>\n",
       "      <td>MeganDiaz1064@mail.com</td>\n",
       "      <td>Megan</td>\n",
       "      <td>Diaz</td>\n",
       "    </tr>\n",
       "    <tr>\n",
       "      <th>14</th>\n",
       "      <td>Laura Sanchez</td>\n",
       "      <td>53</td>\n",
       "      <td>1028</td>\n",
       "      <td>LauraSanchez1028@mail.com</td>\n",
       "      <td>Laura</td>\n",
       "      <td>Sanchez</td>\n",
       "    </tr>\n",
       "    <tr>\n",
       "      <th>15</th>\n",
       "      <td>Dalton Brown</td>\n",
       "      <td>56</td>\n",
       "      <td>1094</td>\n",
       "      <td>DaltonBrown1094@mail.com</td>\n",
       "      <td>Dalton</td>\n",
       "      <td>Brown</td>\n",
       "    </tr>\n",
       "    <tr>\n",
       "      <th>16</th>\n",
       "      <td>Mr. Richard Munoz PhD</td>\n",
       "      <td>71</td>\n",
       "      <td>1012</td>\n",
       "      <td>Mr.Richard1012@mail.com</td>\n",
       "      <td>Mr.</td>\n",
       "      <td>Richard</td>\n",
       "    </tr>\n",
       "    <tr>\n",
       "      <th>17</th>\n",
       "      <td>Gregg Roberts</td>\n",
       "      <td>24</td>\n",
       "      <td>1055</td>\n",
       "      <td>GreggRoberts1055@mail.com</td>\n",
       "      <td>Gregg</td>\n",
       "      <td>Roberts</td>\n",
       "    </tr>\n",
       "    <tr>\n",
       "      <th>18</th>\n",
       "      <td>Alexandra Serrano</td>\n",
       "      <td>69</td>\n",
       "      <td>1020</td>\n",
       "      <td>AlexandraSerrano1020@mail.com</td>\n",
       "      <td>Alexandra</td>\n",
       "      <td>Serrano</td>\n",
       "    </tr>\n",
       "    <tr>\n",
       "      <th>19</th>\n",
       "      <td>Jennifer White</td>\n",
       "      <td>31</td>\n",
       "      <td>1028</td>\n",
       "      <td>JenniferWhite1028@mail.com</td>\n",
       "      <td>Jennifer</td>\n",
       "      <td>White</td>\n",
       "    </tr>\n",
       "  </tbody>\n",
       "</table>\n",
       "</div>"
      ],
      "text/plain": [
       "                     name  age    id                          email  \\\n",
       "0          Nicholas Davis   65  1033     NicholasDavis1033@mail.com   \n",
       "1         Alyssa Marshall   23  1034    AlyssaMarshall1034@mail.com   \n",
       "2         Christian Potts   24  1088    ChristianPotts1088@mail.com   \n",
       "3          Angela Mcclure   85  1084     AngelaMcclure1084@mail.com   \n",
       "4           Debra Russell   58  1090      DebraRussell1090@mail.com   \n",
       "5            Laurie Smith   66  1014       LaurieSmith1014@mail.com   \n",
       "6         Daniel Thompson   40  1049    DanielThompson1049@mail.com   \n",
       "7          Michael Morris   37  1049     MichaelMorris1049@mail.com   \n",
       "8              Walter Ray   78  1087         WalterRay1087@mail.com   \n",
       "9           Ronnie Martin   63  1066      RonnieMartin1066@mail.com   \n",
       "10           Edward Davis   72  1098       EdwardDavis1098@mail.com   \n",
       "11          Stephen Allen   58  1035      StephenAllen1035@mail.com   \n",
       "12             Karen Dean   21  1005         KarenDean1005@mail.com   \n",
       "13             Megan Diaz   46  1064         MeganDiaz1064@mail.com   \n",
       "14          Laura Sanchez   53  1028      LauraSanchez1028@mail.com   \n",
       "15           Dalton Brown   56  1094       DaltonBrown1094@mail.com   \n",
       "16  Mr. Richard Munoz PhD   71  1012        Mr.Richard1012@mail.com   \n",
       "17          Gregg Roberts   24  1055      GreggRoberts1055@mail.com   \n",
       "18      Alexandra Serrano   69  1020  AlexandraSerrano1020@mail.com   \n",
       "19         Jennifer White   31  1028     JenniferWhite1028@mail.com   \n",
       "\n",
       "        fname     lname  \n",
       "0    Nicholas     Davis  \n",
       "1      Alyssa  Marshall  \n",
       "2   Christian     Potts  \n",
       "3      Angela   Mcclure  \n",
       "4       Debra   Russell  \n",
       "5      Laurie     Smith  \n",
       "6      Daniel  Thompson  \n",
       "7     Michael    Morris  \n",
       "8      Walter       Ray  \n",
       "9      Ronnie    Martin  \n",
       "10     Edward     Davis  \n",
       "11    Stephen     Allen  \n",
       "12      Karen      Dean  \n",
       "13      Megan      Diaz  \n",
       "14      Laura   Sanchez  \n",
       "15     Dalton     Brown  \n",
       "16        Mr.   Richard  \n",
       "17      Gregg   Roberts  \n",
       "18  Alexandra   Serrano  \n",
       "19   Jennifer     White  "
      ]
     },
     "execution_count": 175,
     "metadata": {},
     "output_type": "execute_result"
    }
   ],
   "source": [
    "df"
   ]
  },
  {
   "cell_type": "code",
   "execution_count": 176,
   "id": "4767f4a8-4085-4c3a-9eda-d98dadc30e97",
   "metadata": {},
   "outputs": [],
   "source": [
    "newdf = df.assign(newcolumn=5)"
   ]
  },
  {
   "cell_type": "code",
   "execution_count": 177,
   "id": "d3b069e8-9e6d-410d-a2e7-8552520045d4",
   "metadata": {},
   "outputs": [
    {
     "data": {
      "text/html": [
       "<div>\n",
       "<style scoped>\n",
       "    .dataframe tbody tr th:only-of-type {\n",
       "        vertical-align: middle;\n",
       "    }\n",
       "\n",
       "    .dataframe tbody tr th {\n",
       "        vertical-align: top;\n",
       "    }\n",
       "\n",
       "    .dataframe thead th {\n",
       "        text-align: right;\n",
       "    }\n",
       "</style>\n",
       "<table border=\"1\" class=\"dataframe\">\n",
       "  <thead>\n",
       "    <tr style=\"text-align: right;\">\n",
       "      <th></th>\n",
       "      <th>name</th>\n",
       "      <th>age</th>\n",
       "      <th>id</th>\n",
       "      <th>email</th>\n",
       "      <th>fname</th>\n",
       "      <th>lname</th>\n",
       "      <th>newcolumn</th>\n",
       "    </tr>\n",
       "  </thead>\n",
       "  <tbody>\n",
       "    <tr>\n",
       "      <th>0</th>\n",
       "      <td>Nicholas Davis</td>\n",
       "      <td>65</td>\n",
       "      <td>1033</td>\n",
       "      <td>NicholasDavis1033@mail.com</td>\n",
       "      <td>Nicholas</td>\n",
       "      <td>Davis</td>\n",
       "      <td>5</td>\n",
       "    </tr>\n",
       "    <tr>\n",
       "      <th>1</th>\n",
       "      <td>Alyssa Marshall</td>\n",
       "      <td>23</td>\n",
       "      <td>1034</td>\n",
       "      <td>AlyssaMarshall1034@mail.com</td>\n",
       "      <td>Alyssa</td>\n",
       "      <td>Marshall</td>\n",
       "      <td>5</td>\n",
       "    </tr>\n",
       "    <tr>\n",
       "      <th>2</th>\n",
       "      <td>Christian Potts</td>\n",
       "      <td>24</td>\n",
       "      <td>1088</td>\n",
       "      <td>ChristianPotts1088@mail.com</td>\n",
       "      <td>Christian</td>\n",
       "      <td>Potts</td>\n",
       "      <td>5</td>\n",
       "    </tr>\n",
       "    <tr>\n",
       "      <th>3</th>\n",
       "      <td>Angela Mcclure</td>\n",
       "      <td>85</td>\n",
       "      <td>1084</td>\n",
       "      <td>AngelaMcclure1084@mail.com</td>\n",
       "      <td>Angela</td>\n",
       "      <td>Mcclure</td>\n",
       "      <td>5</td>\n",
       "    </tr>\n",
       "    <tr>\n",
       "      <th>4</th>\n",
       "      <td>Debra Russell</td>\n",
       "      <td>58</td>\n",
       "      <td>1090</td>\n",
       "      <td>DebraRussell1090@mail.com</td>\n",
       "      <td>Debra</td>\n",
       "      <td>Russell</td>\n",
       "      <td>5</td>\n",
       "    </tr>\n",
       "    <tr>\n",
       "      <th>5</th>\n",
       "      <td>Laurie Smith</td>\n",
       "      <td>66</td>\n",
       "      <td>1014</td>\n",
       "      <td>LaurieSmith1014@mail.com</td>\n",
       "      <td>Laurie</td>\n",
       "      <td>Smith</td>\n",
       "      <td>5</td>\n",
       "    </tr>\n",
       "    <tr>\n",
       "      <th>6</th>\n",
       "      <td>Daniel Thompson</td>\n",
       "      <td>40</td>\n",
       "      <td>1049</td>\n",
       "      <td>DanielThompson1049@mail.com</td>\n",
       "      <td>Daniel</td>\n",
       "      <td>Thompson</td>\n",
       "      <td>5</td>\n",
       "    </tr>\n",
       "    <tr>\n",
       "      <th>7</th>\n",
       "      <td>Michael Morris</td>\n",
       "      <td>37</td>\n",
       "      <td>1049</td>\n",
       "      <td>MichaelMorris1049@mail.com</td>\n",
       "      <td>Michael</td>\n",
       "      <td>Morris</td>\n",
       "      <td>5</td>\n",
       "    </tr>\n",
       "    <tr>\n",
       "      <th>8</th>\n",
       "      <td>Walter Ray</td>\n",
       "      <td>78</td>\n",
       "      <td>1087</td>\n",
       "      <td>WalterRay1087@mail.com</td>\n",
       "      <td>Walter</td>\n",
       "      <td>Ray</td>\n",
       "      <td>5</td>\n",
       "    </tr>\n",
       "    <tr>\n",
       "      <th>9</th>\n",
       "      <td>Ronnie Martin</td>\n",
       "      <td>63</td>\n",
       "      <td>1066</td>\n",
       "      <td>RonnieMartin1066@mail.com</td>\n",
       "      <td>Ronnie</td>\n",
       "      <td>Martin</td>\n",
       "      <td>5</td>\n",
       "    </tr>\n",
       "    <tr>\n",
       "      <th>10</th>\n",
       "      <td>Edward Davis</td>\n",
       "      <td>72</td>\n",
       "      <td>1098</td>\n",
       "      <td>EdwardDavis1098@mail.com</td>\n",
       "      <td>Edward</td>\n",
       "      <td>Davis</td>\n",
       "      <td>5</td>\n",
       "    </tr>\n",
       "    <tr>\n",
       "      <th>11</th>\n",
       "      <td>Stephen Allen</td>\n",
       "      <td>58</td>\n",
       "      <td>1035</td>\n",
       "      <td>StephenAllen1035@mail.com</td>\n",
       "      <td>Stephen</td>\n",
       "      <td>Allen</td>\n",
       "      <td>5</td>\n",
       "    </tr>\n",
       "    <tr>\n",
       "      <th>12</th>\n",
       "      <td>Karen Dean</td>\n",
       "      <td>21</td>\n",
       "      <td>1005</td>\n",
       "      <td>KarenDean1005@mail.com</td>\n",
       "      <td>Karen</td>\n",
       "      <td>Dean</td>\n",
       "      <td>5</td>\n",
       "    </tr>\n",
       "    <tr>\n",
       "      <th>13</th>\n",
       "      <td>Megan Diaz</td>\n",
       "      <td>46</td>\n",
       "      <td>1064</td>\n",
       "      <td>MeganDiaz1064@mail.com</td>\n",
       "      <td>Megan</td>\n",
       "      <td>Diaz</td>\n",
       "      <td>5</td>\n",
       "    </tr>\n",
       "    <tr>\n",
       "      <th>14</th>\n",
       "      <td>Laura Sanchez</td>\n",
       "      <td>53</td>\n",
       "      <td>1028</td>\n",
       "      <td>LauraSanchez1028@mail.com</td>\n",
       "      <td>Laura</td>\n",
       "      <td>Sanchez</td>\n",
       "      <td>5</td>\n",
       "    </tr>\n",
       "    <tr>\n",
       "      <th>15</th>\n",
       "      <td>Dalton Brown</td>\n",
       "      <td>56</td>\n",
       "      <td>1094</td>\n",
       "      <td>DaltonBrown1094@mail.com</td>\n",
       "      <td>Dalton</td>\n",
       "      <td>Brown</td>\n",
       "      <td>5</td>\n",
       "    </tr>\n",
       "    <tr>\n",
       "      <th>16</th>\n",
       "      <td>Mr. Richard Munoz PhD</td>\n",
       "      <td>71</td>\n",
       "      <td>1012</td>\n",
       "      <td>Mr.Richard1012@mail.com</td>\n",
       "      <td>Mr.</td>\n",
       "      <td>Richard</td>\n",
       "      <td>5</td>\n",
       "    </tr>\n",
       "    <tr>\n",
       "      <th>17</th>\n",
       "      <td>Gregg Roberts</td>\n",
       "      <td>24</td>\n",
       "      <td>1055</td>\n",
       "      <td>GreggRoberts1055@mail.com</td>\n",
       "      <td>Gregg</td>\n",
       "      <td>Roberts</td>\n",
       "      <td>5</td>\n",
       "    </tr>\n",
       "    <tr>\n",
       "      <th>18</th>\n",
       "      <td>Alexandra Serrano</td>\n",
       "      <td>69</td>\n",
       "      <td>1020</td>\n",
       "      <td>AlexandraSerrano1020@mail.com</td>\n",
       "      <td>Alexandra</td>\n",
       "      <td>Serrano</td>\n",
       "      <td>5</td>\n",
       "    </tr>\n",
       "    <tr>\n",
       "      <th>19</th>\n",
       "      <td>Jennifer White</td>\n",
       "      <td>31</td>\n",
       "      <td>1028</td>\n",
       "      <td>JenniferWhite1028@mail.com</td>\n",
       "      <td>Jennifer</td>\n",
       "      <td>White</td>\n",
       "      <td>5</td>\n",
       "    </tr>\n",
       "  </tbody>\n",
       "</table>\n",
       "</div>"
      ],
      "text/plain": [
       "                     name  age    id                          email  \\\n",
       "0          Nicholas Davis   65  1033     NicholasDavis1033@mail.com   \n",
       "1         Alyssa Marshall   23  1034    AlyssaMarshall1034@mail.com   \n",
       "2         Christian Potts   24  1088    ChristianPotts1088@mail.com   \n",
       "3          Angela Mcclure   85  1084     AngelaMcclure1084@mail.com   \n",
       "4           Debra Russell   58  1090      DebraRussell1090@mail.com   \n",
       "5            Laurie Smith   66  1014       LaurieSmith1014@mail.com   \n",
       "6         Daniel Thompson   40  1049    DanielThompson1049@mail.com   \n",
       "7          Michael Morris   37  1049     MichaelMorris1049@mail.com   \n",
       "8              Walter Ray   78  1087         WalterRay1087@mail.com   \n",
       "9           Ronnie Martin   63  1066      RonnieMartin1066@mail.com   \n",
       "10           Edward Davis   72  1098       EdwardDavis1098@mail.com   \n",
       "11          Stephen Allen   58  1035      StephenAllen1035@mail.com   \n",
       "12             Karen Dean   21  1005         KarenDean1005@mail.com   \n",
       "13             Megan Diaz   46  1064         MeganDiaz1064@mail.com   \n",
       "14          Laura Sanchez   53  1028      LauraSanchez1028@mail.com   \n",
       "15           Dalton Brown   56  1094       DaltonBrown1094@mail.com   \n",
       "16  Mr. Richard Munoz PhD   71  1012        Mr.Richard1012@mail.com   \n",
       "17          Gregg Roberts   24  1055      GreggRoberts1055@mail.com   \n",
       "18      Alexandra Serrano   69  1020  AlexandraSerrano1020@mail.com   \n",
       "19         Jennifer White   31  1028     JenniferWhite1028@mail.com   \n",
       "\n",
       "        fname     lname  newcolumn  \n",
       "0    Nicholas     Davis          5  \n",
       "1      Alyssa  Marshall          5  \n",
       "2   Christian     Potts          5  \n",
       "3      Angela   Mcclure          5  \n",
       "4       Debra   Russell          5  \n",
       "5      Laurie     Smith          5  \n",
       "6      Daniel  Thompson          5  \n",
       "7     Michael    Morris          5  \n",
       "8      Walter       Ray          5  \n",
       "9      Ronnie    Martin          5  \n",
       "10     Edward     Davis          5  \n",
       "11    Stephen     Allen          5  \n",
       "12      Karen      Dean          5  \n",
       "13      Megan      Diaz          5  \n",
       "14      Laura   Sanchez          5  \n",
       "15     Dalton     Brown          5  \n",
       "16        Mr.   Richard          5  \n",
       "17      Gregg   Roberts          5  \n",
       "18  Alexandra   Serrano          5  \n",
       "19   Jennifer     White          5  "
      ]
     },
     "execution_count": 177,
     "metadata": {},
     "output_type": "execute_result"
    }
   ],
   "source": [
    "newdf"
   ]
  },
  {
   "cell_type": "code",
   "execution_count": 178,
   "id": "92e4833d-91f1-4faa-81f9-974a2951ebc0",
   "metadata": {},
   "outputs": [
    {
     "data": {
      "text/html": [
       "<div>\n",
       "<style scoped>\n",
       "    .dataframe tbody tr th:only-of-type {\n",
       "        vertical-align: middle;\n",
       "    }\n",
       "\n",
       "    .dataframe tbody tr th {\n",
       "        vertical-align: top;\n",
       "    }\n",
       "\n",
       "    .dataframe thead th {\n",
       "        text-align: right;\n",
       "    }\n",
       "</style>\n",
       "<table border=\"1\" class=\"dataframe\">\n",
       "  <thead>\n",
       "    <tr style=\"text-align: right;\">\n",
       "      <th></th>\n",
       "      <th>name</th>\n",
       "      <th>age</th>\n",
       "      <th>id</th>\n",
       "      <th>email</th>\n",
       "      <th>fname</th>\n",
       "      <th>lname</th>\n",
       "    </tr>\n",
       "  </thead>\n",
       "  <tbody>\n",
       "    <tr>\n",
       "      <th>0</th>\n",
       "      <td>Nicholas Davis</td>\n",
       "      <td>65</td>\n",
       "      <td>1033</td>\n",
       "      <td>NicholasDavis1033@mail.com</td>\n",
       "      <td>Nicholas</td>\n",
       "      <td>Davis</td>\n",
       "    </tr>\n",
       "    <tr>\n",
       "      <th>1</th>\n",
       "      <td>Alyssa Marshall</td>\n",
       "      <td>23</td>\n",
       "      <td>1034</td>\n",
       "      <td>AlyssaMarshall1034@mail.com</td>\n",
       "      <td>Alyssa</td>\n",
       "      <td>Marshall</td>\n",
       "    </tr>\n",
       "    <tr>\n",
       "      <th>2</th>\n",
       "      <td>Christian Potts</td>\n",
       "      <td>24</td>\n",
       "      <td>1088</td>\n",
       "      <td>ChristianPotts1088@mail.com</td>\n",
       "      <td>Christian</td>\n",
       "      <td>Potts</td>\n",
       "    </tr>\n",
       "    <tr>\n",
       "      <th>3</th>\n",
       "      <td>Angela Mcclure</td>\n",
       "      <td>85</td>\n",
       "      <td>1084</td>\n",
       "      <td>AngelaMcclure1084@mail.com</td>\n",
       "      <td>Angela</td>\n",
       "      <td>Mcclure</td>\n",
       "    </tr>\n",
       "    <tr>\n",
       "      <th>4</th>\n",
       "      <td>Debra Russell</td>\n",
       "      <td>58</td>\n",
       "      <td>1090</td>\n",
       "      <td>DebraRussell1090@mail.com</td>\n",
       "      <td>Debra</td>\n",
       "      <td>Russell</td>\n",
       "    </tr>\n",
       "    <tr>\n",
       "      <th>5</th>\n",
       "      <td>Laurie Smith</td>\n",
       "      <td>66</td>\n",
       "      <td>1014</td>\n",
       "      <td>LaurieSmith1014@mail.com</td>\n",
       "      <td>Laurie</td>\n",
       "      <td>Smith</td>\n",
       "    </tr>\n",
       "    <tr>\n",
       "      <th>6</th>\n",
       "      <td>Daniel Thompson</td>\n",
       "      <td>40</td>\n",
       "      <td>1049</td>\n",
       "      <td>DanielThompson1049@mail.com</td>\n",
       "      <td>Daniel</td>\n",
       "      <td>Thompson</td>\n",
       "    </tr>\n",
       "    <tr>\n",
       "      <th>7</th>\n",
       "      <td>Michael Morris</td>\n",
       "      <td>37</td>\n",
       "      <td>1049</td>\n",
       "      <td>MichaelMorris1049@mail.com</td>\n",
       "      <td>Michael</td>\n",
       "      <td>Morris</td>\n",
       "    </tr>\n",
       "    <tr>\n",
       "      <th>8</th>\n",
       "      <td>Walter Ray</td>\n",
       "      <td>78</td>\n",
       "      <td>1087</td>\n",
       "      <td>WalterRay1087@mail.com</td>\n",
       "      <td>Walter</td>\n",
       "      <td>Ray</td>\n",
       "    </tr>\n",
       "    <tr>\n",
       "      <th>9</th>\n",
       "      <td>Ronnie Martin</td>\n",
       "      <td>63</td>\n",
       "      <td>1066</td>\n",
       "      <td>RonnieMartin1066@mail.com</td>\n",
       "      <td>Ronnie</td>\n",
       "      <td>Martin</td>\n",
       "    </tr>\n",
       "    <tr>\n",
       "      <th>10</th>\n",
       "      <td>Edward Davis</td>\n",
       "      <td>72</td>\n",
       "      <td>1098</td>\n",
       "      <td>EdwardDavis1098@mail.com</td>\n",
       "      <td>Edward</td>\n",
       "      <td>Davis</td>\n",
       "    </tr>\n",
       "    <tr>\n",
       "      <th>11</th>\n",
       "      <td>Stephen Allen</td>\n",
       "      <td>58</td>\n",
       "      <td>1035</td>\n",
       "      <td>StephenAllen1035@mail.com</td>\n",
       "      <td>Stephen</td>\n",
       "      <td>Allen</td>\n",
       "    </tr>\n",
       "    <tr>\n",
       "      <th>12</th>\n",
       "      <td>Karen Dean</td>\n",
       "      <td>21</td>\n",
       "      <td>1005</td>\n",
       "      <td>KarenDean1005@mail.com</td>\n",
       "      <td>Karen</td>\n",
       "      <td>Dean</td>\n",
       "    </tr>\n",
       "    <tr>\n",
       "      <th>13</th>\n",
       "      <td>Megan Diaz</td>\n",
       "      <td>46</td>\n",
       "      <td>1064</td>\n",
       "      <td>MeganDiaz1064@mail.com</td>\n",
       "      <td>Megan</td>\n",
       "      <td>Diaz</td>\n",
       "    </tr>\n",
       "    <tr>\n",
       "      <th>14</th>\n",
       "      <td>Laura Sanchez</td>\n",
       "      <td>53</td>\n",
       "      <td>1028</td>\n",
       "      <td>LauraSanchez1028@mail.com</td>\n",
       "      <td>Laura</td>\n",
       "      <td>Sanchez</td>\n",
       "    </tr>\n",
       "    <tr>\n",
       "      <th>15</th>\n",
       "      <td>Dalton Brown</td>\n",
       "      <td>56</td>\n",
       "      <td>1094</td>\n",
       "      <td>DaltonBrown1094@mail.com</td>\n",
       "      <td>Dalton</td>\n",
       "      <td>Brown</td>\n",
       "    </tr>\n",
       "    <tr>\n",
       "      <th>16</th>\n",
       "      <td>Mr. Richard Munoz PhD</td>\n",
       "      <td>71</td>\n",
       "      <td>1012</td>\n",
       "      <td>Mr.Richard1012@mail.com</td>\n",
       "      <td>Mr.</td>\n",
       "      <td>Richard</td>\n",
       "    </tr>\n",
       "    <tr>\n",
       "      <th>17</th>\n",
       "      <td>Gregg Roberts</td>\n",
       "      <td>24</td>\n",
       "      <td>1055</td>\n",
       "      <td>GreggRoberts1055@mail.com</td>\n",
       "      <td>Gregg</td>\n",
       "      <td>Roberts</td>\n",
       "    </tr>\n",
       "    <tr>\n",
       "      <th>18</th>\n",
       "      <td>Alexandra Serrano</td>\n",
       "      <td>69</td>\n",
       "      <td>1020</td>\n",
       "      <td>AlexandraSerrano1020@mail.com</td>\n",
       "      <td>Alexandra</td>\n",
       "      <td>Serrano</td>\n",
       "    </tr>\n",
       "    <tr>\n",
       "      <th>19</th>\n",
       "      <td>Jennifer White</td>\n",
       "      <td>31</td>\n",
       "      <td>1028</td>\n",
       "      <td>JenniferWhite1028@mail.com</td>\n",
       "      <td>Jennifer</td>\n",
       "      <td>White</td>\n",
       "    </tr>\n",
       "  </tbody>\n",
       "</table>\n",
       "</div>"
      ],
      "text/plain": [
       "                     name  age    id                          email  \\\n",
       "0          Nicholas Davis   65  1033     NicholasDavis1033@mail.com   \n",
       "1         Alyssa Marshall   23  1034    AlyssaMarshall1034@mail.com   \n",
       "2         Christian Potts   24  1088    ChristianPotts1088@mail.com   \n",
       "3          Angela Mcclure   85  1084     AngelaMcclure1084@mail.com   \n",
       "4           Debra Russell   58  1090      DebraRussell1090@mail.com   \n",
       "5            Laurie Smith   66  1014       LaurieSmith1014@mail.com   \n",
       "6         Daniel Thompson   40  1049    DanielThompson1049@mail.com   \n",
       "7          Michael Morris   37  1049     MichaelMorris1049@mail.com   \n",
       "8              Walter Ray   78  1087         WalterRay1087@mail.com   \n",
       "9           Ronnie Martin   63  1066      RonnieMartin1066@mail.com   \n",
       "10           Edward Davis   72  1098       EdwardDavis1098@mail.com   \n",
       "11          Stephen Allen   58  1035      StephenAllen1035@mail.com   \n",
       "12             Karen Dean   21  1005         KarenDean1005@mail.com   \n",
       "13             Megan Diaz   46  1064         MeganDiaz1064@mail.com   \n",
       "14          Laura Sanchez   53  1028      LauraSanchez1028@mail.com   \n",
       "15           Dalton Brown   56  1094       DaltonBrown1094@mail.com   \n",
       "16  Mr. Richard Munoz PhD   71  1012        Mr.Richard1012@mail.com   \n",
       "17          Gregg Roberts   24  1055      GreggRoberts1055@mail.com   \n",
       "18      Alexandra Serrano   69  1020  AlexandraSerrano1020@mail.com   \n",
       "19         Jennifer White   31  1028     JenniferWhite1028@mail.com   \n",
       "\n",
       "        fname     lname  \n",
       "0    Nicholas     Davis  \n",
       "1      Alyssa  Marshall  \n",
       "2   Christian     Potts  \n",
       "3      Angela   Mcclure  \n",
       "4       Debra   Russell  \n",
       "5      Laurie     Smith  \n",
       "6      Daniel  Thompson  \n",
       "7     Michael    Morris  \n",
       "8      Walter       Ray  \n",
       "9      Ronnie    Martin  \n",
       "10     Edward     Davis  \n",
       "11    Stephen     Allen  \n",
       "12      Karen      Dean  \n",
       "13      Megan      Diaz  \n",
       "14      Laura   Sanchez  \n",
       "15     Dalton     Brown  \n",
       "16        Mr.   Richard  \n",
       "17      Gregg   Roberts  \n",
       "18  Alexandra   Serrano  \n",
       "19   Jennifer     White  "
      ]
     },
     "execution_count": 178,
     "metadata": {},
     "output_type": "execute_result"
    }
   ],
   "source": [
    "df"
   ]
  },
  {
   "cell_type": "code",
   "execution_count": null,
   "id": "c3a6d32e-0e07-44ac-8a2e-683ed0c49e15",
   "metadata": {},
   "outputs": [],
   "source": []
  }
 ],
 "metadata": {
  "kernelspec": {
   "display_name": "Python 3 (ipykernel)",
   "language": "python",
   "name": "python3"
  },
  "language_info": {
   "codemirror_mode": {
    "name": "ipython",
    "version": 3
   },
   "file_extension": ".py",
   "mimetype": "text/x-python",
   "name": "python",
   "nbconvert_exporter": "python",
   "pygments_lexer": "ipython3",
   "version": "3.9.7"
  }
 },
 "nbformat": 4,
 "nbformat_minor": 5
}
