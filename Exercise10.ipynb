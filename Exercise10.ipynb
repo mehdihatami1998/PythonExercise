{
 "cells": [
  {
   "cell_type": "markdown",
   "id": "e94572d8-8767-45e5-8790-355499f23a00",
   "metadata": {},
   "source": [
    "Create a new list from a two list using the following condition\n",
    "\n",
    "Given a two list of numbers, write a program to create a new list such that the new list should contain odd numbers from the first list and even numbers from the second list.\n",
    "\n"
   ]
  },
  {
   "cell_type": "code",
   "execution_count": 5,
   "id": "abea83cd-862f-473d-a793-2588f97e8289",
   "metadata": {},
   "outputs": [
    {
     "name": "stdout",
     "output_type": "stream",
     "text": [
      "[3, 5, 1, 2, 4, 8]\n"
     ]
    }
   ],
   "source": [
    "# My Answer:\n",
    "def lister(list1, list2):\n",
    "    newList = []\n",
    "    for i in range(len(list1)):\n",
    "        if list1[i]%2 == 1:\n",
    "            newList.append(list1[i])\n",
    "    for i in range(len(list2)):\n",
    "        if list2[i]%2 == 0:\n",
    "            newList.append(list2[i])\n",
    "        \n",
    "    print(newList)\n",
    "lister([2, 3, 5, 4, 1],[1, 3, 2, 5, 4, 7, 9, 8])"
   ]
  },
  {
   "cell_type": "code",
   "execution_count": 4,
   "id": "c6ccfb95-b75b-46da-a2ee-ea9b72d54e77",
   "metadata": {},
   "outputs": [
    {
     "data": {
      "text/plain": [
       "[3, 5, 1, 2, 4, 8]"
      ]
     },
     "execution_count": 4,
     "metadata": {},
     "output_type": "execute_result"
    }
   ],
   "source": [
    "# Sample Answer:\n",
    "\n",
    "def merge_list(list1, list2):\n",
    "    result_list = []\n",
    "    \n",
    "    # iterate first list\n",
    "    for num in list1:\n",
    "        # check if current number is odd\n",
    "        if num % 2 != 0:\n",
    "            # add odd number to result list\n",
    "            result_list.append(num)\n",
    "    \n",
    "    # iterate second list\n",
    "    for num in list2:\n",
    "        # check if current number is even\n",
    "        if num % 2 == 0:\n",
    "            # add even number to result list\n",
    "            result_list.append(num)\n",
    "    return result_list\n",
    "\n",
    "list1 = [2, 3, 5, 4, 1]\n",
    "list2 = [1, 3, 2, 5, 4, 7, 9, 8]\n",
    "merge_list(list1, list2)"
   ]
  }
 ],
 "metadata": {
  "kernelspec": {
   "display_name": "Python 3 (ipykernel)",
   "language": "python",
   "name": "python3"
  },
  "language_info": {
   "codemirror_mode": {
    "name": "ipython",
    "version": 3
   },
   "file_extension": ".py",
   "mimetype": "text/x-python",
   "name": "python",
   "nbconvert_exporter": "python",
   "pygments_lexer": "ipython3",
   "version": "3.9.7"
  }
 },
 "nbformat": 4,
 "nbformat_minor": 5
}
