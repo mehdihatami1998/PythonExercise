{
 "cells": [
  {
   "cell_type": "markdown",
   "id": "01185eb1-6fce-4386-b57d-6ad43e35e7c0",
   "metadata": {},
   "source": [
    "### Exercise 4"
   ]
  },
  {
   "cell_type": "markdown",
   "id": "eaf541db-6552-47cf-9dc3-d40c1ac37d62",
   "metadata": {},
   "source": [
    "Write a program to remove characters from a string starting from zero up to n and return a new string."
   ]
  },
  {
   "cell_type": "code",
   "execution_count": 1,
   "id": "be573bee-0411-4b30-9f93-3958a61060b2",
   "metadata": {},
   "outputs": [
    {
     "name": "stdin",
     "output_type": "stream",
     "text": [
      "insert your string here:   SampleString\n",
      "inser your number up to which you want to remove the string:   3\n"
     ]
    },
    {
     "name": "stdout",
     "output_type": "stream",
     "text": [
      "pleString\n"
     ]
    }
   ],
   "source": [
    "# My initial asnwer:\n",
    "\n",
    "def removechar():\n",
    "    string = input(\"insert your string here:  \")\n",
    "    number = input(\"inser your number up to which you want to remove the string:  \")\n",
    "    num = int(number)\n",
    "    liststring = list(string)\n",
    "    newlist = []\n",
    "    \n",
    "    for items in range(len(liststring)):\n",
    "        if items < num:\n",
    "            pass\n",
    "        else:\n",
    "            newlist.append(liststring[items])\n",
    "    print(''.join(newlist))\n",
    "    \n",
    "    \n",
    "    # in this code, instead of the for loop, I could have used\n",
    "    # only a slicing of lists like this line of code below:\n",
    "    # print(string[num:])\n",
    "\n",
    "removechar()"
   ]
  },
  {
   "cell_type": "code",
   "execution_count": 2,
   "id": "d66f5eb9-18f1-46c6-8a5a-e4ce72a8d7d9",
   "metadata": {},
   "outputs": [
    {
     "name": "stdout",
     "output_type": "stream",
     "text": [
      "Removing characters from a string\n",
      "Original string: pynative\n",
      "tive\n",
      "Original string: pynative\n",
      "native\n"
     ]
    }
   ],
   "source": [
    "# Sample answer\n",
    "def remove_chars(word, n):\n",
    "    print('Original string:', word)\n",
    "    x = word[n:]\n",
    "    return x\n",
    "\n",
    "print(\"Removing characters from a string\")\n",
    "print(remove_chars(\"pynative\", 4))\n",
    "print(remove_chars(\"pynative\", 2))"
   ]
  }
 ],
 "metadata": {
  "kernelspec": {
   "display_name": "Python 3 (ipykernel)",
   "language": "python",
   "name": "python3"
  },
  "language_info": {
   "codemirror_mode": {
    "name": "ipython",
    "version": 3
   },
   "file_extension": ".py",
   "mimetype": "text/x-python",
   "name": "python",
   "nbconvert_exporter": "python",
   "pygments_lexer": "ipython3",
   "version": "3.9.7"
  }
 },
 "nbformat": 4,
 "nbformat_minor": 5
}
