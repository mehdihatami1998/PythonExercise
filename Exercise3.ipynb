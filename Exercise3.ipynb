{
 "cells": [
  {
   "cell_type": "markdown",
   "id": "82537884-21c9-46f7-b156-959674fb5053",
   "metadata": {},
   "source": [
    "### Exercise 3"
   ]
  },
  {
   "cell_type": "markdown",
   "id": "2291f278-649c-4525-a526-23616c776c5d",
   "metadata": {},
   "source": [
    "Print characters from a string that are present at an even index number"
   ]
  },
  {
   "cell_type": "code",
   "execution_count": 4,
   "id": "b27a602d-edef-4b28-9ee3-ed193986b805",
   "metadata": {},
   "outputs": [
    {
     "name": "stdin",
     "output_type": "stream",
     "text": [
      "type your input here SampleWord\n"
     ]
    },
    {
     "name": "stdout",
     "output_type": "stream",
     "text": [
      "S\n",
      "m\n",
      "l\n",
      "W\n",
      "r\n"
     ]
    }
   ],
   "source": [
    "# My initial solution:\n",
    "def evenstr():\n",
    "    user_input = input(\"type your input here\")\n",
    "    a = len(user_input)\n",
    "    for items in range(a):\n",
    "        m = user_input[items]\n",
    "        if items % 2 == 0:\n",
    "            print(m)\n",
    "        else:\n",
    "            pass\n",
    "            \n",
    "evenstr()"
   ]
  },
  {
   "cell_type": "code",
   "execution_count": 5,
   "id": "b14f7d65-bf7d-4b63-9077-a15396128449",
   "metadata": {},
   "outputs": [
    {
     "name": "stdin",
     "output_type": "stream",
     "text": [
      "Enter word  SampleWord\n"
     ]
    },
    {
     "name": "stdout",
     "output_type": "stream",
     "text": [
      "Original String: SampleWord\n",
      "Printing only even index chars\n",
      "index[ 0 ] S\n",
      "index[ 2 ] m\n",
      "index[ 4 ] l\n",
      "index[ 6 ] W\n",
      "index[ 8 ] r\n"
     ]
    }
   ],
   "source": [
    "# Sample answer 1\n",
    "# accept input string from a user\n",
    "word = input('Enter word ')\n",
    "print(\"Original String:\", word)\n",
    "\n",
    "# get the length of a string\n",
    "size = len(word)\n",
    "\n",
    "# iterate a each character of a string\n",
    "# start: 0 to start with first character\n",
    "# stop: size-1 because index starts with 0\n",
    "# step: 2 to get the characters present at even index like 0, 2, 4\n",
    "print(\"Printing only even index chars\")\n",
    "for i in range(0, size - 1, 2):\n",
    "    print(\"index[\", i, \"]\", word[i])"
   ]
  },
  {
   "cell_type": "code",
   "execution_count": 6,
   "id": "338ae6ac-c257-4253-82b1-fa9f3704ef1b",
   "metadata": {},
   "outputs": [
    {
     "name": "stdin",
     "output_type": "stream",
     "text": [
      "Enter word  SampleWord\n"
     ]
    },
    {
     "name": "stdout",
     "output_type": "stream",
     "text": [
      "Original String: SampleWord\n",
      "S\n",
      "m\n",
      "l\n",
      "W\n",
      "r\n"
     ]
    }
   ],
   "source": [
    "# accept input string from a user\n",
    "word = input('Enter word ')\n",
    "print(\"Original String:\", word)\n",
    "\n",
    "# using list slicing\n",
    "# convert string to list\n",
    "# pick only even index chars\n",
    "x = list(word)\n",
    "for i in x[0::2]:\n",
    "    print(i)"
   ]
  },
  {
   "cell_type": "code",
   "execution_count": null,
   "id": "a75fa63f-1511-448a-b6be-2d8b221d6253",
   "metadata": {},
   "outputs": [],
   "source": []
  }
 ],
 "metadata": {
  "kernelspec": {
   "display_name": "Python 3 (ipykernel)",
   "language": "python",
   "name": "python3"
  },
  "language_info": {
   "codemirror_mode": {
    "name": "ipython",
    "version": 3
   },
   "file_extension": ".py",
   "mimetype": "text/x-python",
   "name": "python",
   "nbconvert_exporter": "python",
   "pygments_lexer": "ipython3",
   "version": "3.9.7"
  }
 },
 "nbformat": 4,
 "nbformat_minor": 5
}
