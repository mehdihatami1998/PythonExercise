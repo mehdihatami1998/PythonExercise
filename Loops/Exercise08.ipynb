{
 "cells": [
  {
   "cell_type": "markdown",
   "id": "48907b67-932b-4aff-896e-197793da7973",
   "metadata": {},
   "source": [
    "reate a new list from a two list using the following condition<br>\n",
    "\n",
    "Given a two list of numbers, write a program to create a new list such that the new list should contain odd numbers from the first list and even numbers from the second list."
   ]
  },
  {
   "cell_type": "code",
   "execution_count": 9,
   "id": "fdf65bc7-8a1a-4cbb-8eb5-ab0d413ba00b",
   "metadata": {},
   "outputs": [
    {
     "name": "stdin",
     "output_type": "stream",
     "text": [
      "Enter your first list and split numbers with comma 1,2,3,4,5,6\n",
      "Enter your second list and split numbers with comma 7,8,9,10,11,12\n"
     ]
    },
    {
     "name": "stdout",
     "output_type": "stream",
     "text": [
      "[1, 3, 5, 8, 10, 12]\n"
     ]
    }
   ],
   "source": [
    "# My answer\n",
    "def lister():\n",
    "    list1 = input(\"Enter your first list and split numbers with comma\").split(\",\")\n",
    "    list2 = input(\"Enter your second list and split numbers with comma\").split(\",\")\n",
    "    newlist = []\n",
    "    for i in range(len(list1)):\n",
    "        if int(list1[i]) % 2 == 0:\n",
    "            pass\n",
    "        else:\n",
    "            newlist.append(int(list1[i]))\n",
    "        \n",
    "    for j in range(len(list2)):\n",
    "        if int(list2[j]) % 2 == 0:\n",
    "            newlist.append(int(list2[j]))\n",
    "        else:\n",
    "            pass\n",
    "            \n",
    "            \n",
    "    print(newlist)\n",
    "            \n",
    "        \n",
    "lister()"
   ]
  },
  {
   "cell_type": "code",
   "execution_count": 11,
   "id": "85315b70-cff4-4167-aa72-1b18f1175ec5",
   "metadata": {},
   "outputs": [
    {
     "data": {
      "text/plain": [
       "[1, 3, 5, 8, 10, 12]"
      ]
     },
     "execution_count": 11,
     "metadata": {},
     "output_type": "execute_result"
    }
   ],
   "source": [
    "# Sample Answer:\n",
    "def merge_list(list1, list2):\n",
    "    result_list = []\n",
    "    \n",
    "    # iterate first list\n",
    "    for num in list1:\n",
    "        # check if current number is odd\n",
    "        if num % 2 != 0:\n",
    "            # add odd number to result list\n",
    "            result_list.append(num)\n",
    "    \n",
    "    # iterate second list\n",
    "    for num in list2:\n",
    "        # check if current number is even\n",
    "        if num % 2 == 0:\n",
    "            # add even number to result list\n",
    "            result_list.append(num)\n",
    "    return result_list\n",
    "\n",
    "list1 = [1,2,3,4,5,6]\n",
    "list2 = [7,8,9,10,11,12]\n",
    "merge_list(list1, list2)"
   ]
  }
 ],
 "metadata": {
  "kernelspec": {
   "display_name": "Python 3 (ipykernel)",
   "language": "python",
   "name": "python3"
  },
  "language_info": {
   "codemirror_mode": {
    "name": "ipython",
    "version": 3
   },
   "file_extension": ".py",
   "mimetype": "text/x-python",
   "name": "python",
   "nbconvert_exporter": "python",
   "pygments_lexer": "ipython3",
   "version": "3.9.7"
  }
 },
 "nbformat": 4,
 "nbformat_minor": 5
}
