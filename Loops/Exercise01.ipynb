{
 "cells": [
  {
   "cell_type": "markdown",
   "id": "8209b956-5904-4ed6-8dae-f07b14636b21",
   "metadata": {},
   "source": [
    "Write a program to print the cube of all numbers from 1 to a given number"
   ]
  },
  {
   "cell_type": "code",
   "execution_count": 6,
   "id": "c586d8bb-3ba3-4fbf-9758-18fb1f45bbee",
   "metadata": {},
   "outputs": [
    {
     "name": "stdin",
     "output_type": "stream",
     "text": [
      "Enter the end of the list here:  6\n"
     ]
    },
    {
     "name": "stdout",
     "output_type": "stream",
     "text": [
      " the cube of 1 is 1\n",
      " the cube of 2 is 8\n",
      " the cube of 3 is 27\n",
      " the cube of 4 is 64\n",
      " the cube of 5 is 125\n",
      " the cube of 6 is 216\n"
     ]
    }
   ],
   "source": [
    "# My answer:\n",
    "def cube_printer():\n",
    "    \"\"\"\n",
    "    printing the 3rd power of the list of numbers from one to our given number\n",
    "    \n",
    "    Args:\n",
    "    num (int): the number that user enters\n",
    "    \n",
    "    Returns:\n",
    "    \n",
    "    \"\"\"\n",
    "    # change string to integer simultaneously\n",
    "    num = int(input(\"Enter the end of the list here: \"))\n",
    "    for i in range(1, num+1):\n",
    "        print(f\" the cube of {i} is {i**3}\")\n",
    "        \n",
    "cube_printer()\n",
    "              "
   ]
  },
  {
   "cell_type": "code",
   "execution_count": 5,
   "id": "6abe6ba7-d270-487a-8efb-809f308a5ea6",
   "metadata": {},
   "outputs": [
    {
     "name": "stdout",
     "output_type": "stream",
     "text": [
      "Current Number is : 1  and the cube is 1\n",
      "Current Number is : 2  and the cube is 8\n",
      "Current Number is : 3  and the cube is 27\n",
      "Current Number is : 4  and the cube is 64\n",
      "Current Number is : 5  and the cube is 125\n",
      "Current Number is : 6  and the cube is 216\n"
     ]
    }
   ],
   "source": [
    "# Sample answer:\n",
    "\n",
    "input_number = 6\n",
    "for i in range(1, input_number + 1):\n",
    "    print(\"Current Number is :\", i, \" and the cube is\", (i * i * i))\n"
   ]
  }
 ],
 "metadata": {
  "kernelspec": {
   "display_name": "Python 3 (ipykernel)",
   "language": "python",
   "name": "python3"
  },
  "language_info": {
   "codemirror_mode": {
    "name": "ipython",
    "version": 3
   },
   "file_extension": ".py",
   "mimetype": "text/x-python",
   "name": "python",
   "nbconvert_exporter": "python",
   "pygments_lexer": "ipython3",
   "version": "3.9.7"
  }
 },
 "nbformat": 4,
 "nbformat_minor": 5
}
