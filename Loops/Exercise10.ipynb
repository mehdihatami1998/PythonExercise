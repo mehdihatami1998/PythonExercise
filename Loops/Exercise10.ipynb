{
 "cells": [
  {
   "cell_type": "markdown",
   "id": "1558dad8-d10f-428f-b63e-adc66253ccfb",
   "metadata": {},
   "source": [
    "Print downward Half-Pyramid Pattern with Star (asterisk)"
   ]
  },
  {
   "cell_type": "code",
   "execution_count": 8,
   "id": "4b7c402f-8d26-4af7-8063-969d2ee09b95",
   "metadata": {},
   "outputs": [
    {
     "name": "stdin",
     "output_type": "stream",
     "text": [
      "Enter the number of rows you want to have asterisk:  5\n"
     ]
    },
    {
     "name": "stdout",
     "output_type": "stream",
     "text": [
      "*****\n",
      "****\n",
      "***\n",
      "**\n",
      "*\n"
     ]
    }
   ],
   "source": [
    "# My Answer:\n",
    "def asterisk():\n",
    "    number = int(input(\"Enter the number of rows you want to have asterisk: \"))\n",
    "    for i in range(number):\n",
    "        for j in range(number-i):\n",
    "            print(\"*\", end=\"\")\n",
    "        print()\n",
    "        \n",
    "\n",
    "         \n",
    "        \n",
    "asterisk()"
   ]
  },
  {
   "cell_type": "code",
   "execution_count": null,
   "id": "78f5627f-9b1b-4d9a-89ea-9907966e9735",
   "metadata": {},
   "outputs": [],
   "source": []
  }
 ],
 "metadata": {
  "kernelspec": {
   "display_name": "Python 3 (ipykernel)",
   "language": "python",
   "name": "python3"
  },
  "language_info": {
   "codemirror_mode": {
    "name": "ipython",
    "version": 3
   },
   "file_extension": ".py",
   "mimetype": "text/x-python",
   "name": "python",
   "nbconvert_exporter": "python",
   "pygments_lexer": "ipython3",
   "version": "3.9.7"
  }
 },
 "nbformat": 4,
 "nbformat_minor": 5
}
