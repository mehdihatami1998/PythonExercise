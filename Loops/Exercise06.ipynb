{
 "cells": [
  {
   "cell_type": "markdown",
   "id": "4df74308-27aa-49e8-9d1d-8e1a9497787e",
   "metadata": {},
   "source": [
    "Print the following pattern.<br>\n",
    "1<br>\n",
    "2 2<br>\n",
    "3 3 3<br>\n",
    "4 4 4 4<br>\n",
    "5 5 5 5 5"
   ]
  },
  {
   "cell_type": "code",
   "execution_count": 7,
   "id": "8d72a15b-35a2-4c2e-9e2c-5598a5ebbc9e",
   "metadata": {},
   "outputs": [
    {
     "name": "stdin",
     "output_type": "stream",
     "text": [
      "Enter your number here 5\n"
     ]
    },
    {
     "name": "stdout",
     "output_type": "stream",
     "text": [
      "\n",
      "1 \n",
      "2 2 \n",
      "3 3 3 \n",
      "4 4 4 4 \n",
      "5 5 5 5 5 \n"
     ]
    }
   ],
   "source": [
    "# My Solution:\n",
    "def triangle():\n",
    "    \"\"\"\n",
    "    Printing the given pattern\n",
    "    \n",
    "    Args:\n",
    "    num (int): number of the rows and the number which will be printed on each row \n",
    "    \n",
    "    \"\"\"\n",
    "    num = int(input(\"Enter your number here\"))\n",
    "    for i in range(num+1):\n",
    "        \n",
    "        for j in range(i):\n",
    "            \n",
    "            print (i, end=\" \")\n",
    "        print()\n",
    "\n",
    "triangle()"
   ]
  },
  {
   "cell_type": "code",
   "execution_count": 9,
   "id": "a6b69c81-3819-4478-a886-4dd1ed5f1513",
   "metadata": {},
   "outputs": [
    {
     "name": "stdout",
     "output_type": "stream",
     "text": [
      "\n",
      "\n",
      "1 \n",
      "\n",
      "2 2 \n",
      "\n",
      "3 3 3 \n",
      "\n",
      "4 4 4 4 \n",
      "\n"
     ]
    }
   ],
   "source": [
    "# Sample Answer:\n",
    "for num in range(5):\n",
    "    for i in range(num):\n",
    "        print (num, end=\" \") #print number\n",
    "    # new line after each row to display pattern correctly\n",
    "    print(\"\\n\")"
   ]
  }
 ],
 "metadata": {
  "kernelspec": {
   "display_name": "Python 3 (ipykernel)",
   "language": "python",
   "name": "python3"
  },
  "language_info": {
   "codemirror_mode": {
    "name": "ipython",
    "version": 3
   },
   "file_extension": ".py",
   "mimetype": "text/x-python",
   "name": "python",
   "nbconvert_exporter": "python",
   "pygments_lexer": "ipython3",
   "version": "3.9.7"
  }
 },
 "nbformat": 4,
 "nbformat_minor": 5
}
