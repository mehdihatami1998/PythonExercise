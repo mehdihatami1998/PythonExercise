{
 "cells": [
  {
   "cell_type": "markdown",
   "id": "8e1caad5-fcf3-4754-aa11-030ec4ad4486",
   "metadata": {},
   "source": [
    "Write a program to print the following number pattern using a loop.\n",
    "\n",
    "1 <br>\n",
    "1 2<br>\n",
    "1 2 3<br>\n",
    "1 2 3 4<br>\n",
    "1 2 3 4 5<br>"
   ]
  },
  {
   "cell_type": "code",
   "execution_count": 5,
   "id": "5c97638c-5b77-47df-984b-379ad3dc5933",
   "metadata": {},
   "outputs": [
    {
     "name": "stdin",
     "output_type": "stream",
     "text": [
      "Enter the number of lines here:  5\n"
     ]
    },
    {
     "name": "stdout",
     "output_type": "stream",
     "text": [
      "[1]\n",
      "[1, 2]\n",
      "[1, 2, 3]\n",
      "[1, 2, 3, 4]\n",
      "[1, 2, 3, 4, 5]\n"
     ]
    }
   ],
   "source": [
    "def triangle():\n",
    "    \"\"\"\n",
    "    print the list of numbers from 1 to i on the i-th line\n",
    "    \n",
    "    Args:\n",
    "    num (int): number of the lines\n",
    "    Returns:\n",
    "    \n",
    "    \"\"\"\n",
    "    num = int(input(\"Enter the number of lines here: \"))\n",
    "    my_list = []\n",
    "    for i in range(num):\n",
    "        i += 1\n",
    "        my_list.append(i)\n",
    "        print(my_list[:], sep=\" \")\n",
    "        \n",
    "triangle()"
   ]
  },
  {
   "cell_type": "code",
   "execution_count": 17,
   "id": "1da3770f-ef5c-417b-a4a4-d8383842c198",
   "metadata": {},
   "outputs": [
    {
     "name": "stdout",
     "output_type": "stream",
     "text": [
      "Number Pattern \n",
      "1 \n",
      "1 2 \n",
      "1 2 3 \n",
      "1 2 3 4 \n",
      "1 2 3 4 5 \n"
     ]
    }
   ],
   "source": [
    "print(\"Number Pattern \")\n",
    "\n",
    "# Decide the row count. (above pattern contains 5 rows)\n",
    "row = 5\n",
    "# start: 1\n",
    "# stop: row+1 (range never include stop number in result)\n",
    "# step: 1\n",
    "# run loop 5 times\n",
    "for i in range(1, row + 1, 1):\n",
    "    # Run inner loop i+1 times\n",
    "    for j in range(1, i + 1):\n",
    "        print(j, end=' ')\n",
    "    # empty line after each row\n",
    "    print(\"\")\n"
   ]
  }
 ],
 "metadata": {
  "kernelspec": {
   "display_name": "Python 3 (ipykernel)",
   "language": "python",
   "name": "python3"
  },
  "language_info": {
   "codemirror_mode": {
    "name": "ipython",
    "version": 3
   },
   "file_extension": ".py",
   "mimetype": "text/x-python",
   "name": "python",
   "nbconvert_exporter": "python",
   "pygments_lexer": "ipython3",
   "version": "3.9.7"
  }
 },
 "nbformat": 4,
 "nbformat_minor": 5
}
