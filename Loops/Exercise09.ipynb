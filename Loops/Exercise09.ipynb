{
 "cells": [
  {
   "cell_type": "markdown",
   "id": "d76bbf33-5c9e-4b2d-a3e4-27690eff732a",
   "metadata": {},
   "source": [
    "Write a Program to extract each digit from an integer in the reverse order.<br>\n",
    "For example, If the given int is 7536, the output shall be “6 3 5 7“, with a space separating the digits."
   ]
  },
  {
   "cell_type": "code",
   "execution_count": 11,
   "id": "77323e38-6dc2-4c05-9dc0-cae976521729",
   "metadata": {},
   "outputs": [
    {
     "name": "stdin",
     "output_type": "stream",
     "text": [
      "Enter your number here:  234567\n"
     ]
    },
    {
     "name": "stdout",
     "output_type": "stream",
     "text": [
      "7 6 5 4 3 2 "
     ]
    }
   ],
   "source": [
    "# My Answer:\n",
    "def reverser():\n",
    "    my_number = input(\"Enter your number here: \")\n",
    "    reversed_number = my_number[-1::-1]\n",
    "    my_list = list(reversed_number)\n",
    "\n",
    "    for i in range(len(my_list)):\n",
    "        print(my_list[i], end=\" \")\n",
    "        pass\n",
    "    pass\n",
    "reverser()\n"
   ]
  },
  {
   "cell_type": "code",
   "execution_count": 6,
   "id": "9bb3211b-5633-4ce3-88ee-29464dfe5f4c",
   "metadata": {},
   "outputs": [
    {
     "name": "stdout",
     "output_type": "stream",
     "text": [
      "Given number 234567\n",
      "7 6 5 4 3 2 "
     ]
    }
   ],
   "source": [
    "# Sample Answer\n",
    "number = 234567\n",
    "print(\"Given number\", number)\n",
    "while number > 0:\n",
    "    # get the last digit\n",
    "    digit = number % 10\n",
    "    # remove the last digit and repeat the loop\n",
    "    number = number // 10\n",
    "    print(digit, end=\" \")"
   ]
  }
 ],
 "metadata": {
  "kernelspec": {
   "display_name": "Python 3 (ipykernel)",
   "language": "python",
   "name": "python3"
  },
  "language_info": {
   "codemirror_mode": {
    "name": "ipython",
    "version": 3
   },
   "file_extension": ".py",
   "mimetype": "text/x-python",
   "name": "python",
   "nbconvert_exporter": "python",
   "pygments_lexer": "ipython3",
   "version": "3.9.7"
  }
 },
 "nbformat": 4,
 "nbformat_minor": 5
}
