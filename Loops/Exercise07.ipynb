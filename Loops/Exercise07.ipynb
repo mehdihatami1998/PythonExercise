{
 "cells": [
  {
   "cell_type": "markdown",
   "id": "ecc51007-df8e-42c2-8d12-214f104fe636",
   "metadata": {},
   "source": [
    "Write a program to check if the given number is a palindrome number.<br>\n",
    "A palindrome number is a number that is same after reverse. For example 545, is the palindrome numbers"
   ]
  },
  {
   "cell_type": "code",
   "execution_count": 36,
   "id": "5e5a0799-ecdc-42a8-b2ee-7762831f0f09",
   "metadata": {},
   "outputs": [
    {
     "name": "stdin",
     "output_type": "stream",
     "text": [
      "Enter your number here:  123321\n"
     ]
    },
    {
     "name": "stdout",
     "output_type": "stream",
     "text": [
      "the order of numbers in your original number was:  ['1', '2', '3', '3', '2', '1']\n",
      "the order of numbers in your reversed number was:  ['1', '2', '3', '3', '2', '1']\n",
      "Original and reversed number were equal, thus the number is Palindrome\n"
     ]
    }
   ],
   "source": [
    "# My initial answer without indexing (The hard way :D)\n",
    "# check the next code for my 2nd answer\n",
    "def check_pal():\n",
    "    \"\"\"\n",
    "    checking whether the given number is palindrome or not\n",
    "    Args:\n",
    "    original_number (str): the number which user gives to the program\n",
    "    original_list  (list): a list created from the original_number\n",
    "    \n",
    "    Returns:\n",
    "    \n",
    "    \n",
    "    \"\"\"\n",
    "    original_number = input(\"Enter your number here: \")\n",
    "    original_list = list(original_number)\n",
    "    original_list1 = []\n",
    "    original_list1[:] = original_list\n",
    "    reversed_list = []\n",
    "    for i in range(len(original_list)):\n",
    "        reversed_list.append(original_list.pop())\n",
    "    \n",
    "    \n",
    "    print(\"the order of numbers in your original number was: \", original_list1)\n",
    "    print(\"the order of numbers in your reversed number was: \", reversed_list)\n",
    "    \n",
    "    if original_list1 == reversed_list:\n",
    "        print(\"Original and reversed number were equal, thus the number is Palindrome\")\n",
    "    else:\n",
    "        print(\"Original and reversed number weren't equal, thus the number is NOT palindrome\")\n",
    "        \n",
    "check_pal()"
   ]
  },
  {
   "cell_type": "code",
   "execution_count": 46,
   "id": "032653f6-28fe-41bf-92bb-05b78400c5a0",
   "metadata": {},
   "outputs": [
    {
     "name": "stdin",
     "output_type": "stream",
     "text": [
      "Enter your number here:  123321\n"
     ]
    },
    {
     "name": "stdout",
     "output_type": "stream",
     "text": [
      "123321\n",
      "the number is palindrome\n"
     ]
    }
   ],
   "source": [
    "# My second answer using indexing\n",
    "def check_pal():\n",
    "    original_number = input(\"Enter your number here: \")\n",
    "    reversed_number = original_number[-1::-1]\n",
    "    print(reversed_number)\n",
    "    \n",
    "    if original_number == reversed_number:\n",
    "        print(\"the number is palindrome\")\n",
    "    else:\n",
    "        print(\"the number is not palindrome\")\n",
    "check_pal()\n",
    "    "
   ]
  },
  {
   "cell_type": "code",
   "execution_count": 48,
   "id": "191f5ae4-6164-4904-88db-229cf8c6b672",
   "metadata": {},
   "outputs": [
    {
     "name": "stdout",
     "output_type": "stream",
     "text": [
      "original number 123321\n",
      "Given number palindrome\n"
     ]
    }
   ],
   "source": [
    "# Sample Answer:\n",
    "def palindrome(number):\n",
    "    print(\"original number\", number)\n",
    "    original_num = number\n",
    "    \n",
    "    # reverse the given number\n",
    "    reverse_num = 0\n",
    "    while number > 0:\n",
    "        reminder = number % 10\n",
    "        reverse_num = (reverse_num * 10) + reminder\n",
    "        number = number // 10\n",
    "\n",
    "    # check numbers\n",
    "    if original_num == reverse_num:\n",
    "        print(\"Given number palindrome\")\n",
    "    else:\n",
    "        print(\"Given number is not palindrome\")\n",
    "        \n",
    "palindrome(123321)"
   ]
  }
 ],
 "metadata": {
  "kernelspec": {
   "display_name": "Python 3 (ipykernel)",
   "language": "python",
   "name": "python3"
  },
  "language_info": {
   "codemirror_mode": {
    "name": "ipython",
    "version": 3
   },
   "file_extension": ".py",
   "mimetype": "text/x-python",
   "name": "python",
   "nbconvert_exporter": "python",
   "pygments_lexer": "ipython3",
   "version": "3.9.7"
  }
 },
 "nbformat": 4,
 "nbformat_minor": 5
}
