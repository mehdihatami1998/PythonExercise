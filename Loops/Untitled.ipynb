{
 "cells": [
  {
   "cell_type": "markdown",
   "id": "ecc51007-df8e-42c2-8d12-214f104fe636",
   "metadata": {},
   "source": [
    "Write a program to check if the given number is a palindrome number.<br>\n",
    "A palindrome number is a number that is same after reverse. For example 545, is the palindrome numbers"
   ]
  },
  {
   "cell_type": "code",
   "execution_count": null,
   "id": "5e5a0799-ecdc-42a8-b2ee-7762831f0f09",
   "metadata": {},
   "outputs": [],
   "source": [
    "def check_pal():\n",
    "    \"\"\"\n",
    "    checking whether the given number is palindrome or not\n",
    "    "
   ]
  }
 ],
 "metadata": {
  "kernelspec": {
   "display_name": "Python 3 (ipykernel)",
   "language": "python",
   "name": "python3"
  },
  "language_info": {
   "codemirror_mode": {
    "name": "ipython",
    "version": 3
   },
   "file_extension": ".py",
   "mimetype": "text/x-python",
   "name": "python",
   "nbconvert_exporter": "python",
   "pygments_lexer": "ipython3",
   "version": "3.9.7"
  }
 },
 "nbformat": 4,
 "nbformat_minor": 5
}
