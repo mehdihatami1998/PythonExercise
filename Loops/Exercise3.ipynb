{
 "cells": [
  {
   "cell_type": "markdown",
   "id": "c793ca57-fdcc-45e8-b2af-17c1a3dc82fd",
   "metadata": {},
   "source": [
    "Write a program to accept a number from a user and calculate the sum of all numbers from 1 to a given number"
   ]
  },
  {
   "cell_type": "code",
   "execution_count": 2,
   "id": "d3239731-bd0a-47f2-a93c-45a6b11ee5ab",
   "metadata": {},
   "outputs": [
    {
     "name": "stdin",
     "output_type": "stream",
     "text": [
      "Enter your number to which you want the sum:  25\n"
     ]
    },
    {
     "data": {
      "text/plain": [
       "325"
      ]
     },
     "execution_count": 2,
     "metadata": {},
     "output_type": "execute_result"
    }
   ],
   "source": [
    "# My Answer:\n",
    "def sumer():\n",
    "    \"\"\"\n",
    "    summing all numbers from 1 to the given number by user\n",
    "    \n",
    "    Args:\n",
    "    my_num (int): the number which user gives to the program\n",
    "    \n",
    "    Returns:\n",
    "    my_sum (int): sum of the numbers from 1 to my_num\n",
    "    \"\"\"\n",
    "    my_num = int(input(\"Enter your number to which you want the sum: \"))\n",
    "    my_sum = 0\n",
    "    for i in range(1, my_num+1):\n",
    "        my_sum += i\n",
    "        \n",
    "    return my_sum\n",
    "sumer()"
   ]
  },
  {
   "cell_type": "code",
   "execution_count": 3,
   "id": "fbfde7da-26a2-44d9-8848-1bb20a6a88cf",
   "metadata": {},
   "outputs": [
    {
     "name": "stdin",
     "output_type": "stream",
     "text": [
      "Enter number  25\n"
     ]
    },
    {
     "name": "stdout",
     "output_type": "stream",
     "text": [
      "\n",
      "\n",
      "Sum is:  325\n"
     ]
    }
   ],
   "source": [
    "# s: store sum of all numbers\n",
    "s = 0\n",
    "n = int(input(\"Enter number \"))\n",
    "# run loop n times\n",
    "# stop: n+1 (because range never include stop number in result)\n",
    "for i in range(1, n + 1, 1):\n",
    "    # add current number to sum variable\n",
    "    s += i\n",
    "print(\"\\n\")\n",
    "print(\"Sum is: \", s)\n"
   ]
  }
 ],
 "metadata": {
  "kernelspec": {
   "display_name": "Python 3 (ipykernel)",
   "language": "python",
   "name": "python3"
  },
  "language_info": {
   "codemirror_mode": {
    "name": "ipython",
    "version": 3
   },
   "file_extension": ".py",
   "mimetype": "text/x-python",
   "name": "python",
   "nbconvert_exporter": "python",
   "pygments_lexer": "ipython3",
   "version": "3.9.7"
  }
 },
 "nbformat": 4,
 "nbformat_minor": 5
}
