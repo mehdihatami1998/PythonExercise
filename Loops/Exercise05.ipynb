{
 "cells": [
  {
   "cell_type": "markdown",
   "id": "5d10e49f-dd94-4747-b548-42d9aaaa5c31",
   "metadata": {},
   "source": [
    "Write a program to display only those numbers from a list that satisfy the following conditions <br>\n",
    "The number must be divisible by five <br>\n",
    "If the number is greater than 150, then skip it and move to the next number <br>\n",
    "If the number is greater than 500, then stop the loop <br>\n",
    "\n",
    "\n"
   ]
  },
  {
   "cell_type": "code",
   "execution_count": 24,
   "id": "ee887aed-11be-4199-94a1-86f772cd7b7a",
   "metadata": {},
   "outputs": [
    {
     "name": "stdin",
     "output_type": "stream",
     "text": [
      "Enter your numbers divided by a comma:  12, 75, 150, 180, 145, 525, 50\n"
     ]
    },
    {
     "name": "stdout",
     "output_type": "stream",
     "text": [
      " 75\n",
      " 150\n",
      " 145\n",
      "['12', ' 75', ' 150', ' 180', ' 145', ' 525', ' 50']\n"
     ]
    }
   ],
   "source": [
    "# My Answer\n",
    "def my_func():\n",
    "    \"\"\"\n",
    "    printing numbers that meet the conditions\n",
    "    \n",
    "    Args:\n",
    "    list_str (list): list of numbers asked from the user in string format\n",
    "    \n",
    "    Returns:\n",
    "    \n",
    "    \"\"\"\n",
    "    list_str = input(\"Enter your numbers divided by a comma: \").split(\",\")\n",
    "    for i in range(len(list_str)):\n",
    "        if int(list_str[i]) > 500:\n",
    "            break\n",
    "        elif int(list_str[i]) >150:\n",
    "            continue\n",
    "        elif int(list_str[i]) % 5 == 0:\n",
    "            print(list_str[i])\n",
    "\n",
    "    print(list_str)\n",
    "                \n",
    "my_func()\n",
    "    "
   ]
  },
  {
   "cell_type": "code",
   "execution_count": 25,
   "id": "f73ecf73-032a-468c-8dbc-9f78df23303a",
   "metadata": {},
   "outputs": [
    {
     "name": "stdout",
     "output_type": "stream",
     "text": [
      "75\n",
      "150\n",
      "145\n"
     ]
    }
   ],
   "source": [
    "# Sample Answer\n",
    "numbers = [12, 75, 150, 180, 145, 525, 50]\n",
    "# iterate each item of a list\n",
    "for item in numbers:\n",
    "    if item > 500:\n",
    "        break\n",
    "    elif item > 150:\n",
    "        continue\n",
    "    # check if number is divisible by 5\n",
    "    elif item % 5 == 0:\n",
    "        print(item)\n"
   ]
  }
 ],
 "metadata": {
  "kernelspec": {
   "display_name": "Python 3 (ipykernel)",
   "language": "python",
   "name": "python3"
  },
  "language_info": {
   "codemirror_mode": {
    "name": "ipython",
    "version": 3
   },
   "file_extension": ".py",
   "mimetype": "text/x-python",
   "name": "python",
   "nbconvert_exporter": "python",
   "pygments_lexer": "ipython3",
   "version": "3.9.7"
  }
 },
 "nbformat": 4,
 "nbformat_minor": 5
}
