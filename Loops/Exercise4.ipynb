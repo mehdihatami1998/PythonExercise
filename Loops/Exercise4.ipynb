{
 "cells": [
  {
   "cell_type": "markdown",
   "id": "802434dc-b0e7-47a1-b95f-f34c89559052",
   "metadata": {},
   "source": [
    "Write a program to print multiplication table of a given number <br>\n",
    "\n",
    "(e.g. for 2 it should print below)<br>\n",
    "2<br>\n",
    "4<br>\n",
    "6<br>\n",
    "8<br>\n",
    "10<br>\n",
    "12<br>\n",
    "14<br>\n",
    "16<br>\n",
    "18<br>\n",
    "20"
   ]
  },
  {
   "cell_type": "code",
   "execution_count": 2,
   "id": "e3263444-131e-4499-a274-d99676864cdf",
   "metadata": {},
   "outputs": [
    {
     "name": "stdin",
     "output_type": "stream",
     "text": [
      "Enter your number to get the multiplication table 4\n"
     ]
    },
    {
     "name": "stdout",
     "output_type": "stream",
     "text": [
      "4\n",
      "8\n",
      "12\n",
      "16\n",
      "20\n",
      "24\n",
      "28\n",
      "32\n",
      "36\n",
      "40\n"
     ]
    }
   ],
   "source": [
    "# My Answer\n",
    "def table():\n",
    "    \"\"\" \n",
    "    printing multiplication table\n",
    "    \n",
    "    Args:\n",
    "    number (int): the number of which we want the multiplication table\n",
    "    Returns:\n",
    "    \n",
    "    \"\"\"\n",
    "    number = int(input(\"Enter your number to get the multiplication table\"))\n",
    "    for i in range(1, 11):\n",
    "        print(i * number)\n",
    "table()"
   ]
  },
  {
   "cell_type": "code",
   "execution_count": 3,
   "id": "113c60a8-f45e-4048-a582-28f0de46f3ca",
   "metadata": {},
   "outputs": [
    {
     "name": "stdout",
     "output_type": "stream",
     "text": [
      "4\n",
      "8\n",
      "12\n",
      "16\n",
      "20\n",
      "24\n",
      "28\n",
      "32\n",
      "36\n",
      "40\n"
     ]
    }
   ],
   "source": [
    "# Sample Answer\n",
    "n = 4\n",
    "# stop: 11 (because range never include stop number in result)\n",
    "# run loop 10 times\n",
    "for i in range(1, 11, 1):\n",
    "    # 2 *i (current number)\n",
    "    product = n * i\n",
    "    print(product)"
   ]
  }
 ],
 "metadata": {
  "kernelspec": {
   "display_name": "Python 3 (ipykernel)",
   "language": "python",
   "name": "python3"
  },
  "language_info": {
   "codemirror_mode": {
    "name": "ipython",
    "version": 3
   },
   "file_extension": ".py",
   "mimetype": "text/x-python",
   "name": "python",
   "nbconvert_exporter": "python",
   "pygments_lexer": "ipython3",
   "version": "3.9.7"
  }
 },
 "nbformat": 4,
 "nbformat_minor": 5
}
