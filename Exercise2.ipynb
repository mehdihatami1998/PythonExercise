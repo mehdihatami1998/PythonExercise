{
 "cells": [
  {
   "cell_type": "markdown",
   "id": "789e8552",
   "metadata": {},
   "source": [
    "### Exercise 2"
   ]
  },
  {
   "cell_type": "markdown",
   "id": "2c88b70c",
   "metadata": {},
   "source": [
    "Write a program to iterate the first 10 numbers and in each iteration, print the sum of the current and previous number.\n",
    "\n"
   ]
  },
  {
   "cell_type": "code",
   "execution_count": 1,
   "id": "6b1bb027",
   "metadata": {},
   "outputs": [
    {
     "name": "stdout",
     "output_type": "stream",
     "text": [
      " current is 1, and previous is 1, sum is 2\n",
      " current is 2, and previous is 1, sum is 3\n",
      " current is 3, and previous is 2, sum is 5\n",
      " current is 4, and previous is 3, sum is 7\n",
      " current is 5, and previous is 4, sum is 9\n",
      " current is 6, and previous is 5, sum is 11\n",
      " current is 7, and previous is 6, sum is 13\n",
      " current is 8, and previous is 7, sum is 15\n",
      " current is 9, and previous is 8, sum is 17\n",
      " current is 10, and previous is 9, sum is 19\n"
     ]
    }
   ],
   "source": [
    "# My initial answer:\n",
    "previous_sum = 0\n",
    "myList = []\n",
    "i = 0\n",
    "for item in range(1,11):\n",
    "    \n",
    "    myList.append(item)\n",
    "    # print(myList)\n",
    "    i = i + 1\n",
    "    a = myList[i-1]\n",
    "    b = myList[i-2]\n",
    "    # a= myList[len(myList)-1] + myList[len(myList)-2]\n",
    "    print(f' current is {a}, and previous is {b}, sum is {a+b}')\n"
   ]
  },
  {
   "cell_type": "code",
   "execution_count": 3,
   "id": "f17f9eb4",
   "metadata": {},
   "outputs": [
    {
     "name": "stdout",
     "output_type": "stream",
     "text": [
      "Printing current and previous number and their sum in a range(10)\n",
      "Current Number 1 Previous Number  0  Sum:  1\n",
      "Current Number 2 Previous Number  1  Sum:  3\n",
      "Current Number 3 Previous Number  2  Sum:  5\n",
      "Current Number 4 Previous Number  3  Sum:  7\n",
      "Current Number 5 Previous Number  4  Sum:  9\n",
      "Current Number 6 Previous Number  5  Sum:  11\n",
      "Current Number 7 Previous Number  6  Sum:  13\n",
      "Current Number 8 Previous Number  7  Sum:  15\n",
      "Current Number 9 Previous Number  8  Sum:  17\n",
      "Current Number 10 Previous Number  9  Sum:  19\n"
     ]
    }
   ],
   "source": [
    "# sample answer:\n",
    "print(\"Printing current and previous number and their sum in a range(10)\")\n",
    "previous_num = 0\n",
    "\n",
    "# loop from 1 to 10\n",
    "for i in range(1, 11):\n",
    "    x_sum = previous_num + i\n",
    "    print(\"Current Number\", i, \"Previous Number \", previous_num, \" Sum: \", previous_num + i)\n",
    "    # modify previous number\n",
    "    # set it to the current number\n",
    "    previous_num = i"
   ]
  },
  {
   "cell_type": "code",
   "execution_count": null,
   "id": "4036e3f7",
   "metadata": {},
   "outputs": [],
   "source": []
  }
 ],
 "metadata": {
  "kernelspec": {
   "display_name": "Python 3 (ipykernel)",
   "language": "python",
   "name": "python3"
  },
  "language_info": {
   "codemirror_mode": {
    "name": "ipython",
    "version": 3
   },
   "file_extension": ".py",
   "mimetype": "text/x-python",
   "name": "python",
   "nbconvert_exporter": "python",
   "pygments_lexer": "ipython3",
   "version": "3.9.7"
  }
 },
 "nbformat": 4,
 "nbformat_minor": 5
}
